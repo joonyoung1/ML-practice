{
 "cells": [
  {
   "cell_type": "markdown",
   "metadata": {
    "id": "pi5cTRHKoB-n"
   },
   "source": [
    "### Pytorch로 Softmax Regression 구현"
   ]
  },
  {
   "cell_type": "code",
   "execution_count": 15,
   "metadata": {
    "id": "x87T9WpEoAaq"
   },
   "outputs": [],
   "source": [
    "# 학습 데이터 생성\n",
    "import torch\n",
    "\n",
    "x_train = torch.FloatTensor([[1, 2, 1, 1], [2, 1, 3, 2], [3, 1, 3, 4], [4, 1, 5, 5], [1, 7, 5, 5], [1, 2, 5, 6], [1, 6, 6, 6], [1, 7, 7, 7]])\n",
    "y_train = torch.FloatTensor([[0, 0, 1], [0, 0, 1], [0, 0, 1], [0, 1, 0], [0, 1, 0], [0, 1, 0], [1, 0, 0], [1, 0, 0]])"
   ]
  },
  {
   "cell_type": "code",
   "execution_count": 16,
   "metadata": {
    "id": "vVRkKr3PoPcI"
   },
   "outputs": [],
   "source": [
    "# W, b 초기화\n",
    "W = torch.zeros(4, 3, requires_grad=True)\n",
    "b = torch.zeros(1, 3, requires_grad=True)\n",
    "\n",
    "# Optimizer 생성\n",
    "optimizer = torch.optim.Adam([W, b], lr=0.1)"
   ]
  },
  {
   "cell_type": "code",
   "execution_count": 17,
   "metadata": {
    "colab": {
     "base_uri": "https://localhost:8080/"
    },
    "id": "Yzb6Lipeoktx",
    "outputId": "c6c27917-79b1-4caf-ca90-54eef3850ecf"
   },
   "outputs": [
    {
     "name": "stdout",
     "output_type": "stream",
     "text": [
      "epoch: 0, cost: 1.098612\n",
      "epoch: 300, cost: 0.105262\n",
      "epoch: 600, cost: 0.042634\n",
      "epoch: 900, cost: 0.023111\n",
      "epoch: 1200, cost: 0.014479\n",
      "epoch: 1500, cost: 0.009879\n",
      "epoch: 1800, cost: 0.007124\n",
      "epoch: 2100, cost: 0.005338\n",
      "epoch: 2400, cost: 0.004113\n",
      "epoch: 2700, cost: 0.003236\n",
      "epoch: 3000, cost: 0.002588\n"
     ]
    }
   ],
   "source": [
    "# 반복횟수 설정\n",
    "for epoch in range(3001):\n",
    "  # 가설 및 비용 설정\n",
    "  hypothesis = torch.softmax(torch.mm(x_train, W) + b, dim=1)\n",
    "  cost = -torch.mean(torch.sum(y_train * torch.log(hypothesis), dim=1))\n",
    "  # hypothesis = (torch.mm(x_train, W) + b).softmax(dim=1)\n",
    "  # cost = -(y_train * torch.log(hypothesis)).sum(dim=1).mean()\n",
    "\n",
    "  # Optimizer를 이용한 경사 계산 및 W, b 업데이트\n",
    "  optimizer.zero_grad()\n",
    "  cost.backward()\n",
    "  optimizer.step()\n",
    "\n",
    "  # 학습이 잘 되는지 확인하기 위한 내용 출력\n",
    "  if epoch % 300 == 0:\n",
    "    print(f'epoch: {epoch}, cost: {cost.item():.6f}')"
   ]
  },
  {
   "cell_type": "code",
   "execution_count": 18,
   "metadata": {
    "colab": {
     "base_uri": "https://localhost:8080/"
    },
    "id": "f6QSOLBYpdkh",
    "outputId": "09d8d779-6eb1-4733-98a4-afd7b2178d89"
   },
   "outputs": [
    {
     "name": "stdout",
     "output_type": "stream",
     "text": [
      "tensor([[1.0000e+00, 5.5165e-19, 7.0151e-38],\n",
      "        [1.4800e-02, 7.4294e-01, 2.4226e-01],\n",
      "        [1.2256e-33, 9.0835e-12, 1.0000e+00]])\n",
      "tensor([0, 1, 2])\n"
     ]
    }
   ],
   "source": [
    "# x가 [1, 11, 10, 9], [1, 3, 4, 3], [1, 1, 0, 1]일 때, y값은?\n",
    "W.requires_grad_(False)\n",
    "b.requires_grad_(False)\n",
    "\n",
    "x_test = torch.FloatTensor([[1, 11, 10, 9], [1, 3, 4, 3], [1, 1, 0, 1]])\n",
    "test_all = torch.softmax(torch.mm(x_test, W) + b, dim=1)\n",
    "print(test_all)\n",
    "print(torch.argmax(test_all, dim=1))"
   ]
  },
  {
   "cell_type": "markdown",
   "metadata": {
    "id": "7KF9WVT7qPJZ"
   },
   "source": [
    "### 조금 더 깔끔하게 Softmax"
   ]
  },
  {
   "cell_type": "code",
   "execution_count": 19,
   "metadata": {
    "id": "w5YT_ZGnqQP4"
   },
   "outputs": [],
   "source": [
    "import torch.nn.functional as F\n",
    "\n",
    "# y_train 수정\n",
    "y_train = torch.LongTensor([2, 2, 2, 1, 1, 1, 0, 0])"
   ]
  },
  {
   "cell_type": "code",
   "execution_count": 20,
   "metadata": {
    "id": "KAtgT4ZKq7Nn"
   },
   "outputs": [],
   "source": [
    "import torch.nn as nn\n",
    "\n",
    "# W와 b를 n.Linear로 대체\n",
    "model = nn.Linear(4, 3)\n",
    "optimizer = torch.optim.Adam(model.parameters(), lr=1)"
   ]
  },
  {
   "cell_type": "code",
   "execution_count": 21,
   "metadata": {
    "colab": {
     "base_uri": "https://localhost:8080/"
    },
    "id": "74T5k_nfqgi4",
    "outputId": "eb32da33-462e-44b0-fb78-33ad93eeec1f"
   },
   "outputs": [
    {
     "name": "stdout",
     "output_type": "stream",
     "text": [
      "epoch: 0, cost: 2.104534\n",
      "epoch: 300, cost: 0.027749\n",
      "epoch: 600, cost: 0.010477\n",
      "epoch: 900, cost: 0.005577\n",
      "epoch: 1200, cost: 0.003478\n",
      "epoch: 1500, cost: 0.002371\n",
      "epoch: 1800, cost: 0.001710\n",
      "epoch: 2100, cost: 0.001282\n",
      "epoch: 2400, cost: 0.000989\n",
      "epoch: 2700, cost: 0.000779\n",
      "epoch: 3000, cost: 0.000623\n"
     ]
    }
   ],
   "source": [
    "for epoch in range(3001):\n",
    "  # 가설, 비용 수정\n",
    "  # hypothesis = torch.softmax(torch.mm(x_train, W) + b, dim=1)\n",
    "  # cost = -torch.mean(torch.sum(y_train * torch.log(hypothesis), dim=1))\n",
    "  z = model(x_train)\n",
    "  cost = F.cross_entropy(z, y_train)\n",
    "\n",
    "  optimizer.zero_grad()\n",
    "  cost.backward()\n",
    "  optimizer.step()\n",
    "\n",
    "  if epoch % 300 == 0:\n",
    "    print(f'epoch: {epoch}, cost: {cost.item():.6f}')"
   ]
  },
  {
   "cell_type": "markdown",
   "metadata": {
    "id": "hskYSeRzrYKP"
   },
   "source": [
    "### Softmax Regression with Sklearn"
   ]
  },
  {
   "cell_type": "code",
   "execution_count": 24,
   "metadata": {
    "colab": {
     "base_uri": "https://localhost:8080/"
    },
    "id": "ADbsxxOrrOFy",
    "outputId": "6048cc9d-7e2d-40e2-f7b7-d4b4e8ff54af"
   },
   "outputs": [
    {
     "name": "stdout",
     "output_type": "stream",
     "text": [
      "[0 2 2]\n"
     ]
    }
   ],
   "source": [
    "import numpy as np\n",
    "from sklearn.linear_model import LogisticRegression\n",
    "\n",
    "x_train = np.array([[1, 2, 1, 1], [2, 1, 3, 2], [3, 1, 3, 4], [4, 1, 5, 5], [1, 7, 5, 5], [1, 2, 5, 6], [1, 6, 6, 6], [1, 7, 7, 7]])\n",
    "\n",
    "# y에 0, 1, 2 등 둘 이상의 class가 존재하기 때문에 softmax regression\n",
    "y_train = np.array([2, 2, 2, 1, 1, 1, 0, 0])\n",
    "\n",
    "logistic = LogisticRegression() # 모델 생성\n",
    "logistic.fit(x_train, y_train) # 학습\n",
    "\n",
    "pred = logistic.predict([[1, 11, 10, 9], [1, 3, 4, 3], [1, 1, 0, 1]]) # 값 예측\n",
    "print(pred) # 출력"
   ]
  }
 ],
 "metadata": {
  "colab": {
   "provenance": []
  },
  "kernelspec": {
   "display_name": "Python 3 (ipykernel)",
   "language": "python",
   "name": "python3"
  },
  "language_info": {
   "codemirror_mode": {
    "name": "ipython",
    "version": 3
   },
   "file_extension": ".py",
   "mimetype": "text/x-python",
   "name": "python",
   "nbconvert_exporter": "python",
   "pygments_lexer": "ipython3",
   "version": "3.8.13"
  }
 },
 "nbformat": 4,
 "nbformat_minor": 1
}
