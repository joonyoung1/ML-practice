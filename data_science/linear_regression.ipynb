{
 "cells": [
  {
   "cell_type": "markdown",
   "metadata": {
    "id": "BolKiUkNPzVS"
   },
   "source": [
    "## Pytorch Basic"
   ]
  },
  {
   "cell_type": "markdown",
   "metadata": {
    "id": "XNiXX60dPvNW"
   },
   "source": [
    "### pytorch 사용하기"
   ]
  },
  {
   "cell_type": "code",
   "execution_count": 1,
   "metadata": {
    "id": "iTDedJ7OOPKL"
   },
   "outputs": [],
   "source": [
    "import torch"
   ]
  },
  {
   "cell_type": "markdown",
   "metadata": {
    "id": "B_8nwIw9Omjh"
   },
   "source": [
    "### 텐서 만들기"
   ]
  },
  {
   "cell_type": "code",
   "execution_count": 2,
   "metadata": {
    "colab": {
     "base_uri": "https://localhost:8080/"
    },
    "id": "7kDxDrneOTv3",
    "outputId": "3c18db5f-58c4-45b3-bebf-6cececa964e8"
   },
   "outputs": [
    {
     "name": "stdout",
     "output_type": "stream",
     "text": [
      "x = tensor([[1, 2, 3],\n",
      "        [4, 5, 6],\n",
      "        [7, 8, 9]])\n",
      "y = tensor([[1., 2., 3.],\n",
      "        [4., 5., 6.],\n",
      "        [7., 8., 9.]])\n"
     ]
    }
   ],
   "source": [
    "x = torch.tensor([[1,2,3], [4,5,6], [7,8,9]])\n",
    "y = torch.FloatTensor([[1,2,3], [4,5,6], [7,8,9]])\n",
    "\n",
    "print(\"x =\", x)\n",
    "print(\"y =\", y)"
   ]
  },
  {
   "cell_type": "markdown",
   "metadata": {
    "id": "O7PnT9BKOqMO"
   },
   "source": [
    "### 크기와 랭크 확인하기\n",
    "\n"
   ]
  },
  {
   "cell_type": "code",
   "execution_count": 3,
   "metadata": {
    "colab": {
     "base_uri": "https://localhost:8080/"
    },
    "id": "g8YbeCsyOYTy",
    "outputId": "551f1ed3-a00c-4910-e6fa-78281a99e7a6"
   },
   "outputs": [
    {
     "name": "stdout",
     "output_type": "stream",
     "text": [
      "size: torch.Size([3, 3])\n",
      "shape: torch.Size([3, 3])\n",
      "dimension(rank): 2\n"
     ]
    }
   ],
   "source": [
    "print(\"size:\", x.size())\n",
    "print(\"shape:\", x.shape)\n",
    "print(\"dimension(rank):\", x.ndimension())"
   ]
  },
  {
   "cell_type": "markdown",
   "metadata": {
    "id": "_im8T80WOzxV"
   },
   "source": [
    "### 텐서 모양 바꾸기"
   ]
  },
  {
   "cell_type": "markdown",
   "metadata": {
    "id": "-Y_7ms8DO5Ye"
   },
   "source": [
    "#### torch.unsqueeze"
   ]
  },
  {
   "cell_type": "code",
   "execution_count": 4,
   "metadata": {
    "colab": {
     "base_uri": "https://localhost:8080/"
    },
    "id": "xcml5q26Oc5K",
    "outputId": "87055827-e224-478b-8575-623c59bfaaf8"
   },
   "outputs": [
    {
     "name": "stdout",
     "output_type": "stream",
     "text": [
      "x0.shape: torch.Size([1, 3, 3])\n",
      "x1.shape: torch.Size([3, 1, 3])\n",
      "x2.shape: torch.Size([3, 3, 1])\n",
      "x0 = tensor([[[1, 2, 3],\n",
      "         [4, 5, 6],\n",
      "         [7, 8, 9]]])\n",
      "x1 = tensor([[[1, 2, 3]],\n",
      "\n",
      "        [[4, 5, 6]],\n",
      "\n",
      "        [[7, 8, 9]]])\n",
      "x2 = tensor([[[1],\n",
      "         [2],\n",
      "         [3]],\n",
      "\n",
      "        [[4],\n",
      "         [5],\n",
      "         [6]],\n",
      "\n",
      "        [[7],\n",
      "         [8],\n",
      "         [9]]])\n"
     ]
    }
   ],
   "source": [
    "x0 = torch.unsqueeze(x, 0)\n",
    "x1 = torch.unsqueeze(x, 1)\n",
    "x2 = torch.unsqueeze(x, 2)\n",
    "\n",
    "print(\"x0.shape:\", x0.shape)\n",
    "print(\"x1.shape:\", x1.shape)\n",
    "print(\"x2.shape:\", x2.shape)\n",
    "\n",
    "print(\"x0 =\", x0)\n",
    "print(\"x1 =\", x1)\n",
    "print(\"x2 =\", x2)"
   ]
  },
  {
   "cell_type": "markdown",
   "metadata": {
    "id": "XSTXKIzMO9uD"
   },
   "source": [
    "#### torch.squeeze"
   ]
  },
  {
   "cell_type": "code",
   "execution_count": 5,
   "metadata": {
    "colab": {
     "base_uri": "https://localhost:8080/"
    },
    "id": "-aIzH_j5OhBq",
    "outputId": "529b5d21-6a5b-423f-d7e7-2baa8a39854d"
   },
   "outputs": [
    {
     "name": "stdout",
     "output_type": "stream",
     "text": [
      "x3 = tensor([[1, 2, 3],\n",
      "        [4, 5, 6],\n",
      "        [7, 8, 9]])\n",
      "x3.shape = torch.Size([3, 3])\n"
     ]
    }
   ],
   "source": [
    "x3 = torch.squeeze(torch.squeeze(x0))\n",
    "\n",
    "print(\"x3 =\", x3)\n",
    "print(\"x3.shape =\", x3.shape)"
   ]
  },
  {
   "cell_type": "markdown",
   "metadata": {
    "id": "bGJgSkA3PA44"
   },
   "source": [
    "#### x.view"
   ]
  },
  {
   "cell_type": "code",
   "execution_count": 6,
   "metadata": {
    "colab": {
     "base_uri": "https://localhost:8080/"
    },
    "id": "etAoej-OOiYk",
    "outputId": "dcdbadff-8f83-49e3-d731-8d9ea13c1474"
   },
   "outputs": [
    {
     "name": "stdout",
     "output_type": "stream",
     "text": [
      "x4 = tensor([1, 2, 3, 4, 5, 6, 7, 8, 9])\n",
      "x5 = tensor([[[1, 2, 3],\n",
      "         [4, 5, 6],\n",
      "         [7, 8, 9]]])\n"
     ]
    }
   ],
   "source": [
    "x4 = x.view(9)\n",
    "x5 = x.view(1,3,3)\n",
    "\n",
    "print(\"x4 =\", x4)\n",
    "print(\"x5 =\", x5)"
   ]
  },
  {
   "cell_type": "markdown",
   "metadata": {
    "id": "cNLEYBqnPJNG"
   },
   "source": [
    "### 행렬 연산"
   ]
  },
  {
   "cell_type": "code",
   "execution_count": 7,
   "metadata": {
    "colab": {
     "base_uri": "https://localhost:8080/"
    },
    "id": "GaOU0IVUO3VG",
    "outputId": "38e9dabb-6737-4f2d-d1fb-789253bda73f"
   },
   "outputs": [
    {
     "name": "stdout",
     "output_type": "stream",
     "text": [
      "tensor([[-2.8984],\n",
      "        [ 1.3859],\n",
      "        [ 2.2303]])\n"
     ]
    }
   ],
   "source": [
    "x = torch.FloatTensor([[1,2], [3,4], [5,6]])\n",
    "w = torch.randn(1,2, dtype=torch.float)\n",
    "b = torch.randn(3,1, dtype=torch.float)\n",
    "\n",
    "result = torch.mm(x, torch.t(w)) + b\n",
    "print(result)"
   ]
  },
  {
   "cell_type": "markdown",
   "metadata": {
    "id": "vGf7LKzKPeo6"
   },
   "source": [
    "### Autograd 기울기 계산"
   ]
  },
  {
   "cell_type": "code",
   "execution_count": 8,
   "metadata": {
    "colab": {
     "base_uri": "https://localhost:8080/"
    },
    "id": "GxBXv8WbPOcc",
    "outputId": "8859fbbd-b06e-4093-a29e-80eb520fd3e7"
   },
   "outputs": [
    {
     "name": "stdout",
     "output_type": "stream",
     "text": [
      "l을 w로 미분한 값은 tensor(18.)\n"
     ]
    }
   ],
   "source": [
    "w = torch.tensor(1.0, requires_grad=True)\n",
    "a = w*3\n",
    "l = a**2\n",
    "l.backward()\n",
    "\n",
    "print('l을 w로 미분한 값은', w.grad)"
   ]
  },
  {
   "cell_type": "markdown",
   "metadata": {
    "id": "n-sc8moMP54p"
   },
   "source": [
    "## Linear Regression - Pytorch"
   ]
  },
  {
   "cell_type": "markdown",
   "metadata": {
    "id": "0ePBsUfcQFTm"
   },
   "source": [
    "### 학습 데이터 생성"
   ]
  },
  {
   "cell_type": "code",
   "execution_count": 9,
   "metadata": {
    "id": "KaKpBPmdPmaO"
   },
   "outputs": [],
   "source": [
    "import torch\n",
    "\n",
    "x_train = torch.FloatTensor([[1,2], [3,2], [3,7], [1,1], [1,0]])\n",
    "y_train = torch.FloatTensor([[4], [8], [23], [1], [-2]])"
   ]
  },
  {
   "cell_type": "markdown",
   "metadata": {
    "id": "lX-IKeOSQRyu"
   },
   "source": [
    "### W, b, Learning Rate"
   ]
  },
  {
   "cell_type": "code",
   "execution_count": 10,
   "metadata": {
    "id": "u_ny3VTOQEl4"
   },
   "outputs": [],
   "source": [
    "W = torch.zeros(2,1)\n",
    "b = torch.zeros(1,1)\n",
    "\n",
    "lr = 0.01"
   ]
  },
  {
   "cell_type": "markdown",
   "metadata": {
    "id": "OqxDaOm9QfWM"
   },
   "source": [
    "### 학습"
   ]
  },
  {
   "cell_type": "code",
   "execution_count": 11,
   "metadata": {
    "colab": {
     "base_uri": "https://localhost:8080/"
    },
    "id": "3MqV3eqzQbg6",
    "outputId": "d1b1440d-ff02-4349-93ae-22a48b3673f8"
   },
   "outputs": [
    {
     "name": "stdout",
     "output_type": "stream",
     "text": [
      "epoch: 0, cost: 122.800003, W: tensor([0.3840, 0.7440]), b: tensor([[0.1360]])\n",
      "epoch: 100, cost: 1.533757, W: tensor([0.6226, 3.1603]), b: tensor([[-1.3651]])\n",
      "epoch: 200, cost: 0.758241, W: tensor([0.9143, 3.1864]), b: tensor([[-2.1790]])\n",
      "epoch: 300, cost: 0.389288, W: tensor([1.2106, 3.1417]), b: tensor([[-2.7023]])\n",
      "epoch: 400, cost: 0.200058, W: tensor([1.4328, 3.1025]), b: tensor([[-3.0705]])\n",
      "epoch: 500, cost: 0.102813, W: tensor([1.5932, 3.0736]), b: tensor([[-3.3338]])\n",
      "epoch: 600, cost: 0.052838, W: tensor([1.7084, 3.0528]), b: tensor([[-3.5224]])\n",
      "epoch: 700, cost: 0.027154, W: tensor([1.7909, 3.0378]), b: tensor([[-3.6576]])\n",
      "epoch: 800, cost: 0.013955, W: tensor([1.8501, 3.0271]), b: tensor([[-3.7546]])\n",
      "epoch: 900, cost: 0.007172, W: tensor([1.8926, 3.0194]), b: tensor([[-3.8241]])\n",
      "epoch: 1000, cost: 0.003686, W: tensor([1.9230, 3.0139]), b: tensor([[-3.8739]])\n",
      "epoch: 1100, cost: 0.001894, W: tensor([1.9448, 3.0100]), b: tensor([[-3.9096]])\n",
      "epoch: 1200, cost: 0.000973, W: tensor([1.9604, 3.0072]), b: tensor([[-3.9352]])\n",
      "epoch: 1300, cost: 0.000500, W: tensor([1.9716, 3.0051]), b: tensor([[-3.9535]])\n",
      "epoch: 1400, cost: 0.000257, W: tensor([1.9797, 3.0037]), b: tensor([[-3.9667]])\n",
      "epoch: 1500, cost: 0.000132, W: tensor([1.9854, 3.0026]), b: tensor([[-3.9761]])\n",
      "epoch: 1600, cost: 0.000068, W: tensor([1.9895, 3.0019]), b: tensor([[-3.9829]])\n",
      "epoch: 1700, cost: 0.000035, W: tensor([1.9925, 3.0014]), b: tensor([[-3.9877]])\n",
      "epoch: 1800, cost: 0.000018, W: tensor([1.9946, 3.0010]), b: tensor([[-3.9912]])\n",
      "epoch: 1900, cost: 0.000009, W: tensor([1.9961, 3.0007]), b: tensor([[-3.9937]])\n",
      "epoch: 2000, cost: 0.000005, W: tensor([1.9972, 3.0005]), b: tensor([[-3.9955]])\n",
      "epoch: 2100, cost: 0.000002, W: tensor([1.9980, 3.0004]), b: tensor([[-3.9968]])\n",
      "epoch: 2200, cost: 0.000001, W: tensor([1.9986, 3.0003]), b: tensor([[-3.9977]])\n",
      "epoch: 2300, cost: 0.000001, W: tensor([1.9990, 3.0002]), b: tensor([[-3.9983]])\n",
      "epoch: 2400, cost: 0.000000, W: tensor([1.9993, 3.0001]), b: tensor([[-3.9988]])\n",
      "epoch: 2500, cost: 0.000000, W: tensor([1.9995, 3.0001]), b: tensor([[-3.9991]])\n",
      "epoch: 2600, cost: 0.000000, W: tensor([1.9996, 3.0001]), b: tensor([[-3.9994]])\n",
      "epoch: 2700, cost: 0.000000, W: tensor([1.9997, 3.0000]), b: tensor([[-3.9996]])\n",
      "epoch: 2800, cost: 0.000000, W: tensor([1.9998, 3.0000]), b: tensor([[-3.9997]])\n",
      "epoch: 2900, cost: 0.000000, W: tensor([1.9999, 3.0000]), b: tensor([[-3.9998]])\n",
      "epoch: 3000, cost: 0.000000, W: tensor([1.9999, 3.0000]), b: tensor([[-3.9998]])\n"
     ]
    }
   ],
   "source": [
    "# 반복횟수, reguires_grad\n",
    "for epoch in range(3001):\n",
    "  W.requires_grad_(True)\n",
    "  b.requires_grad_(True)\n",
    "\n",
    "  # Hypothesis, cost\n",
    "  hypothesis = torch.mm(x_train, W) + b\n",
    "  cost = torch.mean((hypothesis - y_train) ** 2)\n",
    "\n",
    "  # 경사 계산, W와 b 업데이트\n",
    "  cost.backward()\n",
    "  with torch.no_grad() as grd:\n",
    "    W = W - lr * W.grad\n",
    "    b = b - lr * b.grad\n",
    "  \n",
    "  # 학습 과정 출력\n",
    "  if epoch % 100 == 0:\n",
    "    print( 'epoch: {}, cost: {:.6f}, W: {}, b: {}'.format(epoch, cost.item(), W.squeeze(), b))"
   ]
  },
  {
   "cell_type": "markdown",
   "metadata": {
    "id": "1MXZH3sAQlXW"
   },
   "source": [
    "### 학습 결과 확인"
   ]
  },
  {
   "cell_type": "code",
   "execution_count": 12,
   "metadata": {
    "colab": {
     "base_uri": "https://localhost:8080/"
    },
    "id": "sdms7Z6mQtez",
    "outputId": "afa8c044-e0ee-41ee-a638-84508f46c4ac"
   },
   "outputs": [
    {
     "name": "stdout",
     "output_type": "stream",
     "text": [
      "35.99984359741211\n"
     ]
    }
   ],
   "source": [
    "x_test = torch.FloatTensor([[5,10]])\n",
    "test_result = torch.mm(x_test, W) + b\n",
    "\n",
    "print(test_result.item())"
   ]
  },
  {
   "cell_type": "markdown",
   "metadata": {
    "id": "-dY3La_fSJbn"
   },
   "source": [
    "## Linear Regression - Scikit learn"
   ]
  },
  {
   "cell_type": "markdown",
   "metadata": {
    "id": "q5Ie_5O2SNrB"
   },
   "source": [
    "### 모델 생성, 학습"
   ]
  },
  {
   "cell_type": "code",
   "execution_count": 13,
   "metadata": {
    "colab": {
     "base_uri": "https://localhost:8080/"
    },
    "id": "dEKNf6DyRIAr",
    "outputId": "83a048d0-428c-47ad-9c0c-0739c3044705"
   },
   "outputs": [
    {
     "data": {
      "text/plain": [
       "LinearRegression()"
      ]
     },
     "execution_count": 13,
     "metadata": {},
     "output_type": "execute_result"
    }
   ],
   "source": [
    "from sklearn.linear_model import LinearRegression\n",
    "\n",
    "x = [[1,2], [3,2], [3,7], [1,1], [1,0]]\n",
    "y = [[4], [8], [23], [1], [-2]]\n",
    "\n",
    "lr = LinearRegression() # 모델 생성\n",
    "lr.fit(x, y) # 학습 (피팅)"
   ]
  },
  {
   "cell_type": "markdown",
   "metadata": {
    "id": "Brkpd83HST6f"
   },
   "source": [
    "### 학습 결과 확인"
   ]
  },
  {
   "cell_type": "code",
   "execution_count": 14,
   "metadata": {
    "colab": {
     "base_uri": "https://localhost:8080/"
    },
    "id": "D7gFLstrSIVH",
    "outputId": "c1e266e1-4ae3-47d0-c1cf-270ab0e6f95d"
   },
   "outputs": [
    {
     "name": "stdout",
     "output_type": "stream",
     "text": [
      "W: [[2. 3.]], b: [-4.]\n"
     ]
    }
   ],
   "source": [
    "print(f'W: {lr.coef_}, b: {lr.intercept_}')"
   ]
  },
  {
   "cell_type": "markdown",
   "metadata": {
    "id": "fLHuVHaUShJN"
   },
   "source": [
    "### y값 예측하기"
   ]
  },
  {
   "cell_type": "code",
   "execution_count": 15,
   "metadata": {
    "colab": {
     "base_uri": "https://localhost:8080/"
    },
    "id": "DwWbLwrnSVzg",
    "outputId": "89c19f1e-7948-4a26-b986-953e7ff56b10"
   },
   "outputs": [
    {
     "name": "stdout",
     "output_type": "stream",
     "text": [
      "[[36.]]\n"
     ]
    }
   ],
   "source": [
    "print(lr.predict([[5, 10]]))"
   ]
  },
  {
   "cell_type": "code",
   "execution_count": null,
   "metadata": {
    "id": "tgdwvai9S0QT"
   },
   "outputs": [],
   "source": []
  }
 ],
 "metadata": {
  "colab": {
   "provenance": []
  },
  "kernelspec": {
   "display_name": "Python 3 (ipykernel)",
   "language": "python",
   "name": "python3"
  },
  "language_info": {
   "codemirror_mode": {
    "name": "ipython",
    "version": 3
   },
   "file_extension": ".py",
   "mimetype": "text/x-python",
   "name": "python",
   "nbconvert_exporter": "python",
   "pygments_lexer": "ipython3",
   "version": "3.8.13"
  }
 },
 "nbformat": 4,
 "nbformat_minor": 1
}
