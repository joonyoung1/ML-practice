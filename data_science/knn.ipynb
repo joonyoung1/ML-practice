{
 "cells": [
  {
   "cell_type": "code",
   "execution_count": 15,
   "metadata": {
    "colab": {
     "base_uri": "https://localhost:8080/"
    },
    "id": "Mulf50dm4hzz",
    "outputId": "254eb27e-7e79-4fb6-ba6b-89dc7f2e8181"
   },
   "outputs": [
    {
     "data": {
      "text/plain": [
       "[([5.1, 3.5, 1.4, 0.2], 'Iris-setosa'),\n",
       " ([4.9, 3.0, 1.4, 0.2], 'Iris-setosa'),\n",
       " ([4.7, 3.2, 1.3, 0.2], 'Iris-setosa'),\n",
       " ([4.6, 3.1, 1.5, 0.2], 'Iris-setosa'),\n",
       " ([5.0, 3.6, 1.4, 0.2], 'Iris-setosa'),\n",
       " ([5.4, 3.9, 1.7, 0.4], 'Iris-setosa'),\n",
       " ([4.6, 3.4, 1.4, 0.3], 'Iris-setosa'),\n",
       " ([5.0, 3.4, 1.5, 0.2], 'Iris-setosa'),\n",
       " ([4.4, 2.9, 1.4, 0.2], 'Iris-setosa'),\n",
       " ([4.9, 3.1, 1.5, 0.1], 'Iris-setosa'),\n",
       " ([5.4, 3.7, 1.5, 0.2], 'Iris-setosa'),\n",
       " ([4.8, 3.4, 1.6, 0.2], 'Iris-setosa'),\n",
       " ([4.8, 3.0, 1.4, 0.1], 'Iris-setosa'),\n",
       " ([4.3, 3.0, 1.1, 0.1], 'Iris-setosa'),\n",
       " ([5.8, 4.0, 1.2, 0.2], 'Iris-setosa'),\n",
       " ([5.7, 4.4, 1.5, 0.4], 'Iris-setosa'),\n",
       " ([5.4, 3.9, 1.3, 0.4], 'Iris-setosa'),\n",
       " ([5.1, 3.5, 1.4, 0.3], 'Iris-setosa'),\n",
       " ([5.7, 3.8, 1.7, 0.3], 'Iris-setosa'),\n",
       " ([5.1, 3.8, 1.5, 0.3], 'Iris-setosa'),\n",
       " ([5.4, 3.4, 1.7, 0.2], 'Iris-setosa'),\n",
       " ([5.1, 3.7, 1.5, 0.4], 'Iris-setosa'),\n",
       " ([4.6, 3.6, 1.0, 0.2], 'Iris-setosa'),\n",
       " ([5.1, 3.3, 1.7, 0.5], 'Iris-setosa'),\n",
       " ([4.8, 3.4, 1.9, 0.2], 'Iris-setosa'),\n",
       " ([5.0, 3.0, 1.6, 0.2], 'Iris-setosa'),\n",
       " ([5.0, 3.4, 1.6, 0.4], 'Iris-setosa'),\n",
       " ([5.2, 3.5, 1.5, 0.2], 'Iris-setosa'),\n",
       " ([5.2, 3.4, 1.4, 0.2], 'Iris-setosa'),\n",
       " ([4.7, 3.2, 1.6, 0.2], 'Iris-setosa'),\n",
       " ([4.8, 3.1, 1.6, 0.2], 'Iris-setosa'),\n",
       " ([5.4, 3.4, 1.5, 0.4], 'Iris-setosa'),\n",
       " ([5.2, 4.1, 1.5, 0.1], 'Iris-setosa'),\n",
       " ([5.5, 4.2, 1.4, 0.2], 'Iris-setosa'),\n",
       " ([4.9, 3.1, 1.5, 0.1], 'Iris-setosa'),\n",
       " ([5.0, 3.2, 1.2, 0.2], 'Iris-setosa'),\n",
       " ([5.5, 3.5, 1.3, 0.2], 'Iris-setosa'),\n",
       " ([4.9, 3.1, 1.5, 0.1], 'Iris-setosa'),\n",
       " ([4.4, 3.0, 1.3, 0.2], 'Iris-setosa'),\n",
       " ([5.1, 3.4, 1.5, 0.2], 'Iris-setosa'),\n",
       " ([5.0, 3.5, 1.3, 0.3], 'Iris-setosa'),\n",
       " ([4.5, 2.3, 1.3, 0.3], 'Iris-setosa'),\n",
       " ([4.4, 3.2, 1.3, 0.2], 'Iris-setosa'),\n",
       " ([5.0, 3.5, 1.6, 0.6], 'Iris-setosa'),\n",
       " ([5.1, 3.8, 1.9, 0.4], 'Iris-setosa'),\n",
       " ([4.8, 3.0, 1.4, 0.3], 'Iris-setosa'),\n",
       " ([5.1, 3.8, 1.6, 0.2], 'Iris-setosa'),\n",
       " ([4.6, 3.2, 1.4, 0.2], 'Iris-setosa'),\n",
       " ([5.3, 3.7, 1.5, 0.2], 'Iris-setosa'),\n",
       " ([5.0, 3.3, 1.4, 0.2], 'Iris-setosa'),\n",
       " ([7.0, 3.2, 4.7, 1.4], 'Iris-versicolor'),\n",
       " ([6.4, 3.2, 4.5, 1.5], 'Iris-versicolor'),\n",
       " ([6.9, 3.1, 4.9, 1.5], 'Iris-versicolor'),\n",
       " ([5.5, 2.3, 4.0, 1.3], 'Iris-versicolor'),\n",
       " ([6.5, 2.8, 4.6, 1.5], 'Iris-versicolor'),\n",
       " ([5.7, 2.8, 4.5, 1.3], 'Iris-versicolor'),\n",
       " ([6.3, 3.3, 4.7, 1.6], 'Iris-versicolor'),\n",
       " ([4.9, 2.4, 3.3, 1.0], 'Iris-versicolor'),\n",
       " ([6.6, 2.9, 4.6, 1.3], 'Iris-versicolor'),\n",
       " ([5.2, 2.7, 3.9, 1.4], 'Iris-versicolor'),\n",
       " ([5.0, 2.0, 3.5, 1.0], 'Iris-versicolor'),\n",
       " ([5.9, 3.0, 4.2, 1.5], 'Iris-versicolor'),\n",
       " ([6.0, 2.2, 4.0, 1.0], 'Iris-versicolor'),\n",
       " ([6.1, 2.9, 4.7, 1.4], 'Iris-versicolor'),\n",
       " ([5.6, 2.9, 3.6, 1.3], 'Iris-versicolor'),\n",
       " ([6.7, 3.1, 4.4, 1.4], 'Iris-versicolor'),\n",
       " ([5.6, 3.0, 4.5, 1.5], 'Iris-versicolor'),\n",
       " ([5.8, 2.7, 4.1, 1.0], 'Iris-versicolor'),\n",
       " ([6.2, 2.2, 4.5, 1.5], 'Iris-versicolor'),\n",
       " ([5.6, 2.5, 3.9, 1.1], 'Iris-versicolor'),\n",
       " ([5.9, 3.2, 4.8, 1.8], 'Iris-versicolor'),\n",
       " ([6.1, 2.8, 4.0, 1.3], 'Iris-versicolor'),\n",
       " ([6.3, 2.5, 4.9, 1.5], 'Iris-versicolor'),\n",
       " ([6.1, 2.8, 4.7, 1.2], 'Iris-versicolor'),\n",
       " ([6.4, 2.9, 4.3, 1.3], 'Iris-versicolor'),\n",
       " ([6.6, 3.0, 4.4, 1.4], 'Iris-versicolor'),\n",
       " ([6.8, 2.8, 4.8, 1.4], 'Iris-versicolor'),\n",
       " ([6.7, 3.0, 5.0, 1.7], 'Iris-versicolor'),\n",
       " ([6.0, 2.9, 4.5, 1.5], 'Iris-versicolor'),\n",
       " ([5.7, 2.6, 3.5, 1.0], 'Iris-versicolor'),\n",
       " ([5.5, 2.4, 3.8, 1.1], 'Iris-versicolor'),\n",
       " ([5.5, 2.4, 3.7, 1.0], 'Iris-versicolor'),\n",
       " ([5.8, 2.7, 3.9, 1.2], 'Iris-versicolor'),\n",
       " ([6.0, 2.7, 5.1, 1.6], 'Iris-versicolor'),\n",
       " ([5.4, 3.0, 4.5, 1.5], 'Iris-versicolor'),\n",
       " ([6.0, 3.4, 4.5, 1.6], 'Iris-versicolor'),\n",
       " ([6.7, 3.1, 4.7, 1.5], 'Iris-versicolor'),\n",
       " ([6.3, 2.3, 4.4, 1.3], 'Iris-versicolor'),\n",
       " ([5.6, 3.0, 4.1, 1.3], 'Iris-versicolor'),\n",
       " ([5.5, 2.5, 4.0, 1.3], 'Iris-versicolor'),\n",
       " ([5.5, 2.6, 4.4, 1.2], 'Iris-versicolor'),\n",
       " ([6.1, 3.0, 4.6, 1.4], 'Iris-versicolor'),\n",
       " ([5.8, 2.6, 4.0, 1.2], 'Iris-versicolor'),\n",
       " ([5.0, 2.3, 3.3, 1.0], 'Iris-versicolor'),\n",
       " ([5.6, 2.7, 4.2, 1.3], 'Iris-versicolor'),\n",
       " ([5.7, 3.0, 4.2, 1.2], 'Iris-versicolor'),\n",
       " ([5.7, 2.9, 4.2, 1.3], 'Iris-versicolor'),\n",
       " ([6.2, 2.9, 4.3, 1.3], 'Iris-versicolor'),\n",
       " ([5.1, 2.5, 3.0, 1.1], 'Iris-versicolor'),\n",
       " ([5.7, 2.8, 4.1, 1.3], 'Iris-versicolor'),\n",
       " ([6.3, 3.3, 6.0, 2.5], 'Iris-virginica'),\n",
       " ([5.8, 2.7, 5.1, 1.9], 'Iris-virginica'),\n",
       " ([7.1, 3.0, 5.9, 2.1], 'Iris-virginica'),\n",
       " ([6.3, 2.9, 5.6, 1.8], 'Iris-virginica'),\n",
       " ([6.5, 3.0, 5.8, 2.2], 'Iris-virginica'),\n",
       " ([7.6, 3.0, 6.6, 2.1], 'Iris-virginica'),\n",
       " ([4.9, 2.5, 4.5, 1.7], 'Iris-virginica'),\n",
       " ([7.3, 2.9, 6.3, 1.8], 'Iris-virginica'),\n",
       " ([6.7, 2.5, 5.8, 1.8], 'Iris-virginica'),\n",
       " ([7.2, 3.6, 6.1, 2.5], 'Iris-virginica'),\n",
       " ([6.5, 3.2, 5.1, 2.0], 'Iris-virginica'),\n",
       " ([6.4, 2.7, 5.3, 1.9], 'Iris-virginica'),\n",
       " ([6.8, 3.0, 5.5, 2.1], 'Iris-virginica'),\n",
       " ([5.7, 2.5, 5.0, 2.0], 'Iris-virginica'),\n",
       " ([5.8, 2.8, 5.1, 2.4], 'Iris-virginica'),\n",
       " ([6.4, 3.2, 5.3, 2.3], 'Iris-virginica'),\n",
       " ([6.5, 3.0, 5.5, 1.8], 'Iris-virginica'),\n",
       " ([7.7, 3.8, 6.7, 2.2], 'Iris-virginica'),\n",
       " ([7.7, 2.6, 6.9, 2.3], 'Iris-virginica'),\n",
       " ([6.0, 2.2, 5.0, 1.5], 'Iris-virginica'),\n",
       " ([6.9, 3.2, 5.7, 2.3], 'Iris-virginica'),\n",
       " ([5.6, 2.8, 4.9, 2.0], 'Iris-virginica'),\n",
       " ([7.7, 2.8, 6.7, 2.0], 'Iris-virginica'),\n",
       " ([6.3, 2.7, 4.9, 1.8], 'Iris-virginica'),\n",
       " ([6.7, 3.3, 5.7, 2.1], 'Iris-virginica'),\n",
       " ([7.2, 3.2, 6.0, 1.8], 'Iris-virginica'),\n",
       " ([6.2, 2.8, 4.8, 1.8], 'Iris-virginica'),\n",
       " ([6.1, 3.0, 4.9, 1.8], 'Iris-virginica'),\n",
       " ([6.4, 2.8, 5.6, 2.1], 'Iris-virginica'),\n",
       " ([7.2, 3.0, 5.8, 1.6], 'Iris-virginica'),\n",
       " ([7.4, 2.8, 6.1, 1.9], 'Iris-virginica'),\n",
       " ([7.9, 3.8, 6.4, 2.0], 'Iris-virginica'),\n",
       " ([6.4, 2.8, 5.6, 2.2], 'Iris-virginica'),\n",
       " ([6.3, 2.8, 5.1, 1.5], 'Iris-virginica'),\n",
       " ([6.1, 2.6, 5.6, 1.4], 'Iris-virginica'),\n",
       " ([7.7, 3.0, 6.1, 2.3], 'Iris-virginica'),\n",
       " ([6.3, 3.4, 5.6, 2.4], 'Iris-virginica'),\n",
       " ([6.4, 3.1, 5.5, 1.8], 'Iris-virginica'),\n",
       " ([6.0, 3.0, 4.8, 1.8], 'Iris-virginica'),\n",
       " ([6.9, 3.1, 5.4, 2.1], 'Iris-virginica'),\n",
       " ([6.7, 3.1, 5.6, 2.4], 'Iris-virginica'),\n",
       " ([6.9, 3.1, 5.1, 2.3], 'Iris-virginica'),\n",
       " ([5.8, 2.7, 5.1, 1.9], 'Iris-virginica'),\n",
       " ([6.8, 3.2, 5.9, 2.3], 'Iris-virginica'),\n",
       " ([6.7, 3.3, 5.7, 2.5], 'Iris-virginica'),\n",
       " ([6.7, 3.0, 5.2, 2.3], 'Iris-virginica'),\n",
       " ([6.3, 2.5, 5.0, 1.9], 'Iris-virginica'),\n",
       " ([6.5, 3.0, 5.2, 2.0], 'Iris-virginica'),\n",
       " ([6.2, 3.4, 5.4, 2.3], 'Iris-virginica'),\n",
       " ([5.9, 3.0, 5.1, 1.8], 'Iris-virginica')]"
      ]
     },
     "execution_count": 15,
     "metadata": {},
     "output_type": "execute_result"
    }
   ],
   "source": [
    "data = []\n",
    "\n",
    "for line in open(\"iris.data\", 'r'):\n",
    "  raw = line.split(\",\")\n",
    "  x = [float(r) for r in raw[:4]]\n",
    "  y = raw[4].strip()\n",
    "  data.append((x, y))\n",
    "\n",
    "data"
   ]
  },
  {
   "cell_type": "code",
   "execution_count": 16,
   "metadata": {
    "colab": {
     "base_uri": "https://localhost:8080/",
     "height": 268
    },
    "id": "ae0vohik-qzn",
    "outputId": "f6879b31-5ddf-4f2c-b768-de91d25256ad"
   },
   "outputs": [
    {
     "data": {
      "image/png": "[encoded data removed]",
      "text/plain": [
       "<Figure size 432x288 with 1 Axes>"
      ]
     },
     "metadata": {
      "needs_background": "light"
     },
     "output_type": "display_data"
    }
   ],
   "source": [
    "import matplotlib.pyplot as plt\n",
    "\n",
    "species = {s: i for i, s in enumerate(set(d[1] for d in data))}\n",
    "\n",
    "plt.scatter([d[0][0] for d in data],\n",
    "            [d[0][1] for d in data], c=[species[d[1]] for d in data], alpha=0.3)\n",
    "plt.show()"
   ]
  },
  {
   "cell_type": "code",
   "execution_count": 17,
   "metadata": {
    "id": "lthJWbgs5VZN"
   },
   "outputs": [],
   "source": [
    "def distance(a, b):\n",
    "  return sum((x - y) ** 2 for x, y in zip(a, b)) ** 0.5"
   ]
  },
  {
   "cell_type": "code",
   "execution_count": 18,
   "metadata": {
    "colab": {
     "base_uri": "https://localhost:8080/",
     "height": 35
    },
    "id": "RT9uj4uA6a-c",
    "outputId": "95b98a07-b469-438e-ac04-2a6fc3da631f"
   },
   "outputs": [
    {
     "data": {
      "application/vnd.google.colaboratory.intrinsic+json": {
       "type": "string"
      },
      "text/plain": [
       "'Iris-virginica'"
      ]
     },
     "execution_count": 18,
     "metadata": {},
     "output_type": "execute_result"
    }
   ],
   "source": [
    "from collections import Counter\n",
    "\n",
    "def knn_classify(k, query, train):\n",
    "  res = sorted((distance(query, v), l) for v, l in train)[:k]\n",
    "  cnts = Counter(r[1] for r in res)\n",
    "\n",
    "  mc = cnts.most_common(2)\n",
    "\n",
    "  while len(cnts) >= 2 and mc[0][1] == mc[1][1]:\n",
    "    res = res[:-1]\n",
    "    cnts = Counter(r[1] for r in res)\n",
    "    mc = cnts.most_common(2)\n",
    "\n",
    "  return cnts.most_common(1)[0][0]\n",
    "\n",
    "knn_classify(10, [5.5, 3.1, 5.0, 1.7], data)"
   ]
  },
  {
   "cell_type": "code",
   "execution_count": 19,
   "metadata": {
    "colab": {
     "base_uri": "https://localhost:8080/"
    },
    "id": "jtD-itAD69or",
    "outputId": "0236bd2c-0dc9-4460-b1b7-df49d2e66c2c"
   },
   "outputs": [
    {
     "name": "stdout",
     "output_type": "stream",
     "text": [
      "accuracy 0.96\n"
     ]
    }
   ],
   "source": [
    "k = 3\n",
    "\n",
    "n_correct = 0\n",
    "n_incorrect = 0\n",
    "\n",
    "for i, q in enumerate(data):\n",
    "  new_data = []\n",
    "  for j, d in enumerate(data):\n",
    "    if i == j: continue\n",
    "    new_data.append(d)\n",
    "  \n",
    "  ans = knn_classify(k, q[0], new_data)\n",
    "  true_ans = q[1]\n",
    "  if ans == true_ans:\n",
    "    n_correct += 1\n",
    "  else:\n",
    "    n_incorrect += 1\n",
    "\n",
    "print('accuracy', n_correct / (n_correct + n_incorrect))"
   ]
  },
  {
   "cell_type": "code",
   "execution_count": 20,
   "metadata": {
    "colab": {
     "base_uri": "https://localhost:8080/",
     "height": 265
    },
    "id": "V2s_xwpV9GVm",
    "outputId": "26d1a4dd-53c5-4948-98ce-ca32f0a94118"
   },
   "outputs": [
    {
     "data": {
      "image/png": "[encoded data removed]",
      "text/plain": [
       "<Figure size 432x288 with 1 Axes>"
      ]
     },
     "metadata": {
      "needs_background": "light"
     },
     "output_type": "display_data"
    }
   ],
   "source": [
    "X = []\n",
    "Y = []\n",
    "\n",
    "for k in range(1, 50):\n",
    "  n_correct = 0\n",
    "  n_incorrect = 0\n",
    "\n",
    "  for i, q in enumerate(data):\n",
    "    new_data = []\n",
    "    for j, d in enumerate(data):\n",
    "      if i == j: continue\n",
    "      new_data.append(d)\n",
    "    \n",
    "    ans = knn_classify(k, q[0], new_data)\n",
    "    true_ans = q[1]\n",
    "    if ans == true_ans:\n",
    "      n_correct += 1\n",
    "    else:\n",
    "      n_incorrect += 1\n",
    "\n",
    "  X.append(k)\n",
    "  Y.append(n_correct / (n_correct + n_incorrect))\n",
    "\n",
    "plt.plot(X, Y)\n",
    "plt.show()"
   ]
  },
  {
   "cell_type": "code",
   "execution_count": null,
   "metadata": {
    "id": "J5U7-MUuAMsl"
   },
   "outputs": [],
   "source": []
  }
 ],
 "metadata": {
  "colab": {
   "provenance": []
  },
  "kernelspec": {
   "display_name": "Python 3 (ipykernel)",
   "language": "python",
   "name": "python3"
  },
  "language_info": {
   "codemirror_mode": {
    "name": "ipython",
    "version": 3
   },
   "file_extension": ".py",
   "mimetype": "text/x-python",
   "name": "python",
   "nbconvert_exporter": "python",
   "pygments_lexer": "ipython3",
   "version": "3.8.13"
  }
 },
 "nbformat": 4,
 "nbformat_minor": 1
}
