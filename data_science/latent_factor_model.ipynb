{
 "cells": [
  {
   "cell_type": "code",
   "execution_count": 2,
   "metadata": {
    "colab": {
     "base_uri": "https://localhost:8080/"
    },
    "id": "9tjD7dRRX-9s",
    "outputId": "27ae8ad6-2cab-4c82-ad76-47329ebd54b7"
   },
   "outputs": [
    {
     "ename": "ModuleNotFoundError",
     "evalue": "No module named 'google.colab'",
     "output_type": "error",
     "traceback": [
      "\u001b[0;31m---------------------------------------------------------------------------\u001b[0m",
      "\u001b[0;31mModuleNotFoundError\u001b[0m                       Traceback (most recent call last)",
      "Input \u001b[0;32mIn [2]\u001b[0m, in \u001b[0;36m<cell line: 2>\u001b[0;34m()\u001b[0m\n\u001b[1;32m      1\u001b[0m \u001b[38;5;66;03m# Colab에서 구글 드라이브 mount하기\u001b[39;00m\n\u001b[0;32m----> 2\u001b[0m \u001b[38;5;28;01mfrom\u001b[39;00m \u001b[38;5;21;01mgoogle\u001b[39;00m\u001b[38;5;21;01m.\u001b[39;00m\u001b[38;5;21;01mcolab\u001b[39;00m \u001b[38;5;28;01mimport\u001b[39;00m drive\n\u001b[1;32m      3\u001b[0m drive\u001b[38;5;241m.\u001b[39mmount(\u001b[38;5;124m\"\u001b[39m\u001b[38;5;124m/content/drive\u001b[39m\u001b[38;5;124m\"\u001b[39m)\n",
      "\u001b[0;31mModuleNotFoundError\u001b[0m: No module named 'google.colab'"
     ]
    }
   ],
   "source": [
    "# Colab에서 구글 드라이브 mount하기\n",
    "from google.colab import drive\n",
    "drive.mount(\"/content/drive\")"
   ]
  },
  {
   "cell_type": "code",
   "execution_count": 2,
   "metadata": {
    "colab": {
     "base_uri": "https://localhost:8080/"
    },
    "id": "w8t06mM9baTN",
    "outputId": "e2c0a4a2-ecc8-403c-fd63-134f6e34ed00"
   },
   "outputs": [
    {
     "name": "stdout",
     "output_type": "stream",
     "text": [
      "allbut.pl  u1.base  u2.test  u4.base  u5.test  ub.base\tu.genre  u.occupation\n",
      "mku.sh\t   u1.test  u3.base  u4.test  ua.base  ub.test\tu.info\t u.user\n",
      "README\t   u2.base  u3.test  u5.base  ua.test  u.data\tu.item\n"
     ]
    }
   ],
   "source": [
    "# 파일 확인하기\n",
    "!ls \"/content/drive/MyDrive/ml-100k\""
   ]
  },
  {
   "cell_type": "code",
   "execution_count": 3,
   "metadata": {
    "id": "ysbEJG2ocCUX"
   },
   "outputs": [],
   "source": [
    "# 필요한 모듈 import 하기\n",
    "import torch\n",
    "import pandas as pd\n",
    "import torch.nn.functional as F\n",
    "import matplotlib.pyplot as plt"
   ]
  },
  {
   "cell_type": "code",
   "execution_count": 5,
   "metadata": {
    "colab": {
     "base_uri": "https://localhost:8080/",
     "height": 424
    },
    "id": "p3NfkJI2cKpf",
    "outputId": "3e1a59fa-e83d-445e-c6e9-787d1a184e5c"
   },
   "outputs": [
    {
     "data": {
      "text/html": [
       "\n",
       "  <div id=\"df-37b5af08-e219-433b-8446-249cbd8da1b1\">\n",
       "    <div class=\"colab-df-container\">\n",
       "      <div>\n",
       "<style scoped>\n",
       "    .dataframe tbody tr th:only-of-type {\n",
       "        vertical-align: middle;\n",
       "    }\n",
       "\n",
       "    .dataframe tbody tr th {\n",
       "        vertical-align: top;\n",
       "    }\n",
       "\n",
       "    .dataframe thead th {\n",
       "        text-align: right;\n",
       "    }\n",
       "</style>\n",
       "<table border=\"1\" class=\"dataframe\">\n",
       "  <thead>\n",
       "    <tr style=\"text-align: right;\">\n",
       "      <th></th>\n",
       "      <th>user</th>\n",
       "      <th>movie</th>\n",
       "      <th>rating</th>\n",
       "      <th>timestamp</th>\n",
       "    </tr>\n",
       "  </thead>\n",
       "  <tbody>\n",
       "    <tr>\n",
       "      <th>0</th>\n",
       "      <td>1</td>\n",
       "      <td>1</td>\n",
       "      <td>5</td>\n",
       "      <td>874965758</td>\n",
       "    </tr>\n",
       "    <tr>\n",
       "      <th>1</th>\n",
       "      <td>1</td>\n",
       "      <td>2</td>\n",
       "      <td>3</td>\n",
       "      <td>876893171</td>\n",
       "    </tr>\n",
       "    <tr>\n",
       "      <th>2</th>\n",
       "      <td>1</td>\n",
       "      <td>3</td>\n",
       "      <td>4</td>\n",
       "      <td>878542960</td>\n",
       "    </tr>\n",
       "    <tr>\n",
       "      <th>3</th>\n",
       "      <td>1</td>\n",
       "      <td>4</td>\n",
       "      <td>3</td>\n",
       "      <td>876893119</td>\n",
       "    </tr>\n",
       "    <tr>\n",
       "      <th>4</th>\n",
       "      <td>1</td>\n",
       "      <td>5</td>\n",
       "      <td>3</td>\n",
       "      <td>889751712</td>\n",
       "    </tr>\n",
       "    <tr>\n",
       "      <th>...</th>\n",
       "      <td>...</td>\n",
       "      <td>...</td>\n",
       "      <td>...</td>\n",
       "      <td>...</td>\n",
       "    </tr>\n",
       "    <tr>\n",
       "      <th>90565</th>\n",
       "      <td>943</td>\n",
       "      <td>1047</td>\n",
       "      <td>2</td>\n",
       "      <td>875502146</td>\n",
       "    </tr>\n",
       "    <tr>\n",
       "      <th>90566</th>\n",
       "      <td>943</td>\n",
       "      <td>1074</td>\n",
       "      <td>4</td>\n",
       "      <td>888640250</td>\n",
       "    </tr>\n",
       "    <tr>\n",
       "      <th>90567</th>\n",
       "      <td>943</td>\n",
       "      <td>1188</td>\n",
       "      <td>3</td>\n",
       "      <td>888640250</td>\n",
       "    </tr>\n",
       "    <tr>\n",
       "      <th>90568</th>\n",
       "      <td>943</td>\n",
       "      <td>1228</td>\n",
       "      <td>3</td>\n",
       "      <td>888640275</td>\n",
       "    </tr>\n",
       "    <tr>\n",
       "      <th>90569</th>\n",
       "      <td>943</td>\n",
       "      <td>1330</td>\n",
       "      <td>3</td>\n",
       "      <td>888692465</td>\n",
       "    </tr>\n",
       "  </tbody>\n",
       "</table>\n",
       "<p>90570 rows × 4 columns</p>\n",
       "</div>\n",
       "      <button class=\"colab-df-convert\" onclick=\"convertToInteractive('df-37b5af08-e219-433b-8446-249cbd8da1b1')\"\n",
       "              title=\"Convert this dataframe to an interactive table.\"\n",
       "              style=\"display:none;\">\n",
       "        \n",
       "  <svg xmlns=\"http://www.w3.org/2000/svg\" height=\"24px\"viewBox=\"0 0 24 24\"\n",
       "       width=\"24px\">\n",
       "    <path d=\"M0 0h24v24H0V0z\" fill=\"none\"/>\n",
       "    <path d=\"M18.56 5.44l.94 2.06.94-2.06 2.06-.94-2.06-.94-.94-2.06-.94 2.06-2.06.94zm-11 1L8.5 8.5l.94-2.06 2.06-.94-2.06-.94L8.5 2.5l-.94 2.06-2.06.94zm10 10l.94 2.06.94-2.06 2.06-.94-2.06-.94-.94-2.06-.94 2.06-2.06.94z\"/><path d=\"M17.41 7.96l-1.37-1.37c-.4-.4-.92-.59-1.43-.59-.52 0-1.04.2-1.43.59L10.3 9.45l-7.72 7.72c-.78.78-.78 2.05 0 2.83L4 21.41c.39.39.9.59 1.41.59.51 0 1.02-.2 1.41-.59l7.78-7.78 2.81-2.81c.8-.78.8-2.07 0-2.86zM5.41 20L4 18.59l7.72-7.72 1.47 1.35L5.41 20z\"/>\n",
       "  </svg>\n",
       "      </button>\n",
       "      \n",
       "  <style>\n",
       "    .colab-df-container {\n",
       "      display:flex;\n",
       "      flex-wrap:wrap;\n",
       "      gap: 12px;\n",
       "    }\n",
       "\n",
       "    .colab-df-convert {\n",
       "      background-color: #E8F0FE;\n",
       "      border: none;\n",
       "      border-radius: 50%;\n",
       "      cursor: pointer;\n",
       "      display: none;\n",
       "      fill: #1967D2;\n",
       "      height: 32px;\n",
       "      padding: 0 0 0 0;\n",
       "      width: 32px;\n",
       "    }\n",
       "\n",
       "    .colab-df-convert:hover {\n",
       "      background-color: #E2EBFA;\n",
       "      box-shadow: 0px 1px 2px rgba(60, 64, 67, 0.3), 0px 1px 3px 1px rgba(60, 64, 67, 0.15);\n",
       "      fill: #174EA6;\n",
       "    }\n",
       "\n",
       "    [theme=dark] .colab-df-convert {\n",
       "      background-color: #3B4455;\n",
       "      fill: #D2E3FC;\n",
       "    }\n",
       "\n",
       "    [theme=dark] .colab-df-convert:hover {\n",
       "      background-color: #434B5C;\n",
       "      box-shadow: 0px 1px 3px 1px rgba(0, 0, 0, 0.15);\n",
       "      filter: drop-shadow(0px 1px 2px rgba(0, 0, 0, 0.3));\n",
       "      fill: #FFFFFF;\n",
       "    }\n",
       "  </style>\n",
       "\n",
       "      <script>\n",
       "        const buttonEl =\n",
       "          document.querySelector('#df-37b5af08-e219-433b-8446-249cbd8da1b1 button.colab-df-convert');\n",
       "        buttonEl.style.display =\n",
       "          google.colab.kernel.accessAllowed ? 'block' : 'none';\n",
       "\n",
       "        async function convertToInteractive(key) {\n",
       "          const element = document.querySelector('#df-37b5af08-e219-433b-8446-249cbd8da1b1');\n",
       "          const dataTable =\n",
       "            await google.colab.kernel.invokeFunction('convertToInteractive',\n",
       "                                                     [key], {});\n",
       "          if (!dataTable) return;\n",
       "\n",
       "          const docLinkHtml = 'Like what you see? Visit the ' +\n",
       "            '<a target=\"_blank\" href=https://colab.research.google.com/notebooks/data_table.ipynb>data table notebook</a>'\n",
       "            + ' to learn more about interactive tables.';\n",
       "          element.innerHTML = '';\n",
       "          dataTable['output_type'] = 'display_data';\n",
       "          await google.colab.output.renderOutput(dataTable, element);\n",
       "          const docLink = document.createElement('div');\n",
       "          docLink.innerHTML = docLinkHtml;\n",
       "          element.appendChild(docLink);\n",
       "        }\n",
       "      </script>\n",
       "    </div>\n",
       "  </div>\n",
       "  "
      ],
      "text/plain": [
       "       user  movie  rating  timestamp\n",
       "0         1      1       5  874965758\n",
       "1         1      2       3  876893171\n",
       "2         1      3       4  878542960\n",
       "3         1      4       3  876893119\n",
       "4         1      5       3  889751712\n",
       "...     ...    ...     ...        ...\n",
       "90565   943   1047       2  875502146\n",
       "90566   943   1074       4  888640250\n",
       "90567   943   1188       3  888640250\n",
       "90568   943   1228       3  888640275\n",
       "90569   943   1330       3  888692465\n",
       "\n",
       "[90570 rows x 4 columns]"
      ]
     },
     "execution_count": 5,
     "metadata": {},
     "output_type": "execute_result"
    }
   ],
   "source": [
    "# pandas를 이용하여 파일 불러오기\n",
    "train = pd.read_csv(\"/content/drive/MyDrive/ml-100k/ua.base\",\n",
    "                    sep=\"\\t\", names=['user', 'movie', 'rating', 'timestamp'])\n",
    "test = pd.read_csv(\"/content/drive/MyDrive/ml-100k/ua.test\",\n",
    "                    sep=\"\\t\", names=['user', 'movie', 'rating', 'timestamp'])\n",
    "\n",
    "train"
   ]
  },
  {
   "cell_type": "code",
   "execution_count": 12,
   "metadata": {
    "id": "wfS8ZKCKdBCr"
   },
   "outputs": [],
   "source": [
    "# pytorch tensor 데이터로 변환\n",
    "items = torch.tensor(train['movie'], dtype=torch.long)\n",
    "users = torch.tensor(train['user'], dtype=torch.long)\n",
    "ratings = torch.tensor(train['rating'], dtype=torch.float)\n",
    "items_test = torch.tensor(test['movie'], dtype=torch.long)\n",
    "users_test = torch.tensor(test['user'], dtype=torch.long)\n",
    "ratings_test = torch.tensor(test['rating'], dtype=torch.float)"
   ]
  },
  {
   "cell_type": "code",
   "execution_count": 13,
   "metadata": {
    "id": "Gp6EnG-edH9i"
   },
   "outputs": [],
   "source": [
    "rank = 10 # 사용자 vector, 아이템 vector의 차원\n",
    "\n",
    "numItems = items.max() + 1 # 사용자 수\n",
    "numUsers = users.max() + 1 # 아이템 수\n",
    "\n",
    "P = torch.randn(numItems, rank, requires_grad=True) # 아이템 매트릭스\n",
    "Q = torch.randn(numUsers, rank, requires_grad=True) # 사용자 매트릭스"
   ]
  },
  {
   "cell_type": "code",
   "execution_count": 14,
   "metadata": {
    "colab": {
     "base_uri": "https://localhost:8080/"
    },
    "id": "VtY89j_Zdjbj",
    "outputId": "c1dc26d9-8a7a-4a83-82a9-19a3e6b4dd12"
   },
   "outputs": [
    {
     "name": "stdout",
     "output_type": "stream",
     "text": [
      "eopch: 0, cost: 24.327293, test_cost: 22.64885902404785\n",
      "eopch: 100, cost: 0.575251, test_cost: 1.5870660543441772\n",
      "eopch: 200, cost: 0.494760, test_cost: 1.8832876682281494\n",
      "eopch: 300, cost: 0.470535, test_cost: 2.2167093753814697\n",
      "eopch: 400, cost: 0.459569, test_cost: 2.5994937419891357\n",
      "eopch: 500, cost: 0.453637, test_cost: 2.977935552597046\n",
      "eopch: 600, cost: 0.450099, test_cost: 3.371009111404419\n",
      "eopch: 700, cost: 0.447869, test_cost: 3.7774627208709717\n",
      "eopch: 800, cost: 0.446183, test_cost: 4.18400239944458\n",
      "eopch: 900, cost: 0.444696, test_cost: 4.568434715270996\n",
      "eopch: 1000, cost: 0.443482, test_cost: 4.965164661407471\n"
     ]
    }
   ],
   "source": [
    "# 기본 Matrix Factorization 구현\n",
    "optim = torch.optim.Adam([P, Q], lr=0.1)\n",
    "\n",
    "X = []\n",
    "Y = []\n",
    "Y_test = []\n",
    "\n",
    "for epoch in range(1001):\n",
    "  h = torch.sum(P[items] * Q[users], dim=1)\n",
    "  cost = F.mse_loss(h, ratings)\n",
    "\n",
    "  optim.zero_grad()\n",
    "  cost.backward()\n",
    "  optim.step()\n",
    "\n",
    "  with torch.no_grad():\n",
    "    X.append(epoch)\n",
    "    Y.append(cost.item())\n",
    "\n",
    "    h_test = (P[items_test] * Q[users_test]).sum(dim=1)\n",
    "    cost_test = F.mse_loss(h_test, ratings_test)\n",
    "    Y_test.append(cost_test.item())\n",
    "\n",
    "    if epoch % 100 == 0:\n",
    "      print(f\"eopch: {epoch}, cost: {cost.item():.6f}, test_cost: {cost_test.item()}\")"
   ]
  },
  {
   "cell_type": "code",
   "execution_count": 16,
   "metadata": {
    "colab": {
     "base_uri": "https://localhost:8080/",
     "height": 382
    },
    "id": "yh1xYvpYhnNq",
    "outputId": "9893860b-9571-46e2-dbf5-68606fc790dd"
   },
   "outputs": [
    {
     "data": {
      "image/png": "[encoded data removed]",
      "text/plain": [
       "<Figure size 600x400 with 1 Axes>"
      ]
     },
     "metadata": {
      "needs_background": "light"
     },
     "output_type": "display_data"
    }
   ],
   "source": [
    "plt.figure(dpi=100)\n",
    "plt.ylabel(\"MSE\")\n",
    "plt.xlabel(\"Epoch\")\n",
    "plt.plot(X, Y, c=\"blue\", label=\"Training MSE\")\n",
    "plt.plot(X, Y_test, c=\"red\", label=\"Test MSE\")\n",
    "plt.legend()\n",
    "plt.show()"
   ]
  },
  {
   "cell_type": "code",
   "execution_count": 26,
   "metadata": {
    "colab": {
     "base_uri": "https://localhost:8080/",
     "height": 584
    },
    "id": "_P_VanM2mhob",
    "outputId": "db1d9efa-522a-4904-fc95-90dc365a1dd3"
   },
   "outputs": [
    {
     "name": "stdout",
     "output_type": "stream",
     "text": [
      "eopch: 0, cost: 23.450569, test_cost: 21.407791137695312\n",
      "eopch: 100, cost: 0.652325, test_cost: 1.02053701877594\n",
      "eopch: 200, cost: 0.603505, test_cost: 1.0171828269958496\n",
      "eopch: 300, cost: 0.595277, test_cost: 1.0221362113952637\n",
      "eopch: 400, cost: 0.592059, test_cost: 1.0225189924240112\n",
      "eopch: 500, cost: 0.590022, test_cost: 1.0205137729644775\n",
      "eopch: 600, cost: 0.588786, test_cost: 1.0189852714538574\n",
      "eopch: 700, cost: 0.588154, test_cost: 1.0177277326583862\n",
      "eopch: 800, cost: 0.587862, test_cost: 1.0166311264038086\n",
      "eopch: 900, cost: 0.587723, test_cost: 1.015733242034912\n",
      "eopch: 1000, cost: 0.587640, test_cost: 1.0150490999221802\n"
     ]
    },
    {
     "data": {
      "image/png": "[encoded data removed]",
      "text/plain": [
       "<Figure size 600x400 with 1 Axes>"
      ]
     },
     "metadata": {
      "needs_background": "light"
     },
     "output_type": "display_data"
    }
   ],
   "source": [
    "P = torch.randn(numItems, rank, requires_grad=True)\n",
    "Q = torch.randn(numUsers, rank, requires_grad=True)\n",
    "\n",
    "# Regularization 추가하기\n",
    "lambda1 = 1\n",
    "lambda2 = 1\n",
    "\n",
    "optim = torch.optim.Adam([P, Q], lr=0.1)\n",
    "\n",
    "X = []\n",
    "Y = []\n",
    "Y_test = []\n",
    "\n",
    "for epoch in range(1001):\n",
    "  h = torch.sum(P[items] * Q[users], dim=1)\n",
    "  cost = F.mse_loss(h, ratings)\n",
    "  loss = cost + lambda1 * (P * P).mean() + lambda2 * (Q * Q).mean()\n",
    "\n",
    "  optim.zero_grad()\n",
    "  loss.backward()\n",
    "  optim.step()\n",
    "\n",
    "  with torch.no_grad():\n",
    "    X.append(epoch)\n",
    "    Y.append(cost.item())\n",
    "\n",
    "    h_test = (P[items_test] * Q[users_test]).sum(dim=1)\n",
    "    cost_test = F.mse_loss(h_test, ratings_test)\n",
    "    Y_test.append(cost_test.item())\n",
    "\n",
    "    if epoch % 100 == 0:\n",
    "      print(f\"eopch: {epoch}, cost: {cost.item():.6f}, test_cost: {cost_test.item()}\")\n",
    "  \n",
    "plt.figure(dpi=100)\n",
    "plt.ylabel(\"MSE\")\n",
    "plt.xlabel(\"Epoch\")\n",
    "plt.plot(X, Y, c=\"blue\", label=\"Training MSE\")\n",
    "plt.plot(X, Y_test, c=\"red\", label=\"Test MSE\")\n",
    "plt.legend()\n",
    "plt.show()"
   ]
  },
  {
   "cell_type": "code",
   "execution_count": 28,
   "metadata": {
    "colab": {
     "base_uri": "https://localhost:8080/",
     "height": 584
    },
    "id": "x7NFDmleojTl",
    "outputId": "2e70d279-c98e-46e9-dacc-9e1a543aa6cd"
   },
   "outputs": [
    {
     "name": "stdout",
     "output_type": "stream",
     "text": [
      "eopch: 0, cost: 13.892470, test_cost: 10.895406723022461\n",
      "eopch: 100, cost: 0.610665, test_cost: 0.9340285062789917\n",
      "eopch: 200, cost: 0.578251, test_cost: 0.9163210988044739\n",
      "eopch: 300, cost: 0.574502, test_cost: 0.9094997048377991\n",
      "eopch: 400, cost: 0.573509, test_cost: 0.905746579170227\n",
      "eopch: 500, cost: 0.572798, test_cost: 0.9041678309440613\n",
      "eopch: 600, cost: 0.572051, test_cost: 0.905362606048584\n",
      "eopch: 700, cost: 0.571123, test_cost: 0.9090666174888611\n",
      "eopch: 800, cost: 0.570765, test_cost: 0.9096581339836121\n",
      "eopch: 900, cost: 0.570676, test_cost: 0.9085574746131897\n",
      "eopch: 1000, cost: 0.570642, test_cost: 0.9073695540428162\n"
     ]
    },
    {
     "data": {
      "image/png": "[encoded data removed]",
      "text/plain": [
       "<Figure size 600x400 with 1 Axes>"
      ]
     },
     "metadata": {
      "needs_background": "light"
     },
     "output_type": "display_data"
    }
   ],
   "source": [
    "P = torch.randn(numItems, rank, requires_grad=True)\n",
    "Q = torch.randn(numUsers, rank, requires_grad=True)\n",
    "\n",
    "# Bias 추가하기\n",
    "lambda1 = 1\n",
    "lambda2 = 1\n",
    "lambda3 = 1\n",
    "lambda4 = 1\n",
    "\n",
    "bias_item = torch.randn(numItems, requires_grad=True)\n",
    "bias_user = torch.randn(numUsers, requires_grad=True)\n",
    "mean = ratings.mean()\n",
    "\n",
    "optim = torch.optim.Adam([P, Q, bias_item, bias_user], lr=0.1)\n",
    "\n",
    "X = []\n",
    "Y = []\n",
    "Y_test = []\n",
    "for epoch in range(1001):\n",
    "  h = torch.sum(P[items] * Q[users], dim=1) + mean + bias_item[items] + bias_user[users]\n",
    "  cost = F.mse_loss(h, ratings)\n",
    "  loss = cost + lambda1 * (P * P).mean() + lambda2 * (Q * Q).mean() + \\\n",
    "      lambda3 * (bias_user ** 2).mean() + lambda4 * (bias_item ** 2).mean()\n",
    "\n",
    "  optim.zero_grad()\n",
    "  loss.backward()\n",
    "  optim.step()\n",
    "\n",
    "  with torch.no_grad():\n",
    "    X.append(epoch)\n",
    "    Y.append(cost.item())\n",
    "\n",
    "    h_test = (P[items_test] * Q[users_test]).sum(dim=1) + \\\n",
    "        mean + bias_item[items_test] + bias_user[users_test]\n",
    "    cost_test = F.mse_loss(h_test, ratings_test)\n",
    "    Y_test.append(cost_test.item())\n",
    "\n",
    "    if epoch % 100 == 0:\n",
    "      print(f\"eopch: {epoch}, cost: {cost.item():.6f}, test_cost: {cost_test.item()}\")\n",
    "\n",
    "plt.figure(dpi=100)\n",
    "plt.ylabel(\"MSE\")\n",
    "plt.xlabel(\"Epoch\")\n",
    "plt.plot(X, Y, c=\"blue\", label=\"Training MSE\")\n",
    "plt.plot(X, Y_test, c=\"red\", label=\"Test MSE\")\n",
    "plt.legend()\n",
    "plt.show()"
   ]
  },
  {
   "cell_type": "code",
   "execution_count": null,
   "metadata": {
    "id": "XJu52rvFqx8b"
   },
   "outputs": [],
   "source": []
  }
 ],
 "metadata": {
  "colab": {
   "collapsed_sections": [],
   "provenance": []
  },
  "kernelspec": {
   "display_name": "Python 3 (ipykernel)",
   "language": "python",
   "name": "python3"
  },
  "language_info": {
   "codemirror_mode": {
    "name": "ipython",
    "version": 3
   },
   "file_extension": ".py",
   "mimetype": "text/x-python",
   "name": "python",
   "nbconvert_exporter": "python",
   "pygments_lexer": "ipython3",
   "version": "3.8.13"
  }
 },
 "nbformat": 4,
 "nbformat_minor": 1
}
