{
 "cells": [
  {
   "cell_type": "markdown",
   "metadata": {
    "id": "TDnrNFRBGif7"
   },
   "source": [
    "### Pytorch로 Logistic Regression 구현"
   ]
  },
  {
   "cell_type": "code",
   "execution_count": 5,
   "metadata": {
    "id": "E-z_tS31Gktg"
   },
   "outputs": [],
   "source": [
    "# 학습 데이터 생성\n",
    "import torch\n",
    "\n",
    "x_train = torch.FloatTensor([[1], [2], [3], [4], [5], [2.5], [3.5], [0], [3.1], [2.7], [2.8], [2.9]])\n",
    "y_train = torch.FloatTensor([[1], [1], [1], [0], [0], [0], [0], [1], [0], [1], [1], [1]])"
   ]
  },
  {
   "cell_type": "code",
   "execution_count": 2,
   "metadata": {
    "id": "ihKBXoZpG36I"
   },
   "outputs": [],
   "source": [
    "# W, b 초기화\n",
    "W = torch.zeros(1, 1)\n",
    "b = torch.zeros(1, 1)\n",
    "\n",
    "# Learning Rate 설정\n",
    "lr = 1.0"
   ]
  },
  {
   "cell_type": "code",
   "execution_count": 4,
   "metadata": {
    "colab": {
     "base_uri": "https://localhost:8080/"
    },
    "id": "mdFqCkPPHG2I",
    "outputId": "46bc5dfe-5bbd-43db-cb48-891d7df41fc4"
   },
   "outputs": [
    {
     "name": "stdout",
     "output_type": "stream",
     "text": [
      "epoch: 0, cost: 0.693147, W: -0.154167, b: 0.083333\n",
      "epoch: 100, cost: 0.420221, W: -1.451281, b: 4.406925\n",
      "epoch: 200, cost: 0.398721, W: -1.898433, b: 5.773750\n",
      "epoch: 300, cost: 0.390820, W: -2.174322, b: 6.609553\n",
      "epoch: 400, cost: 0.387009, W: -2.367329, b: 7.191599\n",
      "epoch: 500, cost: 0.384924, W: -2.510626, b: 7.622530\n",
      "epoch: 600, cost: 0.383699, W: -2.620779, b: 7.953164\n",
      "epoch: 700, cost: 0.382944, W: -2.707397, b: 8.212804\n",
      "epoch: 800, cost: 0.382463, W: -2.776597, b: 8.420023\n",
      "epoch: 900, cost: 0.382149, W: -2.832521, b: 8.587363\n",
      "epoch: 1000, cost: 0.381941, W: -2.878112, b: 8.723699\n",
      "epoch: 1100, cost: 0.381801, W: -2.915530, b: 8.835541\n",
      "epoch: 1200, cost: 0.381706, W: -2.946401, b: 8.927779\n",
      "epoch: 1300, cost: 0.381641, W: -2.971979, b: 9.004180\n",
      "epoch: 1400, cost: 0.381596, W: -2.993242, b: 9.067673\n",
      "epoch: 1500, cost: 0.381565, W: -3.010968, b: 9.120598\n",
      "epoch: 1600, cost: 0.381543, W: -3.025776, b: 9.164800\n",
      "epoch: 1700, cost: 0.381528, W: -3.038172, b: 9.201797\n",
      "epoch: 1800, cost: 0.381517, W: -3.048561, b: 9.232802\n",
      "epoch: 1900, cost: 0.381509, W: -3.057279, b: 9.258815\n",
      "epoch: 2000, cost: 0.381504, W: -3.064605, b: 9.280675\n",
      "epoch: 2100, cost: 0.381500, W: -3.070765, b: 9.299053\n",
      "epoch: 2200, cost: 0.381497, W: -3.075948, b: 9.314517\n",
      "epoch: 2300, cost: 0.381495, W: -3.080314, b: 9.327539\n",
      "epoch: 2400, cost: 0.381494, W: -3.083991, b: 9.338510\n",
      "epoch: 2500, cost: 0.381493, W: -3.087090, b: 9.347754\n",
      "epoch: 2600, cost: 0.381493, W: -3.089704, b: 9.355551\n",
      "epoch: 2700, cost: 0.381492, W: -3.091908, b: 9.362126\n",
      "epoch: 2800, cost: 0.381492, W: -3.093769, b: 9.367676\n",
      "epoch: 2900, cost: 0.381491, W: -3.095338, b: 9.372355\n",
      "epoch: 3000, cost: 0.381491, W: -3.096662, b: 9.376306\n"
     ]
    }
   ],
   "source": [
    "# 반복횟수 설정\n",
    "# W와 b의 requires_grad를 True로 설정\n",
    "for epoch in range(3001):\n",
    "  W.requires_grad_(True)\n",
    "  b.requires_grad_(True)\n",
    "\n",
    "  # Hypothesis, cost 설정\n",
    "  hypothesis = torch.sigmoid(torch.mm(x_train, W) + b)\n",
    "  cost = torch.mean(\n",
    "      -y_train * torch.log(hypothesis)\n",
    "      -(1 - y_train) * torch.log(1 - hypothesis)\n",
    "  )\n",
    "\n",
    "  # 경사 계산\n",
    "  # W, b 업데이트\n",
    "  cost.backward()\n",
    "  with torch.no_grad() as grd:\n",
    "    W = W - lr * W.grad\n",
    "    b = b - lr * b.grad\n",
    "  \n",
    "  # 학습이 잘 되는지 확인하기 위한 내용 출력\n",
    "  if epoch % 100 == 0:\n",
    "    print(f'epoch: {epoch}, cost: {cost.item():.6f}, W: {W.squeeze():.6f}, b: {b.squeeze():.6f}')"
   ]
  },
  {
   "cell_type": "markdown",
   "metadata": {
    "id": "MtKDmbVUInBS"
   },
   "source": [
    "### 여러가지 Optimizer 사용해보기"
   ]
  },
  {
   "cell_type": "code",
   "execution_count": 7,
   "metadata": {
    "id": "9AqJlFzyILVl"
   },
   "outputs": [],
   "source": [
    "# pytorch에 이미 구현되어 있는 여러가지 optimizer\n",
    "optimizer = torch.optim.SGD([W, b], lr=1.0)\n",
    "# optimizer = torch.optim.Adam([W,b], lr=1.0)\n",
    "# optimizer = torch.optim.Adadelta([W,b])\n",
    "# optimizer = torch.optim.Adagrad([W,b])\n",
    "# optimizer = torch.optim.RMSprop([W,b])"
   ]
  },
  {
   "cell_type": "code",
   "execution_count": 8,
   "metadata": {
    "colab": {
     "base_uri": "https://localhost:8080/"
    },
    "id": "cSPjpgzxI7cg",
    "outputId": "209ff763-76e1-4c98-ed7d-49dec4a709ef"
   },
   "outputs": [
    {
     "name": "stdout",
     "output_type": "stream",
     "text": [
      "epoch: 0, cost: 0.381491, W: -3.096674, b: 9.376342\n",
      "epoch: 100, cost: 0.381491, W: -3.097791, b: 9.379672\n",
      "epoch: 200, cost: 0.381491, W: -3.098733, b: 9.382483\n",
      "epoch: 300, cost: 0.381491, W: -3.099529, b: 9.384856\n",
      "epoch: 400, cost: 0.381491, W: -3.100201, b: 9.386860\n",
      "epoch: 500, cost: 0.381491, W: -3.100768, b: 9.388552\n",
      "epoch: 600, cost: 0.381491, W: -3.101247, b: 9.389980\n",
      "epoch: 700, cost: 0.381491, W: -3.101651, b: 9.391188\n",
      "epoch: 800, cost: 0.381491, W: -3.101992, b: 9.392203\n",
      "epoch: 900, cost: 0.381491, W: -3.102282, b: 9.393066\n",
      "epoch: 1000, cost: 0.381491, W: -3.102524, b: 9.393790\n",
      "epoch: 1100, cost: 0.381491, W: -3.102730, b: 9.394404\n",
      "epoch: 1200, cost: 0.381491, W: -3.102904, b: 9.394921\n",
      "epoch: 1300, cost: 0.381491, W: -3.103051, b: 9.395362\n",
      "epoch: 1400, cost: 0.381491, W: -3.103179, b: 9.395742\n",
      "epoch: 1500, cost: 0.381491, W: -3.103278, b: 9.396037\n",
      "epoch: 1600, cost: 0.381491, W: -3.103373, b: 9.396320\n",
      "epoch: 1700, cost: 0.381491, W: -3.103440, b: 9.396523\n",
      "epoch: 1800, cost: 0.381491, W: -3.103504, b: 9.396713\n",
      "epoch: 1900, cost: 0.381491, W: -3.103565, b: 9.396894\n",
      "epoch: 2000, cost: 0.381491, W: -3.103602, b: 9.397006\n",
      "epoch: 2100, cost: 0.381491, W: -3.103634, b: 9.397101\n",
      "epoch: 2200, cost: 0.381491, W: -3.103666, b: 9.397197\n",
      "epoch: 2300, cost: 0.381491, W: -3.103698, b: 9.397292\n",
      "epoch: 2400, cost: 0.381491, W: -3.103730, b: 9.397388\n",
      "epoch: 2500, cost: 0.381491, W: -3.103755, b: 9.397459\n",
      "epoch: 2600, cost: 0.381491, W: -3.103761, b: 9.397478\n",
      "epoch: 2700, cost: 0.381491, W: -3.103761, b: 9.397478\n",
      "epoch: 2800, cost: 0.381491, W: -3.103761, b: 9.397478\n",
      "epoch: 2900, cost: 0.381491, W: -3.103761, b: 9.397478\n",
      "epoch: 3000, cost: 0.381491, W: -3.103761, b: 9.397478\n"
     ]
    }
   ],
   "source": [
    "for epoch in range(3001):\n",
    "  W.requires_grad_(True)\n",
    "  b.requires_grad_(True)\n",
    "\n",
    "  hypothesis = torch.sigmoid(torch.mm(x_train, W) + b)\n",
    "  cost = torch.mean(\n",
    "      -y_train * torch.log(hypothesis)\n",
    "      -(1 - y_train) * torch.log(1 - hypothesis)\n",
    "  )\n",
    "\n",
    "  # 기존 (Gradient descent 직접 구현)\n",
    "  # cost.backward()\n",
    "  # with torch.no_grad() as grd:\n",
    "  #   W = W - lr * W.grad\n",
    "  #   b = b - lr * b.grad\n",
    "  \n",
    "  # 변경 후 (미리 구현된 모듈 사용)\n",
    "  optimizer.zero_grad()\n",
    "  cost.backward()\n",
    "  optimizer.step()\n",
    "  \n",
    "  if epoch % 100 == 0:\n",
    "    print(f'epoch: {epoch}, cost: {cost.item():.6f}, W: {W.squeeze():.6f}, b: {b.squeeze():.6f}')"
   ]
  },
  {
   "cell_type": "markdown",
   "metadata": {
    "id": "8WzRR2n_JjlA"
   },
   "source": [
    "### Matplotlib으로 결과 시각화"
   ]
  },
  {
   "cell_type": "code",
   "execution_count": 14,
   "metadata": {
    "colab": {
     "base_uri": "https://localhost:8080/",
     "height": 279
    },
    "id": "_7Q6W4ecJSOS",
    "outputId": "0ad349f0-78f7-4091-ad14-30e31fc06ac8"
   },
   "outputs": [
    {
     "data": {
      "image/png": "[encoded data removed]",
      "text/plain": [
       "<Figure size 432x288 with 1 Axes>"
      ]
     },
     "metadata": {
      "needs_background": "light"
     },
     "output_type": "display_data"
    }
   ],
   "source": [
    "import matplotlib.pyplot as plt\n",
    "W.requires_grad_(False)\n",
    "b.requires_grad_(False)\n",
    "\n",
    "X = torch.linspace(0, 5, 100).unsqueeze(1)\n",
    "Y = torch.sigmoid(torch.mm(X, W) + b)\n",
    "\n",
    "# 점과 선의 색 변경하기, 범례 달기\n",
    "plt.scatter(x_train, y_train, c=\"black\", label=\"Training data\")\n",
    "plt.plot(X, Y, c=\"#ff0000\", label=\"Fitting line\")\n",
    "plt.legend()\n",
    "\n",
    "# label 달기\n",
    "plt.ylabel(\"Probability of 1 (Y)\")\n",
    "plt.xlabel(\"Input (X)\")\n",
    "\n",
    "plt.show()"
   ]
  },
  {
   "cell_type": "markdown",
   "metadata": {
    "id": "k-93JX_5KtYm"
   },
   "source": [
    "### sklearn에서 Logistic Regression 사용"
   ]
  },
  {
   "cell_type": "code",
   "execution_count": 15,
   "metadata": {
    "colab": {
     "base_uri": "https://localhost:8080/"
    },
    "id": "mpJjT2OHJ1px",
    "outputId": "ca3c32ea-ef3a-44ce-e511-0d97868f75f5"
   },
   "outputs": [
    {
     "name": "stdout",
     "output_type": "stream",
     "text": [
      "[[-3.10385806]] [9.39776831]\n",
      "[0 1]\n"
     ]
    }
   ],
   "source": [
    "from sklearn.linear_model import LogisticRegression\n",
    "\n",
    "x_train = [[1], [2], [3], [4], [5], [2.5], [3.5], [0], [3.1], [2.7], [2.8], [2.9]]\n",
    "y_train = [1 ,1, 1, 0, 0, 0, 0, 1, 0, 1, 1, 1] # 입력 shape이 pytorch에서와 다름\n",
    "\n",
    "model = LogisticRegression(penalty='none')\n",
    "model.fit(x_train, y_train)\n",
    "\n",
    "#W와 b에 해당하는 값 출력\n",
    "print(model.coef_, model.intercept_)\n",
    "\n",
    "# 새로운 x값이 주어질 때 y값 예측해보기\n",
    "x_test = [[4.5],[1.1]]\n",
    "test_result = model.predict(x_test)\n",
    "print(test_result)"
   ]
  },
  {
   "cell_type": "code",
   "execution_count": null,
   "metadata": {
    "id": "yRTcKLl7LFs9"
   },
   "outputs": [],
   "source": []
  }
 ],
 "metadata": {
  "colab": {
   "provenance": []
  },
  "kernelspec": {
   "display_name": "Python 3 (ipykernel)",
   "language": "python",
   "name": "python3"
  },
  "language_info": {
   "codemirror_mode": {
    "name": "ipython",
    "version": 3
   },
   "file_extension": ".py",
   "mimetype": "text/x-python",
   "name": "python",
   "nbconvert_exporter": "python",
   "pygments_lexer": "ipython3",
   "version": "3.8.13"
  }
 },
 "nbformat": 4,
 "nbformat_minor": 1
}
