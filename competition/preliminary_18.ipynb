{
 "cells": [
  {
   "cell_type": "markdown",
   "metadata": {
    "id": "OKsr6gKQ7kzr"
   },
   "source": [
    "###### 라이브러리"
   ]
  },
  {
   "cell_type": "code",
   "execution_count": null,
   "metadata": {
    "colab": {
     "base_uri": "https://localhost:8080/"
    },
    "id": "bc8Xu1FrkMXq",
    "outputId": "44b089e8-cad5-48eb-a620-6da230e66e36"
   },
   "outputs": [
    {
     "name": "stdout",
     "output_type": "stream",
     "text": [
      "Looking in indexes: https://pypi.org/simple, https://us-python.pkg.dev/colab-wheels/public/simple/\n",
      "Collecting catboost\n",
      "  Downloading catboost-1.0.6-cp37-none-manylinux1_x86_64.whl (76.6 MB)\n",
      "\u001b[K     |████████████████████████████████| 76.6 MB 1.1 MB/s \n",
      "\u001b[?25hRequirement already satisfied: graphviz in /usr/local/lib/python3.7/dist-packages (from catboost) (0.10.1)\n",
      "Requirement already satisfied: plotly in /usr/local/lib/python3.7/dist-packages (from catboost) (5.5.0)\n",
      "Requirement already satisfied: six in /usr/local/lib/python3.7/dist-packages (from catboost) (1.15.0)\n",
      "Requirement already satisfied: matplotlib in /usr/local/lib/python3.7/dist-packages (from catboost) (3.2.2)\n",
      "Requirement already satisfied: pandas>=0.24.0 in /usr/local/lib/python3.7/dist-packages (from catboost) (1.3.5)\n",
      "Requirement already satisfied: scipy in /usr/local/lib/python3.7/dist-packages (from catboost) (1.7.3)\n",
      "Requirement already satisfied: numpy>=1.16.0 in /usr/local/lib/python3.7/dist-packages (from catboost) (1.21.6)\n",
      "Requirement already satisfied: python-dateutil>=2.7.3 in /usr/local/lib/python3.7/dist-packages (from pandas>=0.24.0->catboost) (2.8.2)\n",
      "Requirement already satisfied: pytz>=2017.3 in /usr/local/lib/python3.7/dist-packages (from pandas>=0.24.0->catboost) (2022.2.1)\n",
      "Requirement already satisfied: cycler>=0.10 in /usr/local/lib/python3.7/dist-packages (from matplotlib->catboost) (0.11.0)\n",
      "Requirement already satisfied: kiwisolver>=1.0.1 in /usr/local/lib/python3.7/dist-packages (from matplotlib->catboost) (1.4.4)\n",
      "Requirement already satisfied: pyparsing!=2.0.4,!=2.1.2,!=2.1.6,>=2.0.1 in /usr/local/lib/python3.7/dist-packages (from matplotlib->catboost) (3.0.9)\n",
      "Requirement already satisfied: typing-extensions in /usr/local/lib/python3.7/dist-packages (from kiwisolver>=1.0.1->matplotlib->catboost) (4.1.1)\n",
      "Requirement already satisfied: tenacity>=6.2.0 in /usr/local/lib/python3.7/dist-packages (from plotly->catboost) (8.0.1)\n",
      "Installing collected packages: catboost\n",
      "Successfully installed catboost-1.0.6\n"
     ]
    }
   ],
   "source": [
    "pip install catboost"
   ]
  },
  {
   "cell_type": "code",
   "execution_count": null,
   "metadata": {
    "colab": {
     "base_uri": "https://localhost:8080/"
    },
    "id": "qT25G_2Jouv8",
    "outputId": "7caeafa1-d6da-4519-8841-d89209b69c92"
   },
   "outputs": [
    {
     "name": "stdout",
     "output_type": "stream",
     "text": [
      "Looking in indexes: https://pypi.org/simple, https://us-python.pkg.dev/colab-wheels/public/simple/\n",
      "Collecting bayesian-optimization\n",
      "  Downloading bayesian-optimization-1.2.0.tar.gz (14 kB)\n",
      "Requirement already satisfied: numpy>=1.9.0 in /usr/local/lib/python3.7/dist-packages (from bayesian-optimization) (1.21.6)\n",
      "Requirement already satisfied: scipy>=0.14.0 in /usr/local/lib/python3.7/dist-packages (from bayesian-optimization) (1.7.3)\n",
      "Requirement already satisfied: scikit-learn>=0.18.0 in /usr/local/lib/python3.7/dist-packages (from bayesian-optimization) (1.0.2)\n",
      "Requirement already satisfied: joblib>=0.11 in /usr/local/lib/python3.7/dist-packages (from scikit-learn>=0.18.0->bayesian-optimization) (1.1.0)\n",
      "Requirement already satisfied: threadpoolctl>=2.0.0 in /usr/local/lib/python3.7/dist-packages (from scikit-learn>=0.18.0->bayesian-optimization) (3.1.0)\n",
      "Building wheels for collected packages: bayesian-optimization\n",
      "  Building wheel for bayesian-optimization (setup.py) ... \u001b[?25l\u001b[?25hdone\n",
      "  Created wheel for bayesian-optimization: filename=bayesian_optimization-1.2.0-py3-none-any.whl size=11685 sha256=33866b9404aa1b6196b922cca72f3173c9b44b6990daa0dcf7290ef212550182\n",
      "  Stored in directory: /root/.cache/pip/wheels/fd/9b/71/f127d694e02eb40bcf18c7ae9613b88a6be4470f57a8528c5b\n",
      "Successfully built bayesian-optimization\n",
      "Installing collected packages: bayesian-optimization\n",
      "Successfully installed bayesian-optimization-1.2.0\n"
     ]
    }
   ],
   "source": [
    "pip install bayesian-optimization"
   ]
  },
  {
   "cell_type": "code",
   "execution_count": null,
   "metadata": {
    "id": "MtCNCN3IJF8J"
   },
   "outputs": [],
   "source": [
    "import numpy as np\n",
    "import pandas as pd\n",
    "import seaborn as sns\n",
    "import matplotlib.pyplot as plt\n",
    "from sklearn.metrics import accuracy_score, silhouette_score, roc_auc_score\n",
    "from sklearn.model_selection import KFold\n",
    "from sklearn.cluster import KMeans\n",
    "from sklearn.decomposition import PCA\n",
    "\n",
    "from sklearn.ensemble import RandomForestClassifier, ExtraTreesClassifier, VotingClassifier\n",
    "from sklearn.linear_model import LogisticRegression\n",
    "from sklearn.svm import SVC\n",
    "from sklearn.neighbors import KNeighborsClassifier\n",
    "from sklearn.naive_bayes import GaussianNB\n",
    "from xgboost import XGBClassifier\n",
    "from lightgbm import LGBMClassifier\n",
    "from catboost import CatBoostClassifier\n",
    "\n",
    "from bayes_opt import BayesianOptimization"
   ]
  },
  {
   "cell_type": "markdown",
   "metadata": {
    "id": "pnrXLIlWTnve"
   },
   "source": [
    "###### Kmode"
   ]
  },
  {
   "cell_type": "code",
   "execution_count": null,
   "metadata": {
    "colab": {
     "base_uri": "https://localhost:8080/"
    },
    "id": "Vin1ApMm-t0G",
    "outputId": "f141ba5b-9776-4000-c176-2113f43713aa"
   },
   "outputs": [
    {
     "name": "stdout",
     "output_type": "stream",
     "text": [
      "Looking in indexes: https://pypi.org/simple, https://us-python.pkg.dev/colab-wheels/public/simple/\n",
      "Requirement already satisfied: kmodes in /usr/local/lib/python3.7/dist-packages (0.12.1)\n",
      "Requirement already satisfied: numpy>=1.10.4 in /usr/local/lib/python3.7/dist-packages (from kmodes) (1.21.6)\n",
      "Requirement already satisfied: scikit-learn>=0.22.0 in /usr/local/lib/python3.7/dist-packages (from kmodes) (1.0.2)\n",
      "Requirement already satisfied: joblib>=0.11 in /usr/local/lib/python3.7/dist-packages (from kmodes) (1.1.0)\n",
      "Requirement already satisfied: scipy>=0.13.3 in /usr/local/lib/python3.7/dist-packages (from kmodes) (1.7.3)\n",
      "Requirement already satisfied: threadpoolctl>=2.0.0 in /usr/local/lib/python3.7/dist-packages (from scikit-learn>=0.22.0->kmodes) (3.1.0)\n"
     ]
    }
   ],
   "source": [
    "pip install kmodes"
   ]
  },
  {
   "cell_type": "code",
   "execution_count": null,
   "metadata": {
    "id": "FvA4ZsZV_Zy6"
   },
   "outputs": [],
   "source": [
    "from kmodes.kmodes import KModes\n",
    "from kmodes.kprototypes import KPrototypes"
   ]
  },
  {
   "cell_type": "markdown",
   "metadata": {
    "id": "9uI8dH2r7qYe"
   },
   "source": [
    "###### csv 파일 불러오기"
   ]
  },
  {
   "cell_type": "code",
   "execution_count": null,
   "metadata": {
    "colab": {
     "base_uri": "https://localhost:8080/",
     "height": 236
    },
    "id": "7XlngzOgJOyC",
    "outputId": "e974acd9-df37-44a3-9d5e-90758659eb32"
   },
   "outputs": [
    {
     "data": {
      "text/html": [
       "\n",
       "  <div id=\"df-e208683e-1a35-4dcb-a461-8e9fd5a0ab41\">\n",
       "    <div class=\"colab-df-container\">\n",
       "      <div>\n",
       "<style scoped>\n",
       "    .dataframe tbody tr th:only-of-type {\n",
       "        vertical-align: middle;\n",
       "    }\n",
       "\n",
       "    .dataframe tbody tr th {\n",
       "        vertical-align: top;\n",
       "    }\n",
       "\n",
       "    .dataframe thead th {\n",
       "        text-align: right;\n",
       "    }\n",
       "</style>\n",
       "<table border=\"1\" class=\"dataframe\">\n",
       "  <thead>\n",
       "    <tr style=\"text-align: right;\">\n",
       "      <th></th>\n",
       "      <th>Q1</th>\n",
       "      <th>Q2</th>\n",
       "      <th>Q3</th>\n",
       "      <th>Q4</th>\n",
       "      <th>Q5</th>\n",
       "      <th>Q6</th>\n",
       "      <th>Q7</th>\n",
       "      <th>Q8</th>\n",
       "      <th>Q9</th>\n",
       "      <th>Q10</th>\n",
       "      <th>...</th>\n",
       "      <th>engnat</th>\n",
       "      <th>age</th>\n",
       "      <th>hand</th>\n",
       "      <th>religion</th>\n",
       "      <th>orientation</th>\n",
       "      <th>voted</th>\n",
       "      <th>married</th>\n",
       "      <th>familysize</th>\n",
       "      <th>ASD</th>\n",
       "      <th>nerdiness</th>\n",
       "    </tr>\n",
       "  </thead>\n",
       "  <tbody>\n",
       "    <tr>\n",
       "      <th>0</th>\n",
       "      <td>1.0</td>\n",
       "      <td>5.0</td>\n",
       "      <td>5.0</td>\n",
       "      <td>5.0</td>\n",
       "      <td>1.0</td>\n",
       "      <td>4.0</td>\n",
       "      <td>5.0</td>\n",
       "      <td>5.0</td>\n",
       "      <td>1.0</td>\n",
       "      <td>3.0</td>\n",
       "      <td>...</td>\n",
       "      <td>1.0</td>\n",
       "      <td>20</td>\n",
       "      <td>2.0</td>\n",
       "      <td>12.0</td>\n",
       "      <td>4.0</td>\n",
       "      <td>2.0</td>\n",
       "      <td>1.0</td>\n",
       "      <td>4.0</td>\n",
       "      <td>2.0</td>\n",
       "      <td>1</td>\n",
       "    </tr>\n",
       "    <tr>\n",
       "      <th>1</th>\n",
       "      <td>4.0</td>\n",
       "      <td>4.0</td>\n",
       "      <td>4.0</td>\n",
       "      <td>4.0</td>\n",
       "      <td>4.0</td>\n",
       "      <td>5.0</td>\n",
       "      <td>4.0</td>\n",
       "      <td>4.0</td>\n",
       "      <td>3.0</td>\n",
       "      <td>3.0</td>\n",
       "      <td>...</td>\n",
       "      <td>1.0</td>\n",
       "      <td>49</td>\n",
       "      <td>1.0</td>\n",
       "      <td>2.0</td>\n",
       "      <td>1.0</td>\n",
       "      <td>1.0</td>\n",
       "      <td>2.0</td>\n",
       "      <td>4.0</td>\n",
       "      <td>2.0</td>\n",
       "      <td>1</td>\n",
       "    </tr>\n",
       "    <tr>\n",
       "      <th>2</th>\n",
       "      <td>4.0</td>\n",
       "      <td>5.0</td>\n",
       "      <td>5.0</td>\n",
       "      <td>4.0</td>\n",
       "      <td>3.0</td>\n",
       "      <td>5.0</td>\n",
       "      <td>5.0</td>\n",
       "      <td>5.0</td>\n",
       "      <td>4.0</td>\n",
       "      <td>4.0</td>\n",
       "      <td>...</td>\n",
       "      <td>2.0</td>\n",
       "      <td>43</td>\n",
       "      <td>1.0</td>\n",
       "      <td>2.0</td>\n",
       "      <td>2.0</td>\n",
       "      <td>2.0</td>\n",
       "      <td>3.0</td>\n",
       "      <td>4.0</td>\n",
       "      <td>2.0</td>\n",
       "      <td>1</td>\n",
       "    </tr>\n",
       "    <tr>\n",
       "      <th>3</th>\n",
       "      <td>4.0</td>\n",
       "      <td>4.0</td>\n",
       "      <td>4.0</td>\n",
       "      <td>2.0</td>\n",
       "      <td>4.0</td>\n",
       "      <td>3.0</td>\n",
       "      <td>3.0</td>\n",
       "      <td>5.0</td>\n",
       "      <td>3.0</td>\n",
       "      <td>4.0</td>\n",
       "      <td>...</td>\n",
       "      <td>1.0</td>\n",
       "      <td>17</td>\n",
       "      <td>2.0</td>\n",
       "      <td>1.0</td>\n",
       "      <td>1.0</td>\n",
       "      <td>2.0</td>\n",
       "      <td>1.0</td>\n",
       "      <td>2.0</td>\n",
       "      <td>2.0</td>\n",
       "      <td>1</td>\n",
       "    </tr>\n",
       "    <tr>\n",
       "      <th>4</th>\n",
       "      <td>4.0</td>\n",
       "      <td>4.0</td>\n",
       "      <td>4.0</td>\n",
       "      <td>4.0</td>\n",
       "      <td>3.0</td>\n",
       "      <td>3.0</td>\n",
       "      <td>4.0</td>\n",
       "      <td>2.0</td>\n",
       "      <td>3.0</td>\n",
       "      <td>4.0</td>\n",
       "      <td>...</td>\n",
       "      <td>2.0</td>\n",
       "      <td>18</td>\n",
       "      <td>2.0</td>\n",
       "      <td>12.0</td>\n",
       "      <td>1.0</td>\n",
       "      <td>2.0</td>\n",
       "      <td>1.0</td>\n",
       "      <td>1.0</td>\n",
       "      <td>2.0</td>\n",
       "      <td>0</td>\n",
       "    </tr>\n",
       "  </tbody>\n",
       "</table>\n",
       "<p>5 rows × 65 columns</p>\n",
       "</div>\n",
       "      <button class=\"colab-df-convert\" onclick=\"convertToInteractive('df-e208683e-1a35-4dcb-a461-8e9fd5a0ab41')\"\n",
       "              title=\"Convert this dataframe to an interactive table.\"\n",
       "              style=\"display:none;\">\n",
       "        \n",
       "  <svg xmlns=\"http://www.w3.org/2000/svg\" height=\"24px\"viewBox=\"0 0 24 24\"\n",
       "       width=\"24px\">\n",
       "    <path d=\"M0 0h24v24H0V0z\" fill=\"none\"/>\n",
       "    <path d=\"M18.56 5.44l.94 2.06.94-2.06 2.06-.94-2.06-.94-.94-2.06-.94 2.06-2.06.94zm-11 1L8.5 8.5l.94-2.06 2.06-.94-2.06-.94L8.5 2.5l-.94 2.06-2.06.94zm10 10l.94 2.06.94-2.06 2.06-.94-2.06-.94-.94-2.06-.94 2.06-2.06.94z\"/><path d=\"M17.41 7.96l-1.37-1.37c-.4-.4-.92-.59-1.43-.59-.52 0-1.04.2-1.43.59L10.3 9.45l-7.72 7.72c-.78.78-.78 2.05 0 2.83L4 21.41c.39.39.9.59 1.41.59.51 0 1.02-.2 1.41-.59l7.78-7.78 2.81-2.81c.8-.78.8-2.07 0-2.86zM5.41 20L4 18.59l7.72-7.72 1.47 1.35L5.41 20z\"/>\n",
       "  </svg>\n",
       "      </button>\n",
       "      \n",
       "  <style>\n",
       "    .colab-df-container {\n",
       "      display:flex;\n",
       "      flex-wrap:wrap;\n",
       "      gap: 12px;\n",
       "    }\n",
       "\n",
       "    .colab-df-convert {\n",
       "      background-color: #E8F0FE;\n",
       "      border: none;\n",
       "      border-radius: 50%;\n",
       "      cursor: pointer;\n",
       "      display: none;\n",
       "      fill: #1967D2;\n",
       "      height: 32px;\n",
       "      padding: 0 0 0 0;\n",
       "      width: 32px;\n",
       "    }\n",
       "\n",
       "    .colab-df-convert:hover {\n",
       "      background-color: #E2EBFA;\n",
       "      box-shadow: 0px 1px 2px rgba(60, 64, 67, 0.3), 0px 1px 3px 1px rgba(60, 64, 67, 0.15);\n",
       "      fill: #174EA6;\n",
       "    }\n",
       "\n",
       "    [theme=dark] .colab-df-convert {\n",
       "      background-color: #3B4455;\n",
       "      fill: #D2E3FC;\n",
       "    }\n",
       "\n",
       "    [theme=dark] .colab-df-convert:hover {\n",
       "      background-color: #434B5C;\n",
       "      box-shadow: 0px 1px 3px 1px rgba(0, 0, 0, 0.15);\n",
       "      filter: drop-shadow(0px 1px 2px rgba(0, 0, 0, 0.3));\n",
       "      fill: #FFFFFF;\n",
       "    }\n",
       "  </style>\n",
       "\n",
       "      <script>\n",
       "        const buttonEl =\n",
       "          document.querySelector('#df-e208683e-1a35-4dcb-a461-8e9fd5a0ab41 button.colab-df-convert');\n",
       "        buttonEl.style.display =\n",
       "          google.colab.kernel.accessAllowed ? 'block' : 'none';\n",
       "\n",
       "        async function convertToInteractive(key) {\n",
       "          const element = document.querySelector('#df-e208683e-1a35-4dcb-a461-8e9fd5a0ab41');\n",
       "          const dataTable =\n",
       "            await google.colab.kernel.invokeFunction('convertToInteractive',\n",
       "                                                     [key], {});\n",
       "          if (!dataTable) return;\n",
       "\n",
       "          const docLinkHtml = 'Like what you see? Visit the ' +\n",
       "            '<a target=\"_blank\" href=https://colab.research.google.com/notebooks/data_table.ipynb>data table notebook</a>'\n",
       "            + ' to learn more about interactive tables.';\n",
       "          element.innerHTML = '';\n",
       "          dataTable['output_type'] = 'display_data';\n",
       "          await google.colab.output.renderOutput(dataTable, element);\n",
       "          const docLink = document.createElement('div');\n",
       "          docLink.innerHTML = docLinkHtml;\n",
       "          element.appendChild(docLink);\n",
       "        }\n",
       "      </script>\n",
       "    </div>\n",
       "  </div>\n",
       "  "
      ],
      "text/plain": [
       "    Q1   Q2   Q3   Q4   Q5   Q6   Q7   Q8   Q9  Q10  ...  engnat  age  hand  \\\n",
       "0  1.0  5.0  5.0  5.0  1.0  4.0  5.0  5.0  1.0  3.0  ...     1.0   20   2.0   \n",
       "1  4.0  4.0  4.0  4.0  4.0  5.0  4.0  4.0  3.0  3.0  ...     1.0   49   1.0   \n",
       "2  4.0  5.0  5.0  4.0  3.0  5.0  5.0  5.0  4.0  4.0  ...     2.0   43   1.0   \n",
       "3  4.0  4.0  4.0  2.0  4.0  3.0  3.0  5.0  3.0  4.0  ...     1.0   17   2.0   \n",
       "4  4.0  4.0  4.0  4.0  3.0  3.0  4.0  2.0  3.0  4.0  ...     2.0   18   2.0   \n",
       "\n",
       "   religion  orientation  voted  married  familysize  ASD  nerdiness  \n",
       "0      12.0          4.0    2.0      1.0         4.0  2.0          1  \n",
       "1       2.0          1.0    1.0      2.0         4.0  2.0          1  \n",
       "2       2.0          2.0    2.0      3.0         4.0  2.0          1  \n",
       "3       1.0          1.0    2.0      1.0         2.0  2.0          1  \n",
       "4      12.0          1.0    2.0      1.0         1.0  2.0          0  \n",
       "\n",
       "[5 rows x 65 columns]"
      ]
     },
     "execution_count": 22,
     "metadata": {},
     "output_type": "execute_result"
    }
   ],
   "source": [
    "train = pd.read_csv('train.csv')\n",
    "test = pd.read_csv('test.csv')\n",
    "\n",
    "train = train.drop(['index', 'country', 'introelapse', 'testelapse', 'surveyelapse'], axis=1)\n",
    "test = test.drop(['index', 'country', 'introelapse', 'testelapse', 'surveyelapse'], axis=1)\n",
    "train.head()"
   ]
  },
  {
   "cell_type": "markdown",
   "metadata": {
    "id": "DipaBhC7WOQp"
   },
   "source": [
    "###### 의존도가 낮은 ASD 제거"
   ]
  },
  {
   "cell_type": "code",
   "execution_count": null,
   "metadata": {
    "id": "gr3lm47lWN8A"
   },
   "outputs": [],
   "source": [
    "train = train.drop(['ASD'], axis=1)\n",
    "test = test.drop(['ASD'], axis=1)"
   ]
  },
  {
   "cell_type": "code",
   "execution_count": null,
   "metadata": {
    "id": "B4Qdi32Nmprw"
   },
   "outputs": [],
   "source": [
    "Q_columns = ['Q' + str(num) for num in range(1, 27)]\n",
    "TIPI_columns = ['TIPI' + str(num) for num in range(1, 11)]\n",
    "VCL_columns = ['VCL' + str(num) for num in range(1, 17)]\n",
    "info_columns = ['education', 'urban', 'gender', 'engnat', 'age', 'hand', 'religion', 'orientation', 'voted', 'married', 'familysize', 'ASD']"
   ]
  },
  {
   "cell_type": "markdown",
   "metadata": {
    "id": "J5uL6CwcUiKK"
   },
   "source": [
    "###### 결측치를 최빈값으로 대체"
   ]
  },
  {
   "cell_type": "code",
   "execution_count": null,
   "metadata": {
    "colab": {
     "base_uri": "https://localhost:8080/"
    },
    "id": "dVPtWQeiS7B6",
    "outputId": "ec2a0ddb-29b1-4560-f381-6c72cfb06cb5"
   },
   "outputs": [
    {
     "name": "stdout",
     "output_type": "stream",
     "text": [
      "3105\n",
      "0\n"
     ]
    }
   ],
   "source": [
    "print(train.isnull().sum().sum())\n",
    "\n",
    "for column in train.columns:\n",
    "  if column == 'nerdiness':\n",
    "    continue\n",
    "  mode = train[column].mode()[0]\n",
    "  train[column] = train[column].fillna(mode)\n",
    "  test[column] = test[column].fillna(mode)\n",
    "\n",
    "print(train.isnull().sum().sum())"
   ]
  },
  {
   "cell_type": "markdown",
   "metadata": {
    "id": "Va7X75J5UwTD"
   },
   "source": [
    "###### age, familysize 처리\n",
    "age : 100 이상은 100으로 통일, 10 단위로 분할  \n",
    "familysize : 10 이상은 10으로 통일"
   ]
  },
  {
   "cell_type": "code",
   "execution_count": null,
   "metadata": {
    "id": "PFyukj8gSD8A"
   },
   "outputs": [],
   "source": [
    "def handle_age_family(df):\n",
    "  df['age'] = df['age'].map(lambda x: min(100, x))\n",
    "  for age in range(0, 100, 10):\n",
    "    df.loc[(age <= df['age']) & (df['age'] < age + 10), 'age'] = age // 10\n",
    "    \n",
    "  df['familysize'] = df['familysize'].map(lambda x: min(10, x))\n",
    "  return df\n",
    "\n",
    "train = handle_age_family(train)\n",
    "test = handle_age_family(test)"
   ]
  },
  {
   "cell_type": "markdown",
   "metadata": {
    "id": "91RndOHuU_Fg"
   },
   "source": [
    "###### 신뢰도(reliability) 추가"
   ]
  },
  {
   "cell_type": "code",
   "execution_count": null,
   "metadata": {
    "colab": {
     "base_uri": "https://localhost:8080/"
    },
    "id": "IpM_5ZQGU-eK",
    "outputId": "5c9f84ca-cdea-4be9-b6ea-cd5d2ba77b08"
   },
   "outputs": [
    {
     "data": {
      "text/plain": [
       "0        1.000000\n",
       "1        1.000000\n",
       "2        1.000000\n",
       "3        1.000000\n",
       "4        1.000000\n",
       "           ...   \n",
       "14995    0.666667\n",
       "14996    1.000000\n",
       "14997    1.000000\n",
       "14998    0.666667\n",
       "14999    0.333333\n",
       "Name: reliability, Length: 15000, dtype: float64"
      ]
     },
     "execution_count": 27,
     "metadata": {},
     "output_type": "execute_result"
    }
   ],
   "source": [
    "def add_reliability(df):\n",
    "  df['reliability'] = (3 - df[['VCL6', 'VCL9', 'VCL12']].sum(axis=1)) / 3\n",
    "  return df\n",
    "\n",
    "train = add_reliability(train)\n",
    "test = add_reliability(test)\n",
    "\n",
    "train = train.drop(VCL_columns, axis=1)\n",
    "test = test.drop(VCL_columns, axis=1)\n",
    "\n",
    "train['reliability']"
   ]
  },
  {
   "cell_type": "markdown",
   "metadata": {
    "id": "UE7zeBOb6wZv"
   },
   "source": [
    "###### TEN-ITEM PERSONALITY INVENTORY-(TIPI)"
   ]
  },
  {
   "cell_type": "code",
   "execution_count": null,
   "metadata": {
    "id": "QNdkqjyf6vpX"
   },
   "outputs": [],
   "source": [
    "def handle_TIPI(df):\n",
    "  df['extraversion'] = df['TIPI1'] + 6 - df['TIPI6']\n",
    "  df['agreeableness'] = 6 - df['TIPI2'] + df['TIPI7']\n",
    "  df['conscientiousness'] = df['TIPI3'] + 6 - df['TIPI8']\n",
    "  df['emotional_stability'] = 6 - df['TIPI4'] + df['TIPI9']\n",
    "  df['openness_to_experiences'] = df['TIPI5'] + 6 - df['TIPI10']\n",
    "  df = df.drop(TIPI_columns, axis=1)\n",
    "  return df\n",
    "\n",
    "train = handle_TIPI(train)\n",
    "test = handle_TIPI(test)\n",
    "\n",
    "TIPI_columns = ['extraversion', 'agreeableness', 'conscientiousness', 'emotional_stability', 'openness_to_experiences']"
   ]
  },
  {
   "cell_type": "markdown",
   "metadata": {
    "id": "5yxwSPukTKS1"
   },
   "source": [
    "###### Target Encoding"
   ]
  },
  {
   "cell_type": "code",
   "execution_count": null,
   "metadata": {
    "colab": {
     "base_uri": "https://localhost:8080/",
     "height": 300
    },
    "id": "sati_u1STJ-P",
    "outputId": "e27f2bee-d70a-4f5e-d489-bcb257416e08"
   },
   "outputs": [
    {
     "data": {
      "text/html": [
       "\n",
       "  <div id=\"df-d87afdb1-69e2-4452-9417-2827b431ba95\">\n",
       "    <div class=\"colab-df-container\">\n",
       "      <div>\n",
       "<style scoped>\n",
       "    .dataframe tbody tr th:only-of-type {\n",
       "        vertical-align: middle;\n",
       "    }\n",
       "\n",
       "    .dataframe tbody tr th {\n",
       "        vertical-align: top;\n",
       "    }\n",
       "\n",
       "    .dataframe thead th {\n",
       "        text-align: right;\n",
       "    }\n",
       "</style>\n",
       "<table border=\"1\" class=\"dataframe\">\n",
       "  <thead>\n",
       "    <tr style=\"text-align: right;\">\n",
       "      <th></th>\n",
       "      <th>Q1</th>\n",
       "      <th>Q2</th>\n",
       "      <th>Q3</th>\n",
       "      <th>Q4</th>\n",
       "      <th>Q5</th>\n",
       "      <th>Q6</th>\n",
       "      <th>Q7</th>\n",
       "      <th>Q8</th>\n",
       "      <th>Q9</th>\n",
       "      <th>Q10</th>\n",
       "      <th>...</th>\n",
       "      <th>voted</th>\n",
       "      <th>married</th>\n",
       "      <th>familysize</th>\n",
       "      <th>nerdiness</th>\n",
       "      <th>reliability</th>\n",
       "      <th>extraversion</th>\n",
       "      <th>agreeableness</th>\n",
       "      <th>conscientiousness</th>\n",
       "      <th>emotional_stability</th>\n",
       "      <th>openness_to_experiences</th>\n",
       "    </tr>\n",
       "  </thead>\n",
       "  <tbody>\n",
       "    <tr>\n",
       "      <th>0</th>\n",
       "      <td>0.219430</td>\n",
       "      <td>0.682683</td>\n",
       "      <td>0.644737</td>\n",
       "      <td>0.687265</td>\n",
       "      <td>0.270300</td>\n",
       "      <td>0.579689</td>\n",
       "      <td>0.648825</td>\n",
       "      <td>0.664512</td>\n",
       "      <td>0.287443</td>\n",
       "      <td>0.462615</td>\n",
       "      <td>...</td>\n",
       "      <td>0.548279</td>\n",
       "      <td>0.559330</td>\n",
       "      <td>0.547405</td>\n",
       "      <td>1</td>\n",
       "      <td>0.534069</td>\n",
       "      <td>0.553535</td>\n",
       "      <td>0.573861</td>\n",
       "      <td>0.578765</td>\n",
       "      <td>0.559509</td>\n",
       "      <td>0.480897</td>\n",
       "    </tr>\n",
       "    <tr>\n",
       "      <th>1</th>\n",
       "      <td>0.549147</td>\n",
       "      <td>0.490676</td>\n",
       "      <td>0.505430</td>\n",
       "      <td>0.576165</td>\n",
       "      <td>0.538382</td>\n",
       "      <td>0.754382</td>\n",
       "      <td>0.494185</td>\n",
       "      <td>0.537294</td>\n",
       "      <td>0.460687</td>\n",
       "      <td>0.462615</td>\n",
       "      <td>...</td>\n",
       "      <td>0.562683</td>\n",
       "      <td>0.515796</td>\n",
       "      <td>0.547405</td>\n",
       "      <td>1</td>\n",
       "      <td>0.534069</td>\n",
       "      <td>0.508982</td>\n",
       "      <td>0.538540</td>\n",
       "      <td>0.578765</td>\n",
       "      <td>0.560396</td>\n",
       "      <td>0.535480</td>\n",
       "    </tr>\n",
       "    <tr>\n",
       "      <th>2</th>\n",
       "      <td>0.549147</td>\n",
       "      <td>0.682683</td>\n",
       "      <td>0.644737</td>\n",
       "      <td>0.576165</td>\n",
       "      <td>0.490014</td>\n",
       "      <td>0.754382</td>\n",
       "      <td>0.648825</td>\n",
       "      <td>0.664512</td>\n",
       "      <td>0.541905</td>\n",
       "      <td>0.523798</td>\n",
       "      <td>...</td>\n",
       "      <td>0.548279</td>\n",
       "      <td>0.529865</td>\n",
       "      <td>0.547405</td>\n",
       "      <td>1</td>\n",
       "      <td>0.534069</td>\n",
       "      <td>0.655729</td>\n",
       "      <td>0.563794</td>\n",
       "      <td>0.568217</td>\n",
       "      <td>0.559509</td>\n",
       "      <td>0.603476</td>\n",
       "    </tr>\n",
       "    <tr>\n",
       "      <th>3</th>\n",
       "      <td>0.549147</td>\n",
       "      <td>0.490676</td>\n",
       "      <td>0.505430</td>\n",
       "      <td>0.382335</td>\n",
       "      <td>0.538382</td>\n",
       "      <td>0.427424</td>\n",
       "      <td>0.435168</td>\n",
       "      <td>0.664512</td>\n",
       "      <td>0.460687</td>\n",
       "      <td>0.523798</td>\n",
       "      <td>...</td>\n",
       "      <td>0.548279</td>\n",
       "      <td>0.559330</td>\n",
       "      <td>0.565604</td>\n",
       "      <td>1</td>\n",
       "      <td>0.534069</td>\n",
       "      <td>0.491851</td>\n",
       "      <td>0.563794</td>\n",
       "      <td>0.568217</td>\n",
       "      <td>0.593059</td>\n",
       "      <td>0.553851</td>\n",
       "    </tr>\n",
       "    <tr>\n",
       "      <th>4</th>\n",
       "      <td>0.549147</td>\n",
       "      <td>0.490676</td>\n",
       "      <td>0.505430</td>\n",
       "      <td>0.576165</td>\n",
       "      <td>0.490014</td>\n",
       "      <td>0.427424</td>\n",
       "      <td>0.494185</td>\n",
       "      <td>0.413060</td>\n",
       "      <td>0.460687</td>\n",
       "      <td>0.523798</td>\n",
       "      <td>...</td>\n",
       "      <td>0.548279</td>\n",
       "      <td>0.559330</td>\n",
       "      <td>0.573536</td>\n",
       "      <td>0</td>\n",
       "      <td>0.534069</td>\n",
       "      <td>0.553535</td>\n",
       "      <td>0.513912</td>\n",
       "      <td>0.519537</td>\n",
       "      <td>0.593059</td>\n",
       "      <td>0.553851</td>\n",
       "    </tr>\n",
       "  </tbody>\n",
       "</table>\n",
       "<p>5 rows × 44 columns</p>\n",
       "</div>\n",
       "      <button class=\"colab-df-convert\" onclick=\"convertToInteractive('df-d87afdb1-69e2-4452-9417-2827b431ba95')\"\n",
       "              title=\"Convert this dataframe to an interactive table.\"\n",
       "              style=\"display:none;\">\n",
       "        \n",
       "  <svg xmlns=\"http://www.w3.org/2000/svg\" height=\"24px\"viewBox=\"0 0 24 24\"\n",
       "       width=\"24px\">\n",
       "    <path d=\"M0 0h24v24H0V0z\" fill=\"none\"/>\n",
       "    <path d=\"M18.56 5.44l.94 2.06.94-2.06 2.06-.94-2.06-.94-.94-2.06-.94 2.06-2.06.94zm-11 1L8.5 8.5l.94-2.06 2.06-.94-2.06-.94L8.5 2.5l-.94 2.06-2.06.94zm10 10l.94 2.06.94-2.06 2.06-.94-2.06-.94-.94-2.06-.94 2.06-2.06.94z\"/><path d=\"M17.41 7.96l-1.37-1.37c-.4-.4-.92-.59-1.43-.59-.52 0-1.04.2-1.43.59L10.3 9.45l-7.72 7.72c-.78.78-.78 2.05 0 2.83L4 21.41c.39.39.9.59 1.41.59.51 0 1.02-.2 1.41-.59l7.78-7.78 2.81-2.81c.8-.78.8-2.07 0-2.86zM5.41 20L4 18.59l7.72-7.72 1.47 1.35L5.41 20z\"/>\n",
       "  </svg>\n",
       "      </button>\n",
       "      \n",
       "  <style>\n",
       "    .colab-df-container {\n",
       "      display:flex;\n",
       "      flex-wrap:wrap;\n",
       "      gap: 12px;\n",
       "    }\n",
       "\n",
       "    .colab-df-convert {\n",
       "      background-color: #E8F0FE;\n",
       "      border: none;\n",
       "      border-radius: 50%;\n",
       "      cursor: pointer;\n",
       "      display: none;\n",
       "      fill: #1967D2;\n",
       "      height: 32px;\n",
       "      padding: 0 0 0 0;\n",
       "      width: 32px;\n",
       "    }\n",
       "\n",
       "    .colab-df-convert:hover {\n",
       "      background-color: #E2EBFA;\n",
       "      box-shadow: 0px 1px 2px rgba(60, 64, 67, 0.3), 0px 1px 3px 1px rgba(60, 64, 67, 0.15);\n",
       "      fill: #174EA6;\n",
       "    }\n",
       "\n",
       "    [theme=dark] .colab-df-convert {\n",
       "      background-color: #3B4455;\n",
       "      fill: #D2E3FC;\n",
       "    }\n",
       "\n",
       "    [theme=dark] .colab-df-convert:hover {\n",
       "      background-color: #434B5C;\n",
       "      box-shadow: 0px 1px 3px 1px rgba(0, 0, 0, 0.15);\n",
       "      filter: drop-shadow(0px 1px 2px rgba(0, 0, 0, 0.3));\n",
       "      fill: #FFFFFF;\n",
       "    }\n",
       "  </style>\n",
       "\n",
       "      <script>\n",
       "        const buttonEl =\n",
       "          document.querySelector('#df-d87afdb1-69e2-4452-9417-2827b431ba95 button.colab-df-convert');\n",
       "        buttonEl.style.display =\n",
       "          google.colab.kernel.accessAllowed ? 'block' : 'none';\n",
       "\n",
       "        async function convertToInteractive(key) {\n",
       "          const element = document.querySelector('#df-d87afdb1-69e2-4452-9417-2827b431ba95');\n",
       "          const dataTable =\n",
       "            await google.colab.kernel.invokeFunction('convertToInteractive',\n",
       "                                                     [key], {});\n",
       "          if (!dataTable) return;\n",
       "\n",
       "          const docLinkHtml = 'Like what you see? Visit the ' +\n",
       "            '<a target=\"_blank\" href=https://colab.research.google.com/notebooks/data_table.ipynb>data table notebook</a>'\n",
       "            + ' to learn more about interactive tables.';\n",
       "          element.innerHTML = '';\n",
       "          dataTable['output_type'] = 'display_data';\n",
       "          await google.colab.output.renderOutput(dataTable, element);\n",
       "          const docLink = document.createElement('div');\n",
       "          docLink.innerHTML = docLinkHtml;\n",
       "          element.appendChild(docLink);\n",
       "        }\n",
       "      </script>\n",
       "    </div>\n",
       "  </div>\n",
       "  "
      ],
      "text/plain": [
       "         Q1        Q2        Q3        Q4        Q5        Q6        Q7  \\\n",
       "0  0.219430  0.682683  0.644737  0.687265  0.270300  0.579689  0.648825   \n",
       "1  0.549147  0.490676  0.505430  0.576165  0.538382  0.754382  0.494185   \n",
       "2  0.549147  0.682683  0.644737  0.576165  0.490014  0.754382  0.648825   \n",
       "3  0.549147  0.490676  0.505430  0.382335  0.538382  0.427424  0.435168   \n",
       "4  0.549147  0.490676  0.505430  0.576165  0.490014  0.427424  0.494185   \n",
       "\n",
       "         Q8        Q9       Q10  ...     voted   married  familysize  \\\n",
       "0  0.664512  0.287443  0.462615  ...  0.548279  0.559330    0.547405   \n",
       "1  0.537294  0.460687  0.462615  ...  0.562683  0.515796    0.547405   \n",
       "2  0.664512  0.541905  0.523798  ...  0.548279  0.529865    0.547405   \n",
       "3  0.664512  0.460687  0.523798  ...  0.548279  0.559330    0.565604   \n",
       "4  0.413060  0.460687  0.523798  ...  0.548279  0.559330    0.573536   \n",
       "\n",
       "   nerdiness  reliability  extraversion  agreeableness  conscientiousness  \\\n",
       "0          1     0.534069      0.553535       0.573861           0.578765   \n",
       "1          1     0.534069      0.508982       0.538540           0.578765   \n",
       "2          1     0.534069      0.655729       0.563794           0.568217   \n",
       "3          1     0.534069      0.491851       0.563794           0.568217   \n",
       "4          0     0.534069      0.553535       0.513912           0.519537   \n",
       "\n",
       "   emotional_stability  openness_to_experiences  \n",
       "0             0.559509                 0.480897  \n",
       "1             0.560396                 0.535480  \n",
       "2             0.559509                 0.603476  \n",
       "3             0.593059                 0.553851  \n",
       "4             0.593059                 0.553851  \n",
       "\n",
       "[5 rows x 44 columns]"
      ]
     },
     "execution_count": 29,
     "metadata": {},
     "output_type": "execute_result"
    }
   ],
   "source": [
    "for column in test.columns:\n",
    "  mean = train.groupby(column)['nerdiness'].mean()\n",
    "  train[column] = train[column].map(mean)\n",
    "  test[column] = test[column].map(mean)\n",
    "\n",
    "train.head()"
   ]
  },
  {
   "cell_type": "markdown",
   "metadata": {
    "id": "lrnlABUbL59W"
   },
   "source": [
    "###### PCA"
   ]
  },
  {
   "cell_type": "code",
   "execution_count": null,
   "metadata": {
    "colab": {
     "base_uri": "https://localhost:8080/",
     "height": 236
    },
    "id": "VtxkNNK9MFbp",
    "outputId": "a6e8e807-ce70-4f55-c254-6cb4ab3006cf"
   },
   "outputs": [
    {
     "data": {
      "text/html": [
       "\n",
       "  <div id=\"df-40e184a4-2296-4868-9a91-73983d697c07\">\n",
       "    <div class=\"colab-df-container\">\n",
       "      <div>\n",
       "<style scoped>\n",
       "    .dataframe tbody tr th:only-of-type {\n",
       "        vertical-align: middle;\n",
       "    }\n",
       "\n",
       "    .dataframe tbody tr th {\n",
       "        vertical-align: top;\n",
       "    }\n",
       "\n",
       "    .dataframe thead th {\n",
       "        text-align: right;\n",
       "    }\n",
       "</style>\n",
       "<table border=\"1\" class=\"dataframe\">\n",
       "  <thead>\n",
       "    <tr style=\"text-align: right;\">\n",
       "      <th></th>\n",
       "      <th>Q1</th>\n",
       "      <th>Q2</th>\n",
       "      <th>Q3</th>\n",
       "      <th>Q4</th>\n",
       "      <th>Q5</th>\n",
       "      <th>Q6</th>\n",
       "      <th>Q7</th>\n",
       "      <th>Q8</th>\n",
       "      <th>Q9</th>\n",
       "      <th>Q10</th>\n",
       "      <th>...</th>\n",
       "      <th>TIPI7</th>\n",
       "      <th>TIPI8</th>\n",
       "      <th>TIPI9</th>\n",
       "      <th>TIPI10</th>\n",
       "      <th>nerdiness</th>\n",
       "      <th>reliability</th>\n",
       "      <th>info_A</th>\n",
       "      <th>info_B</th>\n",
       "      <th>info_C</th>\n",
       "      <th>info_D</th>\n",
       "    </tr>\n",
       "  </thead>\n",
       "  <tbody>\n",
       "    <tr>\n",
       "      <th>0</th>\n",
       "      <td>1.0</td>\n",
       "      <td>5.0</td>\n",
       "      <td>5.0</td>\n",
       "      <td>5.0</td>\n",
       "      <td>1.0</td>\n",
       "      <td>4.0</td>\n",
       "      <td>5.0</td>\n",
       "      <td>5.0</td>\n",
       "      <td>1.0</td>\n",
       "      <td>3.0</td>\n",
       "      <td>...</td>\n",
       "      <td>5.0</td>\n",
       "      <td>3.0</td>\n",
       "      <td>5.0</td>\n",
       "      <td>3.0</td>\n",
       "      <td>1</td>\n",
       "      <td>1.0</td>\n",
       "      <td>7.975516</td>\n",
       "      <td>-0.210175</td>\n",
       "      <td>0.511540</td>\n",
       "      <td>2.716301</td>\n",
       "    </tr>\n",
       "    <tr>\n",
       "      <th>1</th>\n",
       "      <td>4.0</td>\n",
       "      <td>4.0</td>\n",
       "      <td>4.0</td>\n",
       "      <td>4.0</td>\n",
       "      <td>4.0</td>\n",
       "      <td>5.0</td>\n",
       "      <td>4.0</td>\n",
       "      <td>4.0</td>\n",
       "      <td>3.0</td>\n",
       "      <td>3.0</td>\n",
       "      <td>...</td>\n",
       "      <td>5.0</td>\n",
       "      <td>1.0</td>\n",
       "      <td>2.0</td>\n",
       "      <td>2.0</td>\n",
       "      <td>1</td>\n",
       "      <td>1.0</td>\n",
       "      <td>-1.963833</td>\n",
       "      <td>2.457590</td>\n",
       "      <td>-1.732523</td>\n",
       "      <td>0.085698</td>\n",
       "    </tr>\n",
       "    <tr>\n",
       "      <th>2</th>\n",
       "      <td>4.0</td>\n",
       "      <td>5.0</td>\n",
       "      <td>5.0</td>\n",
       "      <td>4.0</td>\n",
       "      <td>3.0</td>\n",
       "      <td>5.0</td>\n",
       "      <td>5.0</td>\n",
       "      <td>5.0</td>\n",
       "      <td>4.0</td>\n",
       "      <td>4.0</td>\n",
       "      <td>...</td>\n",
       "      <td>3.0</td>\n",
       "      <td>4.0</td>\n",
       "      <td>5.0</td>\n",
       "      <td>2.0</td>\n",
       "      <td>1</td>\n",
       "      <td>1.0</td>\n",
       "      <td>-1.983945</td>\n",
       "      <td>2.192521</td>\n",
       "      <td>-1.086823</td>\n",
       "      <td>1.093177</td>\n",
       "    </tr>\n",
       "    <tr>\n",
       "      <th>3</th>\n",
       "      <td>4.0</td>\n",
       "      <td>4.0</td>\n",
       "      <td>4.0</td>\n",
       "      <td>2.0</td>\n",
       "      <td>4.0</td>\n",
       "      <td>3.0</td>\n",
       "      <td>3.0</td>\n",
       "      <td>5.0</td>\n",
       "      <td>3.0</td>\n",
       "      <td>4.0</td>\n",
       "      <td>...</td>\n",
       "      <td>4.0</td>\n",
       "      <td>4.0</td>\n",
       "      <td>3.0</td>\n",
       "      <td>3.0</td>\n",
       "      <td>1</td>\n",
       "      <td>1.0</td>\n",
       "      <td>-3.096815</td>\n",
       "      <td>-1.057100</td>\n",
       "      <td>-0.152466</td>\n",
       "      <td>-0.759527</td>\n",
       "    </tr>\n",
       "    <tr>\n",
       "      <th>4</th>\n",
       "      <td>4.0</td>\n",
       "      <td>4.0</td>\n",
       "      <td>4.0</td>\n",
       "      <td>4.0</td>\n",
       "      <td>3.0</td>\n",
       "      <td>3.0</td>\n",
       "      <td>4.0</td>\n",
       "      <td>2.0</td>\n",
       "      <td>3.0</td>\n",
       "      <td>4.0</td>\n",
       "      <td>...</td>\n",
       "      <td>3.0</td>\n",
       "      <td>4.0</td>\n",
       "      <td>3.0</td>\n",
       "      <td>2.0</td>\n",
       "      <td>0</td>\n",
       "      <td>1.0</td>\n",
       "      <td>7.864666</td>\n",
       "      <td>-1.294985</td>\n",
       "      <td>1.067295</td>\n",
       "      <td>-1.435579</td>\n",
       "    </tr>\n",
       "  </tbody>\n",
       "</table>\n",
       "<p>5 rows × 42 columns</p>\n",
       "</div>\n",
       "      <button class=\"colab-df-convert\" onclick=\"convertToInteractive('df-40e184a4-2296-4868-9a91-73983d697c07')\"\n",
       "              title=\"Convert this dataframe to an interactive table.\"\n",
       "              style=\"display:none;\">\n",
       "        \n",
       "  <svg xmlns=\"http://www.w3.org/2000/svg\" height=\"24px\"viewBox=\"0 0 24 24\"\n",
       "       width=\"24px\">\n",
       "    <path d=\"M0 0h24v24H0V0z\" fill=\"none\"/>\n",
       "    <path d=\"M18.56 5.44l.94 2.06.94-2.06 2.06-.94-2.06-.94-.94-2.06-.94 2.06-2.06.94zm-11 1L8.5 8.5l.94-2.06 2.06-.94-2.06-.94L8.5 2.5l-.94 2.06-2.06.94zm10 10l.94 2.06.94-2.06 2.06-.94-2.06-.94-.94-2.06-.94 2.06-2.06.94z\"/><path d=\"M17.41 7.96l-1.37-1.37c-.4-.4-.92-.59-1.43-.59-.52 0-1.04.2-1.43.59L10.3 9.45l-7.72 7.72c-.78.78-.78 2.05 0 2.83L4 21.41c.39.39.9.59 1.41.59.51 0 1.02-.2 1.41-.59l7.78-7.78 2.81-2.81c.8-.78.8-2.07 0-2.86zM5.41 20L4 18.59l7.72-7.72 1.47 1.35L5.41 20z\"/>\n",
       "  </svg>\n",
       "      </button>\n",
       "      \n",
       "  <style>\n",
       "    .colab-df-container {\n",
       "      display:flex;\n",
       "      flex-wrap:wrap;\n",
       "      gap: 12px;\n",
       "    }\n",
       "\n",
       "    .colab-df-convert {\n",
       "      background-color: #E8F0FE;\n",
       "      border: none;\n",
       "      border-radius: 50%;\n",
       "      cursor: pointer;\n",
       "      display: none;\n",
       "      fill: #1967D2;\n",
       "      height: 32px;\n",
       "      padding: 0 0 0 0;\n",
       "      width: 32px;\n",
       "    }\n",
       "\n",
       "    .colab-df-convert:hover {\n",
       "      background-color: #E2EBFA;\n",
       "      box-shadow: 0px 1px 2px rgba(60, 64, 67, 0.3), 0px 1px 3px 1px rgba(60, 64, 67, 0.15);\n",
       "      fill: #174EA6;\n",
       "    }\n",
       "\n",
       "    [theme=dark] .colab-df-convert {\n",
       "      background-color: #3B4455;\n",
       "      fill: #D2E3FC;\n",
       "    }\n",
       "\n",
       "    [theme=dark] .colab-df-convert:hover {\n",
       "      background-color: #434B5C;\n",
       "      box-shadow: 0px 1px 3px 1px rgba(0, 0, 0, 0.15);\n",
       "      filter: drop-shadow(0px 1px 2px rgba(0, 0, 0, 0.3));\n",
       "      fill: #FFFFFF;\n",
       "    }\n",
       "  </style>\n",
       "\n",
       "      <script>\n",
       "        const buttonEl =\n",
       "          document.querySelector('#df-40e184a4-2296-4868-9a91-73983d697c07 button.colab-df-convert');\n",
       "        buttonEl.style.display =\n",
       "          google.colab.kernel.accessAllowed ? 'block' : 'none';\n",
       "\n",
       "        async function convertToInteractive(key) {\n",
       "          const element = document.querySelector('#df-40e184a4-2296-4868-9a91-73983d697c07');\n",
       "          const dataTable =\n",
       "            await google.colab.kernel.invokeFunction('convertToInteractive',\n",
       "                                                     [key], {});\n",
       "          if (!dataTable) return;\n",
       "\n",
       "          const docLinkHtml = 'Like what you see? Visit the ' +\n",
       "            '<a target=\"_blank\" href=https://colab.research.google.com/notebooks/data_table.ipynb>data table notebook</a>'\n",
       "            + ' to learn more about interactive tables.';\n",
       "          element.innerHTML = '';\n",
       "          dataTable['output_type'] = 'display_data';\n",
       "          await google.colab.output.renderOutput(dataTable, element);\n",
       "          const docLink = document.createElement('div');\n",
       "          docLink.innerHTML = docLinkHtml;\n",
       "          element.appendChild(docLink);\n",
       "        }\n",
       "      </script>\n",
       "    </div>\n",
       "  </div>\n",
       "  "
      ],
      "text/plain": [
       "    Q1   Q2   Q3   Q4   Q5   Q6   Q7   Q8   Q9  Q10  ...  TIPI7  TIPI8  TIPI9  \\\n",
       "0  1.0  5.0  5.0  5.0  1.0  4.0  5.0  5.0  1.0  3.0  ...    5.0    3.0    5.0   \n",
       "1  4.0  4.0  4.0  4.0  4.0  5.0  4.0  4.0  3.0  3.0  ...    5.0    1.0    2.0   \n",
       "2  4.0  5.0  5.0  4.0  3.0  5.0  5.0  5.0  4.0  4.0  ...    3.0    4.0    5.0   \n",
       "3  4.0  4.0  4.0  2.0  4.0  3.0  3.0  5.0  3.0  4.0  ...    4.0    4.0    3.0   \n",
       "4  4.0  4.0  4.0  4.0  3.0  3.0  4.0  2.0  3.0  4.0  ...    3.0    4.0    3.0   \n",
       "\n",
       "   TIPI10  nerdiness  reliability    info_A    info_B    info_C    info_D  \n",
       "0     3.0          1          1.0  7.975516 -0.210175  0.511540  2.716301  \n",
       "1     2.0          1          1.0 -1.963833  2.457590 -1.732523  0.085698  \n",
       "2     2.0          1          1.0 -1.983945  2.192521 -1.086823  1.093177  \n",
       "3     3.0          1          1.0 -3.096815 -1.057100 -0.152466 -0.759527  \n",
       "4     2.0          0          1.0  7.864666 -1.294985  1.067295 -1.435579  \n",
       "\n",
       "[5 rows x 42 columns]"
      ]
     },
     "execution_count": 49,
     "metadata": {},
     "output_type": "execute_result"
    }
   ],
   "source": [
    "pca = PCA(n_components=4)\n",
    "pca.fit(train[info_columns])\n",
    "\n",
    "pca_columns = ['info_A', 'info_B', 'info_C', 'info_D']\n",
    "train_pca = pd.DataFrame(data=pca.transform(train[info_columns]), columns=pca_columns)\n",
    "test_pca = pd.DataFrame(data=pca.transform(test[info_columns]), columns=pca_columns)\n",
    "\n",
    "train = pd.concat([train.drop(info_columns, axis=1), train_pca], axis=1)\n",
    "test = pd.concat([test.drop(info_columns, axis=1), test_pca], axis=1)\n",
    "train.head()"
   ]
  },
  {
   "cell_type": "markdown",
   "metadata": {
    "id": "npAoMHy87LcM"
   },
   "source": [
    "###### PCA 시각화"
   ]
  },
  {
   "cell_type": "code",
   "execution_count": null,
   "metadata": {
    "colab": {
     "base_uri": "https://localhost:8080/",
     "height": 592
    },
    "id": "PX2GDighOexX",
    "outputId": "2d827e34-6b7c-4015-eb63-8970c8f1df92"
   },
   "outputs": [
    {
     "data": {
      "image/png": "[encoded data removed]",
      "text/plain": [
       "<Figure size 864x720 with 1 Axes>"
      ]
     },
     "metadata": {
      "needs_background": "light"
     },
     "output_type": "display_data"
    }
   ],
   "source": [
    "def check_pca(columns):\n",
    "  length = len(columns)\n",
    "\n",
    "  x = [n for n in range(1, length + 1)]\n",
    "  y = []\n",
    "\n",
    "  for n in range(1, length + 1):  \n",
    "    pca = PCA(n_components=n)\n",
    "    pca.fit(train[columns])\n",
    "\n",
    "    # train = pd.concat([train.drop(info_columns, axis=1), pd.DataFrame(data=pca.transform(train[info_columns]), columns=['A', 'B'])], axis=1)\n",
    "    # test = pd.concat([test.drop(info_columns, axis=1), pd.DataFrame(data=pca.transform(test[info_columns]), columns=['A', 'B'])], axis=1)\n",
    "    # train.head()\n",
    "    y.append(pca.explained_variance_ratio_.sum())\n",
    "\n",
    "  fig = plt.figure(figsize=(12, 10))\n",
    "  sns.barplot(x=x, y=y)\n",
    "\n",
    "check_pca(TIPI_columns)"
   ]
  },
  {
   "cell_type": "markdown",
   "metadata": {
    "id": "vUeK_w9VXYZC"
   },
   "source": [
    "###### Clustering"
   ]
  },
  {
   "cell_type": "code",
   "execution_count": null,
   "metadata": {
    "id": "kJftAg4WVxmA"
   },
   "outputs": [],
   "source": [
    "def handle_clustering(train, test, columns, n_cluster, drop=False):\n",
    "  train_kmeans = train[columns]\n",
    "  test_kmeans = test[columns]\n",
    "\n",
    "  kmeans = KMeans(n_clusters=n_cluster).fit(train_kmeans)\n",
    "  train['cluster'] = kmeans.predict(train_kmeans)\n",
    "  test['cluster'] = kmeans.predict(test_kmeans)\n",
    "\n",
    "  if drop:\n",
    "    train = train.drop(columns, axis=1)\n",
    "    test = test.drop(columns, axis=1)\n",
    "  return train, test\n",
    "\n",
    "train, test = handle_clustering(train, test, info_columns, 5)"
   ]
  },
  {
   "cell_type": "markdown",
   "metadata": {
    "id": "nUziO6ij8B1W"
   },
   "source": [
    "###### Clustering 결과 시각화"
   ]
  },
  {
   "cell_type": "code",
   "execution_count": null,
   "metadata": {
    "colab": {
     "base_uri": "https://localhost:8080/",
     "height": 297
    },
    "id": "3cYquxU5cKEi",
    "outputId": "a45827a5-edb9-43ce-f25e-1cd9be875862"
   },
   "outputs": [
    {
     "data": {
      "text/plain": [
       "<matplotlib.axes._subplots.AxesSubplot at 0x7f2ca73be210>"
      ]
     },
     "execution_count": 61,
     "metadata": {},
     "output_type": "execute_result"
    },
    {
     "data": {
      "image/png": "[encoded data removed]",
      "text/plain": [
       "<Figure size 432x288 with 1 Axes>"
      ]
     },
     "metadata": {
      "needs_background": "light"
     },
     "output_type": "display_data"
    }
   ],
   "source": [
    "sns.countplot(x='cluster', data=train)"
   ]
  },
  {
   "cell_type": "code",
   "execution_count": null,
   "metadata": {
    "colab": {
     "base_uri": "https://localhost:8080/",
     "height": 297
    },
    "id": "tWssqU3QZb_9",
    "outputId": "2d473fac-a57b-4f0d-fe01-7a4fd8d43ac5"
   },
   "outputs": [
    {
     "data": {
      "text/plain": [
       "<matplotlib.axes._subplots.AxesSubplot at 0x7f2ca7518f50>"
      ]
     },
     "execution_count": 62,
     "metadata": {},
     "output_type": "execute_result"
    },
    {
     "data": {
      "image/png": "[encoded data removed]",
      "text/plain": [
       "<Figure size 432x288 with 1 Axes>"
      ]
     },
     "metadata": {
      "needs_background": "light"
     },
     "output_type": "display_data"
    }
   ],
   "source": [
    "sns.countplot(x='cluster', hue='nerdiness', data=train)"
   ]
  },
  {
   "cell_type": "code",
   "execution_count": null,
   "metadata": {
    "colab": {
     "base_uri": "https://localhost:8080/",
     "height": 283
    },
    "id": "e5OnUBO_cOnw",
    "outputId": "c193f539-383d-48fb-8e1c-ea252ff79151"
   },
   "outputs": [
    {
     "data": {
      "text/plain": [
       "<BarContainer object of 5 artists>"
      ]
     },
     "execution_count": 64,
     "metadata": {},
     "output_type": "execute_result"
    },
    {
     "data": {
      "image/png": "[encoded data removed]",
      "text/plain": [
       "<Figure size 432x288 with 1 Axes>"
      ]
     },
     "metadata": {
      "needs_background": "light"
     },
     "output_type": "display_data"
    }
   ],
   "source": [
    "temp = train.groupby('cluster')['nerdiness'].mean()\n",
    "plt.bar(x=range(5), height=temp)"
   ]
  },
  {
   "cell_type": "markdown",
   "metadata": {
    "id": "KkQKKkb-8O2G"
   },
   "source": [
    "###### Elbow Method, Silhouette Analysis"
   ]
  },
  {
   "cell_type": "code",
   "execution_count": null,
   "metadata": {
    "cellView": "code",
    "colab": {
     "base_uri": "https://localhost:8080/",
     "height": 573
    },
    "id": "5RlgfacyFc09",
    "outputId": "05a05d46-ab2a-4e5c-c4b1-2a502d94a535"
   },
   "outputs": [
    {
     "data": {
      "image/png": "[encoded data removed]",
      "text/plain": [
       "<Figure size 432x288 with 1 Axes>"
      ]
     },
     "metadata": {
      "needs_background": "light"
     },
     "output_type": "display_data"
    },
    {
     "data": {
      "image/png": "[encoded data removed]",
      "text/plain": [
       "<Figure size 432x288 with 1 Axes>"
      ]
     },
     "metadata": {
      "needs_background": "light"
     },
     "output_type": "display_data"
    }
   ],
   "source": [
    "def elbow_silhouette(max_n_clusters, columns):\n",
    "  Sum_of_squared_distances = []\n",
    "  silhouette_avg = []\n",
    "  K = range(2, max_n_clusters + 1)\n",
    "  for num_clusters in K :\n",
    "    kmeans = KMeans(n_clusters=num_clusters)\n",
    "    kmeans_train = train[columns]\n",
    "    kmeans.fit(kmeans_train)\n",
    "    Sum_of_squared_distances.append(kmeans.inertia_)\n",
    "\n",
    "    cluster_labels = kmeans.labels_\n",
    "    silhouette_avg.append(silhouette_score(kmeans_train, cluster_labels))\n",
    "\n",
    "  plt.plot(range(2, max_n_clusters + 1),Sum_of_squared_distances,'bx-')\n",
    "  plt.xlabel('Values of K') \n",
    "  plt.ylabel('Sum of squared distances/Inertia') \n",
    "  plt.title('Elbow Method For Optimal k')\n",
    "  plt.show()\n",
    "\n",
    "  plt.plot(range(2, max_n_clusters + 1),silhouette_avg,'bx-')\n",
    "  plt.xlabel('Values of K') \n",
    "  plt.ylabel('Silhouette score') \n",
    "  plt.title('Silhouette analysis For Optimal k')\n",
    "  plt.show()\n",
    "\n",
    "elbow_silhouette(8, info_columns)"
   ]
  },
  {
   "cell_type": "markdown",
   "metadata": {
    "id": "E8L5uT3M7bWq"
   },
   "source": [
    "###### 현재 column 확인"
   ]
  },
  {
   "cell_type": "code",
   "execution_count": null,
   "metadata": {
    "colab": {
     "base_uri": "https://localhost:8080/"
    },
    "id": "b0fx35Cf7d9b",
    "outputId": "f9affc2e-0177-4b39-a702-ee0bc352515d"
   },
   "outputs": [
    {
     "name": "stdout",
     "output_type": "stream",
     "text": [
      "Q1 Q2 Q3 Q4 Q5 Q6 Q7 Q8 Q9 Q10 Q11 Q12 Q13 Q14 Q15 Q16 Q17 Q18 Q19 Q20 Q21 Q22 Q23 Q24 Q25 Q26 education urban gender engnat age hand religion orientation voted married familysize nerdiness reliability extraversion agreeableness conscientiousness emotional_stability openness_to_experiences\n",
      "Q1 Q2 Q3 Q4 Q5 Q6 Q7 Q8 Q9 Q10 Q11 Q12 Q13 Q14 Q15 Q16 Q17 Q18 Q19 Q20 Q21 Q22 Q23 Q24 Q25 Q26 education urban gender engnat age hand religion orientation voted married familysize reliability extraversion agreeableness conscientiousness emotional_stability openness_to_experiences\n"
     ]
    }
   ],
   "source": [
    "print(*list(train.columns))\n",
    "print(*list(test.columns))"
   ]
  },
  {
   "cell_type": "markdown",
   "metadata": {
    "id": "1auON1-3fWPo"
   },
   "source": [
    "###### 모델 정의"
   ]
  },
  {
   "cell_type": "code",
   "execution_count": null,
   "metadata": {
    "id": "uQohSjl3fXl4"
   },
   "outputs": [],
   "source": [
    "def create_model():\n",
    "  return RandomForestClassifier(n_estimators=int(378.2),\n",
    "                                min_samples_split=int(5.8),\n",
    "                                max_depth=149.4)"
   ]
  },
  {
   "cell_type": "markdown",
   "metadata": {
    "id": "fimj9Wkwp5vV"
   },
   "source": [
    "###### Bayesian Optimization"
   ]
  },
  {
   "cell_type": "code",
   "execution_count": null,
   "metadata": {
    "colab": {
     "base_uri": "https://localhost:8080/"
    },
    "id": "SLLd1GNKp5W1",
    "outputId": "aa5cf1ec-11e9-4f0a-d33f-674c89ef124a"
   },
   "outputs": [
    {
     "name": "stdout",
     "output_type": "stream",
     "text": [
      "|   iter    |  target   | max_depth | min_sa... | n_esti... |\n",
      "-------------------------------------------------------------\n",
      "| \u001b[0m 1       \u001b[0m | \u001b[0m 0.7935  \u001b[0m | \u001b[0m 145.1   \u001b[0m | \u001b[0m 6.378   \u001b[0m | \u001b[0m 973.0   \u001b[0m |\n",
      "| \u001b[0m 2       \u001b[0m | \u001b[0m 0.7902  \u001b[0m | \u001b[0m 107.5   \u001b[0m | \u001b[0m 7.582   \u001b[0m | \u001b[0m 223.9   \u001b[0m |\n",
      "| \u001b[95m 3       \u001b[0m | \u001b[95m 0.795   \u001b[0m | \u001b[95m 146.5   \u001b[0m | \u001b[95m 2.05    \u001b[0m | \u001b[95m 260.5   \u001b[0m |\n",
      "| \u001b[0m 4       \u001b[0m | \u001b[0m 0.7886  \u001b[0m | \u001b[0m 65.78   \u001b[0m | \u001b[0m 8.235   \u001b[0m | \u001b[0m 205.7   \u001b[0m |\n",
      "| \u001b[0m 5       \u001b[0m | \u001b[0m 0.7881  \u001b[0m | \u001b[0m 129.6   \u001b[0m | \u001b[0m 9.867   \u001b[0m | \u001b[0m 172.2   \u001b[0m |\n",
      "| \u001b[0m 6       \u001b[0m | \u001b[0m 0.7942  \u001b[0m | \u001b[0m 149.2   \u001b[0m | \u001b[0m 6.349   \u001b[0m | \u001b[0m 260.2   \u001b[0m |\n",
      "| \u001b[95m 7       \u001b[0m | \u001b[95m 0.7952  \u001b[0m | \u001b[95m 121.4   \u001b[0m | \u001b[95m 2.291   \u001b[0m | \u001b[95m 274.1   \u001b[0m |\n",
      "| \u001b[0m 8       \u001b[0m | \u001b[0m 0.7951  \u001b[0m | \u001b[0m 148.2   \u001b[0m | \u001b[0m 2.141   \u001b[0m | \u001b[0m 309.5   \u001b[0m |\n",
      "| \u001b[0m 9       \u001b[0m | \u001b[0m 0.7945  \u001b[0m | \u001b[0m 102.9   \u001b[0m | \u001b[0m 2.033   \u001b[0m | \u001b[0m 334.7   \u001b[0m |\n",
      "| \u001b[95m 10      \u001b[0m | \u001b[95m 0.7956  \u001b[0m | \u001b[95m 149.4   \u001b[0m | \u001b[95m 5.8     \u001b[0m | \u001b[95m 378.2   \u001b[0m |\n",
      "| \u001b[0m 11      \u001b[0m | \u001b[0m 0.7892  \u001b[0m | \u001b[0m 107.2   \u001b[0m | \u001b[0m 9.863   \u001b[0m | \u001b[0m 420.0   \u001b[0m |\n",
      "| \u001b[0m 12      \u001b[0m | \u001b[0m 0.7941  \u001b[0m | \u001b[0m 145.3   \u001b[0m | \u001b[0m 2.745   \u001b[0m | \u001b[0m 347.6   \u001b[0m |\n",
      "| \u001b[0m 13      \u001b[0m | \u001b[0m 0.795   \u001b[0m | \u001b[0m 38.99   \u001b[0m | \u001b[0m 4.565   \u001b[0m | \u001b[0m 320.4   \u001b[0m |\n",
      "| \u001b[0m 14      \u001b[0m | \u001b[0m 0.7219  \u001b[0m | \u001b[0m 1.554   \u001b[0m | \u001b[0m 4.898   \u001b[0m | \u001b[0m 352.6   \u001b[0m |\n",
      "| \u001b[0m 15      \u001b[0m | \u001b[0m 0.7932  \u001b[0m | \u001b[0m 56.77   \u001b[0m | \u001b[0m 2.0     \u001b[0m | \u001b[0m 280.0   \u001b[0m |\n",
      "=============================================================\n"
     ]
    }
   ],
   "source": [
    "x = np.array(train.drop(['nerdiness'], axis=1))\n",
    "y = train['nerdiness']\n",
    "\n",
    "def black_box_function(n_estimators, max_depth, min_samples_split):\n",
    "    kf = KFold(n_splits=7)\n",
    "    score = []\n",
    "    for i, (train_index, valid_index) in enumerate(kf.split(x)):\n",
    "      train_x, valid_x = x[train_index], x[valid_index]\n",
    "      train_y, valid_y = y.iloc[train_index], y.iloc[valid_index]\n",
    "\n",
    "      model = RandomForestClassifier(n_estimators=int(n_estimators),\n",
    "                                     max_depth=max_depth,\n",
    "                                     min_samples_split=int(min_samples_split))\n",
    "      model.fit(train_x, train_y)\n",
    "      score.append(roc_auc_score(model.predict(valid_x), valid_y))\n",
    "    return sum(score) / 7\n",
    "\n",
    "parameters = {\"n_estimators\": (10, 1000),\n",
    "              \"max_depth\": (1, 150),\n",
    "              \"min_samples_split\": (2, 10)}\n",
    "\n",
    "optimizer = BayesianOptimization(f = black_box_function,\n",
    "                                 pbounds = parameters, verbose = 2,\n",
    "                                 random_state = 4)\n",
    "optimizer.maximize(init_points = 5, n_iter = 10)"
   ]
  },
  {
   "cell_type": "code",
   "execution_count": null,
   "metadata": {
    "id": "NMHG9f8jv1rv"
   },
   "outputs": [],
   "source": [
    "optimizer."
   ]
  },
  {
   "cell_type": "markdown",
   "metadata": {
    "id": "DN13VOjefNpo"
   },
   "source": [
    "###### 모델 평가"
   ]
  },
  {
   "cell_type": "code",
   "execution_count": null,
   "metadata": {
    "colab": {
     "base_uri": "https://localhost:8080/"
    },
    "id": "9PZmsddRedB5",
    "outputId": "1c1248c6-591f-4a87-cc1c-e11ca5042aaa"
   },
   "outputs": [
    {
     "name": "stdout",
     "output_type": "stream",
     "text": [
      "0.7881474568362109\n",
      "0.7993467102193187\n",
      "0.7942137190853943\n",
      "0.7764815678954736\n",
      "0.8142790480634624\n",
      "0.7872141857209519\n",
      "0.7964519140989729\n",
      "Score : 0.7937335145599692\n"
     ]
    }
   ],
   "source": [
    "x = np.array(train.drop(['nerdiness'], axis=1))\n",
    "y = train['nerdiness']\n",
    "\n",
    "kf = KFold(n_splits=7)\n",
    "accuracy = []\n",
    "for i, (train_index, valid_index) in enumerate(kf.split(x)):\n",
    "  train_x, valid_x = x[train_index], x[valid_index]\n",
    "  train_y, valid_y = y.iloc[train_index], y.iloc[valid_index]\n",
    "\n",
    "  model = create_model()\n",
    "  model.fit(train_x, train_y)\n",
    "  accuracy.append(accuracy_score(model.predict(valid_x), valid_y))\n",
    "  print(accuracy[-1])\n",
    "print(f'Score : {sum(accuracy) / 7}')"
   ]
  },
  {
   "cell_type": "markdown",
   "metadata": {
    "id": "LRDpxVCh8jFd"
   },
   "source": [
    "###### 의존도 시각화"
   ]
  },
  {
   "cell_type": "code",
   "execution_count": null,
   "metadata": {
    "colab": {
     "base_uri": "https://localhost:8080/",
     "height": 592
    },
    "id": "YzkoBRaIr385",
    "outputId": "cecdc4e2-b947-4bea-bb3e-a5c02c5207f6"
   },
   "outputs": [
    {
     "data": {
      "image/png": "[encoded data removed]",
      "text/plain": [
       "<Figure size 864x720 with 1 Axes>"
      ]
     },
     "metadata": {
      "needs_background": "light"
     },
     "output_type": "display_data"
    }
   ],
   "source": [
    "model  = create_model()\n",
    "model.fit(x, y)\n",
    "importances_values = model.feature_importances_\n",
    "importances = pd.Series(importances_values, index=test.columns)\n",
    "importances = importances.sort_values(ascending=False)\n",
    "plt.figure(figsize=(12, 10))\n",
    "sns.barplot(x = importances, y = importances.index)\n",
    "plt.show()"
   ]
  },
  {
   "cell_type": "code",
   "execution_count": null,
   "metadata": {
    "colab": {
     "base_uri": "https://localhost:8080/"
    },
    "id": "qmHcjiNXwsCE",
    "outputId": "0991a8f9-3553-47d5-e99e-86ee9e6b6096"
   },
   "outputs": [
    {
     "name": "stderr",
     "output_type": "stream",
     "text": [
      "/usr/local/lib/python3.7/dist-packages/sklearn/base.py:444: UserWarning: X has feature names, but RandomForestClassifier was fitted without feature names\n",
      "  f\"X has feature names, but {self.__class__.__name__} was fitted without\"\n"
     ]
    },
    {
     "data": {
      "text/plain": [
       "array([0, 1, 1, ..., 1, 0, 1])"
      ]
     },
     "execution_count": 82,
     "metadata": {},
     "output_type": "execute_result"
    }
   ],
   "source": [
    "model = create_model()\n",
    "model.fit(x, y)\n",
    "prediction = model.predict(test)\n",
    "prediction.values"
   ]
  },
  {
   "cell_type": "code",
   "execution_count": null,
   "metadata": {
    "colab": {
     "base_uri": "https://localhost:8080/",
     "height": 424
    },
    "id": "Y_4mr8JLxFLX",
    "outputId": "feadb2c6-c38a-4e1d-cb85-5718f497b947"
   },
   "outputs": [
    {
     "data": {
      "text/html": [
       "\n",
       "  <div id=\"df-dd4dec6c-c168-4ed9-bc27-c7d4018fed25\">\n",
       "    <div class=\"colab-df-container\">\n",
       "      <div>\n",
       "<style scoped>\n",
       "    .dataframe tbody tr th:only-of-type {\n",
       "        vertical-align: middle;\n",
       "    }\n",
       "\n",
       "    .dataframe tbody tr th {\n",
       "        vertical-align: top;\n",
       "    }\n",
       "\n",
       "    .dataframe thead th {\n",
       "        text-align: right;\n",
       "    }\n",
       "</style>\n",
       "<table border=\"1\" class=\"dataframe\">\n",
       "  <thead>\n",
       "    <tr style=\"text-align: right;\">\n",
       "      <th></th>\n",
       "      <th>index</th>\n",
       "      <th>nerdiness</th>\n",
       "    </tr>\n",
       "  </thead>\n",
       "  <tbody>\n",
       "    <tr>\n",
       "      <th>0</th>\n",
       "      <td>0</td>\n",
       "      <td>0</td>\n",
       "    </tr>\n",
       "    <tr>\n",
       "      <th>1</th>\n",
       "      <td>1</td>\n",
       "      <td>1</td>\n",
       "    </tr>\n",
       "    <tr>\n",
       "      <th>2</th>\n",
       "      <td>2</td>\n",
       "      <td>1</td>\n",
       "    </tr>\n",
       "    <tr>\n",
       "      <th>3</th>\n",
       "      <td>3</td>\n",
       "      <td>1</td>\n",
       "    </tr>\n",
       "    <tr>\n",
       "      <th>4</th>\n",
       "      <td>4</td>\n",
       "      <td>1</td>\n",
       "    </tr>\n",
       "    <tr>\n",
       "      <th>...</th>\n",
       "      <td>...</td>\n",
       "      <td>...</td>\n",
       "    </tr>\n",
       "    <tr>\n",
       "      <th>35447</th>\n",
       "      <td>35447</td>\n",
       "      <td>1</td>\n",
       "    </tr>\n",
       "    <tr>\n",
       "      <th>35448</th>\n",
       "      <td>35448</td>\n",
       "      <td>1</td>\n",
       "    </tr>\n",
       "    <tr>\n",
       "      <th>35449</th>\n",
       "      <td>35449</td>\n",
       "      <td>1</td>\n",
       "    </tr>\n",
       "    <tr>\n",
       "      <th>35450</th>\n",
       "      <td>35450</td>\n",
       "      <td>0</td>\n",
       "    </tr>\n",
       "    <tr>\n",
       "      <th>35451</th>\n",
       "      <td>35451</td>\n",
       "      <td>1</td>\n",
       "    </tr>\n",
       "  </tbody>\n",
       "</table>\n",
       "<p>35452 rows × 2 columns</p>\n",
       "</div>\n",
       "      <button class=\"colab-df-convert\" onclick=\"convertToInteractive('df-dd4dec6c-c168-4ed9-bc27-c7d4018fed25')\"\n",
       "              title=\"Convert this dataframe to an interactive table.\"\n",
       "              style=\"display:none;\">\n",
       "        \n",
       "  <svg xmlns=\"http://www.w3.org/2000/svg\" height=\"24px\"viewBox=\"0 0 24 24\"\n",
       "       width=\"24px\">\n",
       "    <path d=\"M0 0h24v24H0V0z\" fill=\"none\"/>\n",
       "    <path d=\"M18.56 5.44l.94 2.06.94-2.06 2.06-.94-2.06-.94-.94-2.06-.94 2.06-2.06.94zm-11 1L8.5 8.5l.94-2.06 2.06-.94-2.06-.94L8.5 2.5l-.94 2.06-2.06.94zm10 10l.94 2.06.94-2.06 2.06-.94-2.06-.94-.94-2.06-.94 2.06-2.06.94z\"/><path d=\"M17.41 7.96l-1.37-1.37c-.4-.4-.92-.59-1.43-.59-.52 0-1.04.2-1.43.59L10.3 9.45l-7.72 7.72c-.78.78-.78 2.05 0 2.83L4 21.41c.39.39.9.59 1.41.59.51 0 1.02-.2 1.41-.59l7.78-7.78 2.81-2.81c.8-.78.8-2.07 0-2.86zM5.41 20L4 18.59l7.72-7.72 1.47 1.35L5.41 20z\"/>\n",
       "  </svg>\n",
       "      </button>\n",
       "      \n",
       "  <style>\n",
       "    .colab-df-container {\n",
       "      display:flex;\n",
       "      flex-wrap:wrap;\n",
       "      gap: 12px;\n",
       "    }\n",
       "\n",
       "    .colab-df-convert {\n",
       "      background-color: #E8F0FE;\n",
       "      border: none;\n",
       "      border-radius: 50%;\n",
       "      cursor: pointer;\n",
       "      display: none;\n",
       "      fill: #1967D2;\n",
       "      height: 32px;\n",
       "      padding: 0 0 0 0;\n",
       "      width: 32px;\n",
       "    }\n",
       "\n",
       "    .colab-df-convert:hover {\n",
       "      background-color: #E2EBFA;\n",
       "      box-shadow: 0px 1px 2px rgba(60, 64, 67, 0.3), 0px 1px 3px 1px rgba(60, 64, 67, 0.15);\n",
       "      fill: #174EA6;\n",
       "    }\n",
       "\n",
       "    [theme=dark] .colab-df-convert {\n",
       "      background-color: #3B4455;\n",
       "      fill: #D2E3FC;\n",
       "    }\n",
       "\n",
       "    [theme=dark] .colab-df-convert:hover {\n",
       "      background-color: #434B5C;\n",
       "      box-shadow: 0px 1px 3px 1px rgba(0, 0, 0, 0.15);\n",
       "      filter: drop-shadow(0px 1px 2px rgba(0, 0, 0, 0.3));\n",
       "      fill: #FFFFFF;\n",
       "    }\n",
       "  </style>\n",
       "\n",
       "      <script>\n",
       "        const buttonEl =\n",
       "          document.querySelector('#df-dd4dec6c-c168-4ed9-bc27-c7d4018fed25 button.colab-df-convert');\n",
       "        buttonEl.style.display =\n",
       "          google.colab.kernel.accessAllowed ? 'block' : 'none';\n",
       "\n",
       "        async function convertToInteractive(key) {\n",
       "          const element = document.querySelector('#df-dd4dec6c-c168-4ed9-bc27-c7d4018fed25');\n",
       "          const dataTable =\n",
       "            await google.colab.kernel.invokeFunction('convertToInteractive',\n",
       "                                                     [key], {});\n",
       "          if (!dataTable) return;\n",
       "\n",
       "          const docLinkHtml = 'Like what you see? Visit the ' +\n",
       "            '<a target=\"_blank\" href=https://colab.research.google.com/notebooks/data_table.ipynb>data table notebook</a>'\n",
       "            + ' to learn more about interactive tables.';\n",
       "          element.innerHTML = '';\n",
       "          dataTable['output_type'] = 'display_data';\n",
       "          await google.colab.output.renderOutput(dataTable, element);\n",
       "          const docLink = document.createElement('div');\n",
       "          docLink.innerHTML = docLinkHtml;\n",
       "          element.appendChild(docLink);\n",
       "        }\n",
       "      </script>\n",
       "    </div>\n",
       "  </div>\n",
       "  "
      ],
      "text/plain": [
       "       index  nerdiness\n",
       "0          0          0\n",
       "1          1          1\n",
       "2          2          1\n",
       "3          3          1\n",
       "4          4          1\n",
       "...      ...        ...\n",
       "35447  35447          1\n",
       "35448  35448          1\n",
       "35449  35449          1\n",
       "35450  35450          0\n",
       "35451  35451          1\n",
       "\n",
       "[35452 rows x 2 columns]"
      ]
     },
     "execution_count": 85,
     "metadata": {},
     "output_type": "execute_result"
    }
   ],
   "source": [
    "submission = pd.read_csv('sample_submission.csv')\n",
    "submission['nerdiness'] = prediction\n",
    "submission.to_csv('submission_18.csv', index = False)\n",
    "submission"
   ]
  },
  {
   "cell_type": "markdown",
   "metadata": {
    "id": "clzbnnRC8mm6"
   },
   "source": [
    "###### submission.csv 생성"
   ]
  },
  {
   "cell_type": "code",
   "execution_count": null,
   "metadata": {
    "colab": {
     "base_uri": "https://localhost:8080/"
    },
    "id": "59tGJs0PuBv6",
    "outputId": "da142e9b-3b69-4edd-ab92-d3a8049a0c73"
   },
   "outputs": [
    {
     "name": "stderr",
     "output_type": "stream",
     "text": [
      "/usr/local/lib/python3.7/dist-packages/sklearn/base.py:444: UserWarning: X has feature names, but ExtraTreesClassifier was fitted without feature names\n",
      "  f\"X has feature names, but {self.__class__.__name__} was fitted without\"\n",
      "/usr/local/lib/python3.7/dist-packages/sklearn/base.py:444: UserWarning: X has feature names, but ExtraTreesClassifier was fitted without feature names\n",
      "  f\"X has feature names, but {self.__class__.__name__} was fitted without\"\n",
      "/usr/local/lib/python3.7/dist-packages/sklearn/base.py:444: UserWarning: X has feature names, but ExtraTreesClassifier was fitted without feature names\n",
      "  f\"X has feature names, but {self.__class__.__name__} was fitted without\"\n",
      "/usr/local/lib/python3.7/dist-packages/sklearn/base.py:444: UserWarning: X has feature names, but ExtraTreesClassifier was fitted without feature names\n",
      "  f\"X has feature names, but {self.__class__.__name__} was fitted without\"\n",
      "/usr/local/lib/python3.7/dist-packages/sklearn/base.py:444: UserWarning: X has feature names, but ExtraTreesClassifier was fitted without feature names\n",
      "  f\"X has feature names, but {self.__class__.__name__} was fitted without\"\n",
      "/usr/local/lib/python3.7/dist-packages/sklearn/base.py:444: UserWarning: X has feature names, but ExtraTreesClassifier was fitted without feature names\n",
      "  f\"X has feature names, but {self.__class__.__name__} was fitted without\"\n",
      "/usr/local/lib/python3.7/dist-packages/sklearn/base.py:444: UserWarning: X has feature names, but ExtraTreesClassifier was fitted without feature names\n",
      "  f\"X has feature names, but {self.__class__.__name__} was fitted without\"\n",
      "/usr/local/lib/python3.7/dist-packages/sklearn/base.py:444: UserWarning: X has feature names, but ExtraTreesClassifier was fitted without feature names\n",
      "  f\"X has feature names, but {self.__class__.__name__} was fitted without\"\n",
      "/usr/local/lib/python3.7/dist-packages/sklearn/base.py:444: UserWarning: X has feature names, but ExtraTreesClassifier was fitted without feature names\n",
      "  f\"X has feature names, but {self.__class__.__name__} was fitted without\"\n",
      "/usr/local/lib/python3.7/dist-packages/sklearn/base.py:444: UserWarning: X has feature names, but ExtraTreesClassifier was fitted without feature names\n",
      "  f\"X has feature names, but {self.__class__.__name__} was fitted without\"\n",
      "/usr/local/lib/python3.7/dist-packages/sklearn/base.py:444: UserWarning: X has feature names, but ExtraTreesClassifier was fitted without feature names\n",
      "  f\"X has feature names, but {self.__class__.__name__} was fitted without\"\n",
      "/usr/local/lib/python3.7/dist-packages/sklearn/base.py:444: UserWarning: X has feature names, but ExtraTreesClassifier was fitted without feature names\n",
      "  f\"X has feature names, but {self.__class__.__name__} was fitted without\"\n",
      "/usr/local/lib/python3.7/dist-packages/sklearn/base.py:444: UserWarning: X has feature names, but ExtraTreesClassifier was fitted without feature names\n",
      "  f\"X has feature names, but {self.__class__.__name__} was fitted without\"\n",
      "/usr/local/lib/python3.7/dist-packages/sklearn/base.py:444: UserWarning: X has feature names, but ExtraTreesClassifier was fitted without feature names\n",
      "  f\"X has feature names, but {self.__class__.__name__} was fitted without\"\n",
      "/usr/local/lib/python3.7/dist-packages/sklearn/base.py:444: UserWarning: X has feature names, but ExtraTreesClassifier was fitted without feature names\n",
      "  f\"X has feature names, but {self.__class__.__name__} was fitted without\"\n",
      "/usr/local/lib/python3.7/dist-packages/sklearn/base.py:444: UserWarning: X has feature names, but ExtraTreesClassifier was fitted without feature names\n",
      "  f\"X has feature names, but {self.__class__.__name__} was fitted without\"\n",
      "/usr/local/lib/python3.7/dist-packages/sklearn/base.py:444: UserWarning: X has feature names, but ExtraTreesClassifier was fitted without feature names\n",
      "  f\"X has feature names, but {self.__class__.__name__} was fitted without\"\n"
     ]
    },
    {
     "data": {
      "text/plain": [
       "array([0, 1, 1, ..., 1, 0, 1])"
      ]
     },
     "execution_count": 82,
     "metadata": {},
     "output_type": "execute_result"
    }
   ],
   "source": [
    "\n",
    "prediction = []\n",
    "for model in models:\n",
    "  prediction.append(model.predict_proba(test)[:,1])\n",
    "\n",
    "prediction = pd.DataFrame(prediction)\n",
    "prediction = prediction.sum()\n",
    "prediction = prediction / 17\n",
    "prediction = prediction.map(lambda x: 0 if x < 0.5 else 1)\n",
    "prediction.values"
   ]
  },
  {
   "cell_type": "code",
   "execution_count": null,
   "metadata": {
    "colab": {
     "base_uri": "https://localhost:8080/",
     "height": 424
    },
    "id": "D4l76wnah2w0",
    "outputId": "9498eeff-3071-42f9-821c-31acf9434456"
   },
   "outputs": [
    {
     "data": {
      "text/html": [
       "\n",
       "  <div id=\"df-cfbd3269-579b-4549-9408-be4c304392be\">\n",
       "    <div class=\"colab-df-container\">\n",
       "      <div>\n",
       "<style scoped>\n",
       "    .dataframe tbody tr th:only-of-type {\n",
       "        vertical-align: middle;\n",
       "    }\n",
       "\n",
       "    .dataframe tbody tr th {\n",
       "        vertical-align: top;\n",
       "    }\n",
       "\n",
       "    .dataframe thead th {\n",
       "        text-align: right;\n",
       "    }\n",
       "</style>\n",
       "<table border=\"1\" class=\"dataframe\">\n",
       "  <thead>\n",
       "    <tr style=\"text-align: right;\">\n",
       "      <th></th>\n",
       "      <th>index</th>\n",
       "      <th>nerdiness</th>\n",
       "    </tr>\n",
       "  </thead>\n",
       "  <tbody>\n",
       "    <tr>\n",
       "      <th>0</th>\n",
       "      <td>0</td>\n",
       "      <td>0</td>\n",
       "    </tr>\n",
       "    <tr>\n",
       "      <th>1</th>\n",
       "      <td>1</td>\n",
       "      <td>1</td>\n",
       "    </tr>\n",
       "    <tr>\n",
       "      <th>2</th>\n",
       "      <td>2</td>\n",
       "      <td>1</td>\n",
       "    </tr>\n",
       "    <tr>\n",
       "      <th>3</th>\n",
       "      <td>3</td>\n",
       "      <td>1</td>\n",
       "    </tr>\n",
       "    <tr>\n",
       "      <th>4</th>\n",
       "      <td>4</td>\n",
       "      <td>1</td>\n",
       "    </tr>\n",
       "    <tr>\n",
       "      <th>...</th>\n",
       "      <td>...</td>\n",
       "      <td>...</td>\n",
       "    </tr>\n",
       "    <tr>\n",
       "      <th>35447</th>\n",
       "      <td>35447</td>\n",
       "      <td>1</td>\n",
       "    </tr>\n",
       "    <tr>\n",
       "      <th>35448</th>\n",
       "      <td>35448</td>\n",
       "      <td>1</td>\n",
       "    </tr>\n",
       "    <tr>\n",
       "      <th>35449</th>\n",
       "      <td>35449</td>\n",
       "      <td>1</td>\n",
       "    </tr>\n",
       "    <tr>\n",
       "      <th>35450</th>\n",
       "      <td>35450</td>\n",
       "      <td>0</td>\n",
       "    </tr>\n",
       "    <tr>\n",
       "      <th>35451</th>\n",
       "      <td>35451</td>\n",
       "      <td>1</td>\n",
       "    </tr>\n",
       "  </tbody>\n",
       "</table>\n",
       "<p>35452 rows × 2 columns</p>\n",
       "</div>\n",
       "      <button class=\"colab-df-convert\" onclick=\"convertToInteractive('df-cfbd3269-579b-4549-9408-be4c304392be')\"\n",
       "              title=\"Convert this dataframe to an interactive table.\"\n",
       "              style=\"display:none;\">\n",
       "        \n",
       "  <svg xmlns=\"http://www.w3.org/2000/svg\" height=\"24px\"viewBox=\"0 0 24 24\"\n",
       "       width=\"24px\">\n",
       "    <path d=\"M0 0h24v24H0V0z\" fill=\"none\"/>\n",
       "    <path d=\"M18.56 5.44l.94 2.06.94-2.06 2.06-.94-2.06-.94-.94-2.06-.94 2.06-2.06.94zm-11 1L8.5 8.5l.94-2.06 2.06-.94-2.06-.94L8.5 2.5l-.94 2.06-2.06.94zm10 10l.94 2.06.94-2.06 2.06-.94-2.06-.94-.94-2.06-.94 2.06-2.06.94z\"/><path d=\"M17.41 7.96l-1.37-1.37c-.4-.4-.92-.59-1.43-.59-.52 0-1.04.2-1.43.59L10.3 9.45l-7.72 7.72c-.78.78-.78 2.05 0 2.83L4 21.41c.39.39.9.59 1.41.59.51 0 1.02-.2 1.41-.59l7.78-7.78 2.81-2.81c.8-.78.8-2.07 0-2.86zM5.41 20L4 18.59l7.72-7.72 1.47 1.35L5.41 20z\"/>\n",
       "  </svg>\n",
       "      </button>\n",
       "      \n",
       "  <style>\n",
       "    .colab-df-container {\n",
       "      display:flex;\n",
       "      flex-wrap:wrap;\n",
       "      gap: 12px;\n",
       "    }\n",
       "\n",
       "    .colab-df-convert {\n",
       "      background-color: #E8F0FE;\n",
       "      border: none;\n",
       "      border-radius: 50%;\n",
       "      cursor: pointer;\n",
       "      display: none;\n",
       "      fill: #1967D2;\n",
       "      height: 32px;\n",
       "      padding: 0 0 0 0;\n",
       "      width: 32px;\n",
       "    }\n",
       "\n",
       "    .colab-df-convert:hover {\n",
       "      background-color: #E2EBFA;\n",
       "      box-shadow: 0px 1px 2px rgba(60, 64, 67, 0.3), 0px 1px 3px 1px rgba(60, 64, 67, 0.15);\n",
       "      fill: #174EA6;\n",
       "    }\n",
       "\n",
       "    [theme=dark] .colab-df-convert {\n",
       "      background-color: #3B4455;\n",
       "      fill: #D2E3FC;\n",
       "    }\n",
       "\n",
       "    [theme=dark] .colab-df-convert:hover {\n",
       "      background-color: #434B5C;\n",
       "      box-shadow: 0px 1px 3px 1px rgba(0, 0, 0, 0.15);\n",
       "      filter: drop-shadow(0px 1px 2px rgba(0, 0, 0, 0.3));\n",
       "      fill: #FFFFFF;\n",
       "    }\n",
       "  </style>\n",
       "\n",
       "      <script>\n",
       "        const buttonEl =\n",
       "          document.querySelector('#df-cfbd3269-579b-4549-9408-be4c304392be button.colab-df-convert');\n",
       "        buttonEl.style.display =\n",
       "          google.colab.kernel.accessAllowed ? 'block' : 'none';\n",
       "\n",
       "        async function convertToInteractive(key) {\n",
       "          const element = document.querySelector('#df-cfbd3269-579b-4549-9408-be4c304392be');\n",
       "          const dataTable =\n",
       "            await google.colab.kernel.invokeFunction('convertToInteractive',\n",
       "                                                     [key], {});\n",
       "          if (!dataTable) return;\n",
       "\n",
       "          const docLinkHtml = 'Like what you see? Visit the ' +\n",
       "            '<a target=\"_blank\" href=https://colab.research.google.com/notebooks/data_table.ipynb>data table notebook</a>'\n",
       "            + ' to learn more about interactive tables.';\n",
       "          element.innerHTML = '';\n",
       "          dataTable['output_type'] = 'display_data';\n",
       "          await google.colab.output.renderOutput(dataTable, element);\n",
       "          const docLink = document.createElement('div');\n",
       "          docLink.innerHTML = docLinkHtml;\n",
       "          element.appendChild(docLink);\n",
       "        }\n",
       "      </script>\n",
       "    </div>\n",
       "  </div>\n",
       "  "
      ],
      "text/plain": [
       "       index  nerdiness\n",
       "0          0          0\n",
       "1          1          1\n",
       "2          2          1\n",
       "3          3          1\n",
       "4          4          1\n",
       "...      ...        ...\n",
       "35447  35447          1\n",
       "35448  35448          1\n",
       "35449  35449          1\n",
       "35450  35450          0\n",
       "35451  35451          1\n",
       "\n",
       "[35452 rows x 2 columns]"
      ]
     },
     "execution_count": 83,
     "metadata": {},
     "output_type": "execute_result"
    }
   ],
   "source": [
    "submission = pd.read_csv('sample_submission.csv')\n",
    "submission['nerdiness'] = prediction.values\n",
    "submission.to_csv('submission_18.csv', index = False)\n",
    "submission"
   ]
  },
  {
   "cell_type": "code",
   "execution_count": null,
   "metadata": {
    "id": "a6sj_H5kkjcE"
   },
   "outputs": [],
   "source": []
  }
 ],
 "metadata": {
  "colab": {
   "provenance": []
  },
  "gpuClass": "standard",
  "kernelspec": {
   "display_name": "Python 3 (ipykernel)",
   "language": "python",
   "name": "python3"
  },
  "language_info": {
   "name": "python"
  }
 },
 "nbformat": 4,
 "nbformat_minor": 1
}
