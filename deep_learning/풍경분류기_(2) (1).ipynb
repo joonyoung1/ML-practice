{
  "nbformat": 4,
  "nbformat_minor": 0,
  "metadata": {
    "colab": {
      "name": "풍경분류기 (2).ipynb",
      "provenance": [],
      "collapsed_sections": []
    },
    "kernelspec": {
      "name": "python3",
      "display_name": "Python 3"
    },
    "language_info": {
      "name": "python"
    },
    "accelerator": "GPU",
    "gpuClass": "standard"
  },
  "cells": [
    {
      "cell_type": "code",
      "execution_count": null,
      "metadata": {
        "colab": {
          "base_uri": "https://localhost:8080/"
        },
        "id": "H80nqeNRL7y6",
        "outputId": "c3b6f97a-d25b-4d7b-f065-e83dc736785e"
      },
      "outputs": [
        {
          "output_type": "stream",
          "name": "stdout",
          "text": [
            "Cloning into 'Scene-Classification-Dataset-Split'...\n",
            "remote: Enumerating objects: 17038, done.\u001b[K\n",
            "remote: Total 17038 (delta 0), reused 0 (delta 0), pack-reused 17038\u001b[K\n",
            "Receiving objects: 100% (17038/17038), 136.02 MiB | 39.39 MiB/s, done.\n",
            "Checking out files: 100% (17035/17035), done.\n",
            "/content/Scene-Classification-Dataset-Split\n"
          ]
        }
      ],
      "source": [
        "# 깃허브에서 데이터셋 다운로드하기\n",
        "!git clone https://github.com/ndb796/Scene-Classification-Dataset-Split \n",
        "# 폴더 안으로 이동\n",
        "%cd Scene-Classification-Dataset-Split"
      ]
    },
    {
      "cell_type": "code",
      "source": [
        "import torch\n",
        "import torch.nn as nn\n",
        "import torch.optim as optim\n",
        "from torchvision import transforms, datasets, models"
      ],
      "metadata": {
        "id": "nFF5le3ZP_al"
      },
      "execution_count": null,
      "outputs": []
    },
    {
      "cell_type": "code",
      "source": [
        "train_transform = transforms.Compose([\n",
        "    transforms.RandomResizedCrop((224, 224)),\n",
        "    transforms.RandomHorizontalFlip(),\n",
        "    transforms.ToTensor(),\n",
        "    transforms.Normalize([0.485, 0.456, 0.406], [0.229, 0.224, 0.225])\n",
        "])\n",
        "\n",
        "test_transform = transforms.Compose([\n",
        "    transforms.Resize((224, 224)),\n",
        "    transforms.ToTensor(),\n",
        "    transforms.Normalize([0.485, 0.456, 0.406], [0.229, 0.224, 0.225])\n",
        "])\n",
        "\n",
        "train_dataset = datasets.ImageFolder('train/', train_transform)\n",
        "test_dataset = datasets.ImageFolder('val/', test_transform)\n",
        "\n",
        "train_dataloader = torch.utils.data.DataLoader(train_dataset, batch_size=16, shuffle=True, num_workers=2)\n",
        "test_dataloader = torch.utils.data.DataLoader(test_dataset, batch_size=16, shuffle=True, num_workers=2)"
      ],
      "metadata": {
        "id": "_Y7lxIfxMX22"
      },
      "execution_count": null,
      "outputs": []
    },
    {
      "cell_type": "code",
      "source": [
        "def mixup(image, label):\n",
        "  t = np.random.beta(0.2, 0.2)\n",
        "  image[0] = t * image[0] + (1 - t) * image[-1]\n",
        "  label[0] = t * label[0] + (1 - t) * label[-1]\n",
        "  plt.imshow(  tensor_image.permute(1, 2, 0)  )"
      ],
      "metadata": {
        "id": "XYuiV73TVPPj"
      },
      "execution_count": null,
      "outputs": []
    },
    {
      "cell_type": "code",
      "source": [
        "def run(model, criterion, optimizer, data_loader, train=True):\n",
        "  if train:\n",
        "    model.train()\n",
        "  else:\n",
        "    model.eval()\n",
        "  \n",
        "  correct = 0\n",
        "  total = 0\n",
        "  loss_sum = 0\n",
        "\n",
        "  for image, label in data_loader:\n",
        "    image = image.to(device)\n",
        "    label = label.to(device)\n",
        "\n",
        "    output = model(image)\n",
        "    loss = criterion(output, label)\n",
        "    if train:\n",
        "      optimizer.zero_grad()\n",
        "      loss.backward()\n",
        "      optimizer.step()\n",
        "    else:\n",
        "      _, predict = output.max(1)\n",
        "      correct += predict.eq(label).sum().item()\n",
        "      total += label.size(0)\n",
        "      loss_sum += loss.item()\n",
        "  \n",
        "  if not train:\n",
        "    return correct / total, loss_sum / total"
      ],
      "metadata": {
        "id": "Q1C-AiTjPVDS"
      },
      "execution_count": null,
      "outputs": []
    },
    {
      "cell_type": "code",
      "source": [
        "learning_rate = 0.001\n",
        "num_epoch = 50\n",
        "device = 'cuda:0' if torch.cuda.is_available() else 'cpu'\n",
        "\n",
        "model = models.resnet50(weights=models.ResNet50_Weights.DEFAULT)\n",
        "model.fc = nn.Linear(model.fc.in_features, 6)\n",
        "model = model.to(device)\n",
        "criterion = nn.CrossEntropyLoss()\n",
        "optimizer = optim.SGD(model.parameters(), lr=learning_rate, weight_decay=0.0002)\n",
        "\n",
        "train_data = {'accuracy':[], 'loss':[]}\n",
        "test_data = {'accuracy':[], 'loss':[]}\n",
        "for epoch in range(1, num_epoch + 1):\n",
        "  print(f'Epoch {epoch}')\n",
        "  \n",
        "  try:\n",
        "    run(model, criterion, optimizer, train_dataloader)\n",
        "  except:\n",
        "    break\n",
        "\n",
        "  accuracy, loss = run(model, criterion, optimizer, train_dataloader, train=False)\n",
        "  train_data['accuracy'].append(accuracy)\n",
        "  train_data['loss'].append(loss)\n",
        "  print(f'  Train : Accuracy {accuracy}, Loss {loss}')\n",
        "\n",
        "  accuracy, loss = run(model, criterion, optimizer, test_dataloader, train=False)\n",
        "  test_data['accuracy'].append(accuracy)\n",
        "  test_data['loss'].append(loss)\n",
        "  print(f'  Test : Accuracy {accuracy}, Loss {loss}')"
      ],
      "metadata": {
        "colab": {
          "base_uri": "https://localhost:8080/"
        },
        "id": "acmvfk-rPb6B",
        "outputId": "7132e44d-b03b-4d34-9d60-55101f42f4d0"
      },
      "execution_count": null,
      "outputs": [
        {
          "output_type": "stream",
          "name": "stdout",
          "text": [
            "Epoch 1\n",
            "  Train : Accuracy 0.7451383283187789, Loss 0.06538488635787998\n",
            "  Test : Accuracy 0.8024655121808042, Loss 0.0623529949319793\n",
            "Epoch 2\n",
            "  Train : Accuracy 0.7854993762383503, Loss 0.04256149930501532\n",
            "  Test : Accuracy 0.8538303492808923, Loss 0.034854868534621095\n",
            "Epoch 3\n",
            "  Train : Accuracy 0.8105966096719748, Loss 0.03467523777306434\n",
            "  Test : Accuracy 0.8664514235397711, Loss 0.02675003663147164\n",
            "Epoch 4\n",
            "  Train : Accuracy 0.8318778894841125, Loss 0.030744119368724832\n",
            "  Test : Accuracy 0.8796595245083652, Loss 0.02321788190150842\n",
            "Epoch 5\n",
            "  Train : Accuracy 0.8400968665150069, Loss 0.0287808758679127\n",
            "  Test : Accuracy 0.885529791605518, Loss 0.02123230333582971\n",
            "Epoch 6\n",
            "  Train : Accuracy 0.8483158435459015, Loss 0.02738730642823469\n",
            "  Test : Accuracy 0.886410331670091, Loss 0.0206777975783255\n",
            "Epoch 7\n",
            "  Train : Accuracy 0.8549203786600132, Loss 0.02606873968214949\n",
            "  Test : Accuracy 0.8958027590255356, Loss 0.019537507174501048\n",
            "Epoch 8\n",
            "  Train : Accuracy 0.8585161811110296, Loss 0.025342299089731294\n",
            "  Test : Accuracy 0.8958027590255356, Loss 0.01903965683899424\n",
            "Epoch 9\n",
            "  Train : Accuracy 0.8640933440962795, Loss 0.02451896236640408\n",
            "  Test : Accuracy 0.8949222189609627, Loss 0.019558119601541368\n",
            "Epoch 10\n",
            "  Train : Accuracy 0.866074704630513, Loss 0.023365146744513253\n",
            "  Test : Accuracy 0.9013795127678309, Loss 0.017802211757512048\n",
            "Epoch 11\n",
            "  Train : Accuracy 0.8695237396345491, Loss 0.023191838091866868\n",
            "  Test : Accuracy 0.905488699735838, Loss 0.017506709046244167\n",
            "Epoch 12\n",
            "  Train : Accuracy 0.8722389374036839, Loss 0.02248779506583666\n",
            "  Test : Accuracy 0.905488699735838, Loss 0.0177640224327772\n",
            "Epoch 13\n",
            "  Train : Accuracy 0.8809716004990094, Loss 0.02179750049497828\n",
            "  Test : Accuracy 0.9078368065746991, Loss 0.01716273530906584\n",
            "Epoch 14\n",
            "  Train : Accuracy 0.8751742863432891, Loss 0.022092093834481952\n",
            "  Test : Accuracy 0.910478426768418, Loss 0.0161925795440769\n",
            "Epoch 15\n",
            "  Train : Accuracy 0.8810449842224994, Loss 0.020840527243879962\n",
            "  Test : Accuracy 0.9113589668329909, Loss 0.015466676910697872\n",
            "Epoch 16\n",
            "  Train : Accuracy 0.8848609378439862, Loss 0.019990895009495947\n",
            "  Test : Accuracy 0.9137070736718521, Loss 0.015336387278197762\n",
            "Epoch 17\n",
            "  Train : Accuracy 0.8803845307110882, Loss 0.021288276395840508\n",
            "  Test : Accuracy 0.9116524801878485, Loss 0.016247091483021888\n",
            "Epoch 18\n",
            "  Train : Accuracy 0.8805312981580685, Loss 0.020510469678738256\n",
            "  Test : Accuracy 0.9125330202524214, Loss 0.015661973513866192\n",
            "Epoch 19\n",
            "  Train : Accuracy 0.8845674029500257, Loss 0.020382106124014133\n",
            "  Test : Accuracy 0.9175227472850015, Loss 0.015494553695370243\n",
            "Epoch 20\n",
            "  Train : Accuracy 0.8861084611433184, Loss 0.019764921618985694\n",
            "  Test : Accuracy 0.9157616671558556, Loss 0.01540579485327294\n",
            "Epoch 21\n",
            "  Train : Accuracy 0.8940339032802525, Loss 0.01900146250098609\n",
            "  Test : Accuracy 0.9198708541238626, Loss 0.014710354009418499\n",
            "Epoch 22\n",
            "  Train : Accuracy 0.8927863799809203, Loss 0.018837775274812674\n",
            "  Test : Accuracy 0.9201643674787203, Loss 0.014316793480881995\n",
            "Epoch 23\n",
            "  Train : Accuracy 0.8919057752990387, Loss 0.018720719148926018\n",
            "  Test : Accuracy 0.9166422072204286, Loss 0.014750478649798957\n",
            "Epoch 24\n",
            "  Train : Accuracy 0.8966757173258971, Loss 0.018072447325855792\n",
            "  Test : Accuracy 0.923686527737012, Loss 0.014250728479658433\n",
            "Epoch 25\n",
            "  Train : Accuracy 0.8991707639245615, Loss 0.01768614875523541\n",
            "  Test : Accuracy 0.9169357205752862, Loss 0.014316202822546736\n",
            "Epoch 26\n",
            "  Train : Accuracy 0.895501577750055, Loss 0.01790390947455442\n",
            "  Test : Accuracy 0.9233930143821544, Loss 0.01387046679683819\n",
            "Epoch 27\n",
            "  Train : Accuracy 0.8916122404050781, Loss 0.019097171134171295\n",
            "  Test : Accuracy 0.919577340769005, Loss 0.015495897848339489\n",
            "Epoch 28\n",
            "  Train : Accuracy 0.8966023336024069, Loss 0.017993384440909078\n",
            "  Test : Accuracy 0.923686527737012, Loss 0.014640504265784133\n",
            "Epoch 29\n",
            "  Train : Accuracy 0.8999046011594628, Loss 0.017380355092339202\n",
            "  Test : Accuracy 0.928676254769592, Loss 0.01348430747048733\n",
            "Epoch 30\n",
            "  Train : Accuracy 0.898877229030601, Loss 0.01742527046243395\n",
            "  Test : Accuracy 0.9242735544467273, Loss 0.013903165516031603\n",
            "Epoch 31\n",
            "  Train : Accuracy 0.8984369266896602, Loss 0.017850912010338595\n",
            "  Test : Accuracy 0.9198708541238626, Loss 0.014741095660966723\n",
            "Epoch 32\n",
            "  Train : Accuracy 0.9061422176561239, Loss 0.01654061791283715\n",
            "  Test : Accuracy 0.9204578808335779, Loss 0.014100305485124458\n",
            "Epoch 33\n",
            "  Train : Accuracy 0.8962354149849563, Loss 0.017511586973106966\n",
            "  Test : Accuracy 0.9216319342530085, Loss 0.014837991317232789\n",
            "Epoch 34\n",
            "  Train : Accuracy 0.9032802524400088, Loss 0.0166309068823229\n",
            "  Test : Accuracy 0.9216319342530085, Loss 0.013544568640546501\n",
            "Epoch 35\n",
            "  Train : Accuracy 0.903427019886989, Loss 0.01630973807744036\n",
            "  Test : Accuracy 0.9248605811564427, Loss 0.01327130599710068\n",
            "Epoch 36\n",
            "  Train : Accuracy 0.9031334849930286, Loss 0.017049972128065364\n",
            "  Test : Accuracy 0.9216319342530085, Loss 0.01443080887764841\n",
            "Epoch 37\n",
            "  Train : Accuracy 0.9090041828722389, Loss 0.01592613994015075\n",
            "  Test : Accuracy 0.9277957147050191, Loss 0.013217940386947838\n",
            "Epoch 38\n",
            "  Train : Accuracy 0.9071695897849857, Loss 0.015851502188251\n",
            "  Test : Accuracy 0.9269151746404461, Loss 0.013086273538570338\n",
            "Epoch 39\n",
            "  Train : Accuracy 0.911279078300433, Loss 0.016226432127576674\n",
            "  Test : Accuracy 0.9248605811564427, Loss 0.015155651044053507\n",
            "Epoch 40\n",
            "  Train : Accuracy 0.9074631246789462, Loss 0.016143279613910193\n",
            "  Test : Accuracy 0.919577340769005, Loss 0.014199147549260212\n",
            "Epoch 41\n",
            "  Train : Accuracy 0.9098114038306304, Loss 0.015435063018749707\n",
            "  Test : Accuracy 0.9239800410918697, Loss 0.013102220463759744\n",
            "Epoch 42\n",
            "  Train : Accuracy 0.9059220664856534, Loss 0.016500427519080135\n",
            "  Test : Accuracy 0.9213384208981509, Loss 0.014058702090650682\n",
            "Epoch 43\n",
            "  Train : Accuracy 0.906802671167535, Loss 0.01589725986945946\n",
            "  Test : Accuracy 0.9266216612855885, Loss 0.013342640595305585\n",
            "Epoch 44\n",
            "  Train : Accuracy 0.9093711014896896, Loss 0.015728188792209837\n",
            "  Test : Accuracy 0.923686527737012, Loss 0.013055759625597402\n",
            "Epoch 45\n",
            "  Train : Accuracy 0.9073163572319659, Loss 0.01606310693663451\n",
            "  Test : Accuracy 0.918696800704432, Loss 0.014069352580257917\n",
            "Epoch 46\n",
            "  Train : Accuracy 0.9115726131943935, Loss 0.015284089505311052\n",
            "  Test : Accuracy 0.9251540945113003, Loss 0.013308379564861817\n",
            "Epoch 47\n",
            "  Train : Accuracy 0.9109121596829823, Loss 0.015523334597692921\n",
            "  Test : Accuracy 0.9213384208981509, Loss 0.014249253182420204\n",
            "Epoch 48\n",
            "  Train : Accuracy 0.9095178689366699, Loss 0.015718008293758978\n",
            "  Test : Accuracy 0.9219254476078662, Loss 0.013450767725185631\n",
            "Epoch 49\n",
            "  Train : Accuracy 0.9155353342628605, Loss 0.014826118337814567\n",
            "  Test : Accuracy 0.9225124743175814, Loss 0.012933338891156072\n",
            "Epoch 50\n",
            "  Train : Accuracy 0.9161957877742717, Loss 0.014524406675636712\n",
            "  Test : Accuracy 0.9254476078661579, Loss 0.012828912350887912\n"
          ]
        }
      ]
    },
    {
      "cell_type": "code",
      "source": [
        "torch.save(model, 'model/model.pt')"
      ],
      "metadata": {
        "id": "QP-J3gF9FKHs"
      },
      "execution_count": null,
      "outputs": []
    },
    {
      "cell_type": "code",
      "source": [
        "%ls"
      ],
      "metadata": {
        "colab": {
          "base_uri": "https://localhost:8080/"
        },
        "id": "sx9b-EuTGz_Q",
        "outputId": "ff00a827-988e-4979-987a-c45814ce53ec"
      },
      "execution_count": null,
      "outputs": [
        {
          "output_type": "stream",
          "name": "stdout",
          "text": [
            "\u001b[0m\u001b[01;34mmodel\u001b[0m/  README.md  \u001b[01;34mtrain\u001b[0m/  \u001b[01;34mval\u001b[0m/\n"
          ]
        }
      ]
    },
    {
      "cell_type": "code",
      "source": [
        "%cd model"
      ],
      "metadata": {
        "colab": {
          "base_uri": "https://localhost:8080/"
        },
        "id": "DXtDbowmG-EU",
        "outputId": "699ea4e7-4c0d-4116-b974-18c0428a67f0"
      },
      "execution_count": null,
      "outputs": [
        {
          "output_type": "stream",
          "name": "stdout",
          "text": [
            "/content/Scene-Classification-Dataset-Split/model\n"
          ]
        }
      ]
    },
    {
      "cell_type": "code",
      "source": [
        "%cd .."
      ],
      "metadata": {
        "colab": {
          "base_uri": "https://localhost:8080/"
        },
        "id": "FL6bHZ5RHG_2",
        "outputId": "d60f4b0a-9875-4ece-8445-c8ecbe57c76f"
      },
      "execution_count": null,
      "outputs": [
        {
          "output_type": "stream",
          "name": "stdout",
          "text": [
            "/content/Scene-Classification-Dataset-Split\n"
          ]
        }
      ]
    },
    {
      "cell_type": "code",
      "source": [
        ""
      ],
      "metadata": {
        "id": "HJ_8ysN2HXjS"
      },
      "execution_count": null,
      "outputs": []
    }
  ]
}