{
 "cells": [
  {
   "cell_type": "code",
   "execution_count": 1,
   "metadata": {
    "colab": {
     "base_uri": "https://localhost:8080/"
    },
    "id": "H80nqeNRL7y6",
    "outputId": "b9a25481-c70c-4440-a810-3e6b79eae249"
   },
   "outputs": [
    {
     "name": "stdout",
     "output_type": "stream",
     "text": [
      "Cloning into 'Scene-Classification-Dataset-Split'...\n",
      "remote: Enumerating objects: 17038, done.\u001b[K\n",
      "remote: Total 17038 (delta 0), reused 0 (delta 0), pack-reused 17038\u001b[K\n",
      "Receiving objects: 100% (17038/17038), 136.02 MiB | 36.58 MiB/s, done.\n",
      "Checking out files: 100% (17035/17035), done.\n",
      "/content/Scene-Classification-Dataset-Split\n"
     ]
    }
   ],
   "source": [
    "# 깃허브에서 데이터셋 다운로드하기\n",
    "!git clone https://github.com/ndb796/Scene-Classification-Dataset-Split \n",
    "# 폴더 안으로 이동\n",
    "%cd Scene-Classification-Dataset-Split"
   ]
  },
  {
   "cell_type": "code",
   "execution_count": 3,
   "metadata": {
    "id": "nFF5le3ZP_al"
   },
   "outputs": [],
   "source": [
    "import torch\n",
    "import torch.nn as nn\n",
    "import torch.optim as optim\n",
    "from torchvision import transforms, datasets, models"
   ]
  },
  {
   "cell_type": "code",
   "execution_count": null,
   "metadata": {
    "id": "_Y7lxIfxMX22"
   },
   "outputs": [],
   "source": [
    "train_transform = transforms.Compose([\n",
    "    transforms.RandomCrop((64, 64)),\n",
    "    transforms.RandomHorizontalFlip(),\n",
    "    transforms.ToTensor(),\n",
    "    transforms.Normalize([0.485, 0.456, 0.406], [0.229, 0.224, 0.225])\n",
    "])\n",
    "\n",
    "test_transform = transforms.Compos([\n",
    "    transforms.Resize((64, 64)),\n",
    "    transforms.ToTensor(),\n",
    "    transforms.Normalize([0.485, 0.456, 0.406], [0.229, 0.224, 0.225])\n",
    "])\n",
    "\n",
    "train_dataset = datasets.ImageFolder('/train', train_transform)\n",
    "test_dataset = datasets.ImageFolder('/val', test_transform)\n",
    "\n",
    "train_dataloader = torch.utils.data.DataLoader(train_dataset, batch_size=8, shuffle=True, num_workers=2)\n",
    "test_dataloader = torch.utils.data.DataLoader(test_dataset, batch_size=8, shuffle=True, num_workers=2)"
   ]
  },
  {
   "cell_type": "code",
   "execution_count": null,
   "metadata": {
    "id": "Q1C-AiTjPVDS"
   },
   "outputs": [],
   "source": [
    "def run(model, criterion, optimizer, data_loader, train=True):\n",
    "  if train:\n",
    "    model.train()\n",
    "  else:\n",
    "    model.eval()\n",
    "  \n",
    "  correct = 0\n",
    "  total = 0\n",
    "  loss_sum = 0\n",
    "\n",
    "  for image, label in data_loader:\n",
    "    # image = image.to(device)\n",
    "    # label = label.to(device)\n",
    "\n",
    "    output = model(image)\n",
    "    loss = criterion(output, label)\n",
    "    if train:\n",
    "      optimizer.zero_grad()\n",
    "      loss.backward()\n",
    "      optimizer.step()\n",
    "    else:\n",
    "      _, predict = output.max(1)\n",
    "      correct += predict.eq(label).sum().item()\n",
    "      total += label.size(0)\n",
    "      loss_sum += loss.item()\n",
    "  \n",
    "  if not train:\n",
    "    return correct / total, loss_sum / total"
   ]
  },
  {
   "cell_type": "code",
   "execution_count": 2,
   "metadata": {
    "colab": {
     "base_uri": "https://localhost:8080/"
    },
    "id": "acmvfk-rPb6B",
    "outputId": "5edb01a3-900b-4a02-8cf6-90ad7e043845"
   },
   "outputs": [
    {
     "name": "stdout",
     "output_type": "stream",
     "text": [
      "README.md  \u001b[0m\u001b[01;34mtrain\u001b[0m/  \u001b[01;34mval\u001b[0m/\n"
     ]
    }
   ],
   "source": [
    "learning_rate = 0.001\n",
    "momentum = 0.9\n",
    "num_epoch = 30\n",
    "device = 'cuda:0' if torch.cuda.is_available() else 'cpu'\n",
    "\n",
    "model = models.resnet50(weights=models.ResNet50_Weights.DEFAULT)\n",
    "model.fc = nn.Linear(model.fc.in_features, 6)\n",
    "model = model.to(device)\n",
    "criterion = nn.CrossEntropyLoss()\n",
    "optimizer = optim.Adam(model.parameters(), lr=learning_rate)\n",
    "\n",
    "train_data = {'accuracy':[], 'loss':[]}\n",
    "test_data = {'accuracy':[], 'loss':[]}\n",
    "for epoch in range(1, num_epoch + 1):\n",
    "  print(f'Epoch {epoch}')\n",
    "  run(model, criterion, optimizer, train_dataloader)\n",
    "\n",
    "  accuracy, loss = run(model, criterion, optimizer, train_dataloader, train=False)\n",
    "  train_data['accuracy'].append(accuracy)\n",
    "  train_data['loss'].append(loss)\n",
    "  print(f'  Train : Accuracy {accuracy}, Loss {loss}')\n",
    "\n",
    "  accuracy, loss = run(model, criterion, optimizer, test_dataloader, train=False)\n",
    "  test_data['accuracy'].append(accuracy)\n",
    "  test_data['loss'].append(loss)\n",
    "  print(f'  Test : Accuracy {accuracy}, Loss {loss}')"
   ]
  },
  {
   "cell_type": "code",
   "execution_count": null,
   "metadata": {
    "id": "IcJPuyHkPtFZ"
   },
   "outputs": [],
   "source": []
  }
 ],
 "metadata": {
  "accelerator": "GPU",
  "colab": {
   "collapsed_sections": [],
   "name": "풍경분류기 (2).ipynb",
   "provenance": []
  },
  "gpuClass": "standard",
  "kernelspec": {
   "display_name": "Python 3 (ipykernel)",
   "language": "python",
   "name": "python3"
  },
  "language_info": {
   "codemirror_mode": {
    "name": "ipython",
    "version": 3
   },
   "file_extension": ".py",
   "mimetype": "text/x-python",
   "name": "python",
   "nbconvert_exporter": "python",
   "pygments_lexer": "ipython3",
   "version": "3.8.16"
  }
 },
 "nbformat": 4,
 "nbformat_minor": 1
}
