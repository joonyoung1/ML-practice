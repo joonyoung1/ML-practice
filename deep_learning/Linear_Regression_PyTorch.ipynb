{
 "cells": [
  {
   "cell_type": "code",
   "execution_count": 1,
   "metadata": {
    "colab": {
     "base_uri": "https://localhost:8080/",
     "height": 439
    },
    "id": "36NAurqECxnn",
    "outputId": "be639cef-65df-4ccf-e1dc-64573dd51ced"
   },
   "outputs": [
    {
     "ename": "ModuleNotFoundError",
     "evalue": "No module named 'torch'",
     "output_type": "error",
     "traceback": [
      "\u001b[0;31m---------------------------------------------------------------------------\u001b[0m",
      "\u001b[0;31mModuleNotFoundError\u001b[0m                       Traceback (most recent call last)",
      "Input \u001b[0;32mIn [1]\u001b[0m, in \u001b[0;36m<cell line: 1>\u001b[0;34m()\u001b[0m\n\u001b[0;32m----> 1\u001b[0m \u001b[38;5;28;01mimport\u001b[39;00m \u001b[38;5;21;01mtorch\u001b[39;00m\n\u001b[1;32m      3\u001b[0m X \u001b[38;5;241m=\u001b[39m [\u001b[38;5;241m1\u001b[39m, \u001b[38;5;241m2\u001b[39m, \u001b[38;5;241m3\u001b[39m, \u001b[38;5;241m4\u001b[39m, \u001b[38;5;241m5\u001b[39m, \u001b[38;5;241m6\u001b[39m, \u001b[38;5;241m7\u001b[39m]\n\u001b[1;32m      4\u001b[0m Y \u001b[38;5;241m=\u001b[39m [\u001b[38;5;241m25000\u001b[39m, \u001b[38;5;241m55000\u001b[39m, \u001b[38;5;241m75000\u001b[39m, \u001b[38;5;241m110000\u001b[39m, \u001b[38;5;241m128000\u001b[39m, \u001b[38;5;241m155000\u001b[39m, \u001b[38;5;241m180000\u001b[39m]\n",
      "\u001b[0;31mModuleNotFoundError\u001b[0m: No module named 'torch'"
     ]
    }
   ],
   "source": [
    "import torch\n",
    "\n",
    "X = [1, 2, 3, 4, 5, 6, 7]\n",
    "Y = [25000, 55000, 75000, 110000, 128000, 155000, 180000]\n",
    "\n",
    "X = [[i] for i in X]\n",
    "Y = [[i] for i in Y]\n",
    "\n",
    "x_data = torch.Tensor(X)\n",
    "y_data = torch.Tensor(Y)\n",
    "  \n",
    "class LinearRegressionModel(torch.nn.Module): \n",
    "    def __init__(self, input_dim, output_dim):\n",
    "        super(LinearRegressionModel, self).__init__() \n",
    "        self.linear = torch.nn.Linear(input_dim, output_dim)\n",
    "    def forward(self, x): \n",
    "        y_pred = self.linear(x)\n",
    "        return y_pred\n",
    "\n",
    "model = LinearRegressionModel(1, 1)\n",
    "\n",
    "criterion = torch.nn.MSELoss()\n",
    "optimizer = torch.optim.SGD(model.parameters(), lr=0.001) \n",
    "\n",
    "for epoch in range(10001): \n",
    "    pred_y = model(x_data)\n",
    "    loss = criterion(pred_y, y_data)\n",
    "    optimizer.zero_grad() \n",
    "    loss.backward() \n",
    "    optimizer.step()\n",
    "    if epoch % 1000 == 0:\n",
    "        print(\"[ epoch: %d, cost: %.2f ]\" % (epoch, loss.data))\n",
    "        print(\"w = %.2f, b = %.2f\" % (model.linear.weight, model.linear.bias))\n",
    "\n",
    "print(\"f(x) = %.2fx + %.2f\" % (model.linear.weight, model.linear.bias))\n",
    "print(\"예측값: [%.2f]\" % (model(torch.Tensor([[8]]))))"
   ]
  },
  {
   "cell_type": "code",
   "execution_count": null,
   "metadata": {},
   "outputs": [],
   "source": []
  }
 ],
 "metadata": {
  "colab": {
   "collapsed_sections": [],
   "name": "Linear Regression PyTorch로 구현",
   "provenance": []
  },
  "kernelspec": {
   "display_name": "Python 3 (ipykernel)",
   "language": "python",
   "name": "python3"
  },
  "language_info": {
   "codemirror_mode": {
    "name": "ipython",
    "version": 3
   },
   "file_extension": ".py",
   "mimetype": "text/x-python",
   "name": "python",
   "nbconvert_exporter": "python",
   "pygments_lexer": "ipython3",
   "version": "3.8.13"
  }
 },
 "nbformat": 4,
 "nbformat_minor": 1
}
