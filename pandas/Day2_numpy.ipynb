{
 "cells": [
  {
   "cell_type": "markdown",
   "id": "ea929cb6",
   "metadata": {},
   "source": [
    "## I. Numpy 시작하기  "
   ]
  },
  {
   "cell_type": "markdown",
   "id": "bb723041",
   "metadata": {},
   "source": [
    "### Remind : 리스트"
   ]
  },
  {
   "cell_type": "code",
   "execution_count": 1,
   "id": "24c2984e",
   "metadata": {},
   "outputs": [
    {
     "name": "stdout",
     "output_type": "stream",
     "text": [
      "[1, 'two', 3.0]\n"
     ]
    }
   ],
   "source": [
    "arr = [1, \"two\", 3.0]\n",
    "\n",
    "print(arr)"
   ]
  },
  {
   "cell_type": "markdown",
   "id": "42fef111",
   "metadata": {},
   "source": [
    "### numpy 모듈 불러오기"
   ]
  },
  {
   "cell_type": "code",
   "execution_count": 2,
   "id": "79dcf3f2",
   "metadata": {},
   "outputs": [],
   "source": [
    "import numpy as np"
   ]
  },
  {
   "cell_type": "markdown",
   "id": "3e39a7c5",
   "metadata": {},
   "source": [
    "### 왜 numpy를 사용해야 할까요?"
   ]
  },
  {
   "cell_type": "markdown",
   "id": "7f49291a",
   "metadata": {},
   "source": [
    "**List**"
   ]
  },
  {
   "cell_type": "code",
   "execution_count": 3,
   "id": "019cf227",
   "metadata": {},
   "outputs": [
    {
     "name": "stdout",
     "output_type": "stream",
     "text": [
      "232 µs ± 10.3 µs per loop (mean ± std. dev. of 7 runs, 1,000 loops each)\n"
     ]
    }
   ],
   "source": [
    "L = range(1000)\n",
    "\n",
    "%timeit [i**2 for i in L]"
   ]
  },
  {
   "cell_type": "markdown",
   "id": "f97ed1c6",
   "metadata": {},
   "source": [
    "**numpy.array**"
   ]
  },
  {
   "cell_type": "code",
   "execution_count": 4,
   "id": "db921688",
   "metadata": {
    "scrolled": true
   },
   "outputs": [
    {
     "name": "stdout",
     "output_type": "stream",
     "text": [
      "1.12 µs ± 37.2 ns per loop (mean ± std. dev. of 7 runs, 1,000,000 loops each)\n"
     ]
    }
   ],
   "source": [
    "N = np.arange(1000)\n",
    "\n",
    "%timeit N**2"
   ]
  },
  {
   "cell_type": "markdown",
   "id": "6aaef030",
   "metadata": {},
   "source": [
    "### numpy.array\n",
    "\n",
    "numpy의 Container, array"
   ]
  },
  {
   "cell_type": "code",
   "execution_count": 5,
   "id": "ce246f53",
   "metadata": {},
   "outputs": [
    {
     "data": {
      "text/plain": [
       "array([1, 2, 3])"
      ]
     },
     "execution_count": 5,
     "metadata": {},
     "output_type": "execute_result"
    }
   ],
   "source": [
    "arr = np.array([1, 2, 3])\n",
    "\n",
    "arr"
   ]
  },
  {
   "cell_type": "code",
   "execution_count": 6,
   "id": "27a84907",
   "metadata": {},
   "outputs": [
    {
     "data": {
      "text/plain": [
       "array([[1, 2, 3],\n",
       "       [4, 5, 6],\n",
       "       [7, 8, 9]])"
      ]
     },
     "execution_count": 6,
     "metadata": {},
     "output_type": "execute_result"
    }
   ],
   "source": [
    "arr_2d = np.array([[1, 2 ,3], [4, 5, 6], [7, 8, 9]])\n",
    "\n",
    "arr_2d"
   ]
  },
  {
   "cell_type": "code",
   "execution_count": 7,
   "id": "51a63035",
   "metadata": {},
   "outputs": [
    {
     "data": {
      "text/plain": [
       "(3,)"
      ]
     },
     "execution_count": 7,
     "metadata": {},
     "output_type": "execute_result"
    }
   ],
   "source": [
    "arr.shape"
   ]
  },
  {
   "cell_type": "code",
   "execution_count": 8,
   "id": "49739f84",
   "metadata": {},
   "outputs": [
    {
     "data": {
      "text/plain": [
       "(3, 3)"
      ]
     },
     "execution_count": 8,
     "metadata": {},
     "output_type": "execute_result"
    }
   ],
   "source": [
    "arr_2d.shape"
   ]
  },
  {
   "cell_type": "markdown",
   "id": "0d75c71d",
   "metadata": {},
   "source": [
    "## II. Numpy로 연산하기"
   ]
  },
  {
   "cell_type": "markdown",
   "id": "c3f0d99e",
   "metadata": {},
   "source": [
    "### Vertor와 Scalar 사이의 연산\n",
    "\n",
    "벡터의 각 원소에 대해서 연산을 진행"
   ]
  },
  {
   "cell_type": "code",
   "execution_count": 9,
   "id": "8d69594f",
   "metadata": {},
   "outputs": [
    {
     "name": "stdout",
     "output_type": "stream",
     "text": [
      "더하기 : [6 7 8]\n",
      "빼기 : [-4 -3 -2]\n",
      "곱하기 : [ 5 10 15]\n",
      "나누기 : [0.2 0.4 0.6]\n"
     ]
    }
   ],
   "source": [
    "x = np.array([1, 2, 3])\n",
    "c = 5\n",
    "\n",
    "print(f\"더하기 : {x + c}\")\n",
    "print(f\"빼기 : {x - c}\")\n",
    "print(f\"곱하기 : {x * c}\")\n",
    "print(f\"나누기 : {x / c}\")"
   ]
  },
  {
   "cell_type": "markdown",
   "id": "9cfebb7d",
   "metadata": {},
   "source": [
    "### Vertor와 Vertor 사이의 연산\n",
    "\n",
    "벡터의 **같은 인덱스**끼리 연산을 진행"
   ]
  },
  {
   "cell_type": "code",
   "execution_count": 10,
   "id": "38e6e8a2",
   "metadata": {},
   "outputs": [
    {
     "name": "stdout",
     "output_type": "stream",
     "text": [
      "더하기 : [ 3 12 25]\n",
      "빼기 : [ -1  -6 -15]\n",
      "곱하기 : [  2  27 100]\n",
      "나누기 : [0.5        0.33333333 0.25      ]\n"
     ]
    }
   ],
   "source": [
    "y = np.array([1, 3, 5])\n",
    "z = np.array([2, 9, 20])\n",
    "\n",
    "print(f\"더하기 : {y + z}\")\n",
    "print(f\"빼기 : {y - z}\")\n",
    "print(f\"곱하기 : {y * z}\")\n",
    "print(f\"나누기 : {y / z}\")"
   ]
  },
  {
   "cell_type": "markdown",
   "id": "d82f3e20",
   "metadata": {},
   "source": [
    "### Array Indexing\n",
    "\n",
    "python의 리스트와 유사하게 진행"
   ]
  },
  {
   "cell_type": "code",
   "execution_count": 11,
   "id": "baf78982",
   "metadata": {},
   "outputs": [
    {
     "data": {
      "text/plain": [
       "1"
      ]
     },
     "execution_count": 11,
     "metadata": {},
     "output_type": "execute_result"
    }
   ],
   "source": [
    "w = np.array([[1, 2, 3, 4], [5, 6, 7, 8], [9, 10, 11, 12]])\n",
    "\n",
    "w[0, 0]"
   ]
  },
  {
   "cell_type": "code",
   "execution_count": 12,
   "id": "377d3e15",
   "metadata": {},
   "outputs": [
    {
     "data": {
      "text/plain": [
       "12"
      ]
     },
     "execution_count": 12,
     "metadata": {},
     "output_type": "execute_result"
    }
   ],
   "source": [
    "w[2, 3]"
   ]
  },
  {
   "cell_type": "code",
   "execution_count": 13,
   "id": "f5fe7c16",
   "metadata": {},
   "outputs": [
    {
     "data": {
      "text/plain": [
       "7"
      ]
     },
     "execution_count": 13,
     "metadata": {},
     "output_type": "execute_result"
    }
   ],
   "source": [
    "w[1, 2]"
   ]
  },
  {
   "cell_type": "markdown",
   "id": "658984d3",
   "metadata": {},
   "source": [
    "### Array Slicing\n",
    "\n",
    "python의 리스트와 유사하게 진행"
   ]
  },
  {
   "cell_type": "code",
   "execution_count": 14,
   "id": "6c1e5293",
   "metadata": {},
   "outputs": [
    {
     "data": {
      "text/plain": [
       "array([[2, 3],\n",
       "       [6, 7]])"
      ]
     },
     "execution_count": 14,
     "metadata": {},
     "output_type": "execute_result"
    }
   ],
   "source": [
    "w = np.array([[1, 2, 3, 4], [5, 6, 7, 8], [9, 10, 11, 12]])\n",
    "\n",
    "w[0:2, 1:3]"
   ]
  },
  {
   "cell_type": "code",
   "execution_count": 15,
   "id": "04e16d97",
   "metadata": {},
   "outputs": [
    {
     "data": {
      "text/plain": [
       "array([[1, 2, 3, 4],\n",
       "       [5, 6, 7, 8]])"
      ]
     },
     "execution_count": 15,
     "metadata": {},
     "output_type": "execute_result"
    }
   ],
   "source": [
    "w[0:2, 0:4]"
   ]
  },
  {
   "cell_type": "code",
   "execution_count": 16,
   "id": "6215ee68",
   "metadata": {},
   "outputs": [
    {
     "data": {
      "text/plain": [
       "array([[1, 2, 3, 4],\n",
       "       [5, 6, 7, 8]])"
      ]
     },
     "execution_count": 16,
     "metadata": {},
     "output_type": "execute_result"
    }
   ],
   "source": [
    "w[0:2]"
   ]
  },
  {
   "cell_type": "code",
   "execution_count": 17,
   "id": "60554b02",
   "metadata": {},
   "outputs": [
    {
     "data": {
      "text/plain": [
       "array([[1, 2, 3, 4],\n",
       "       [5, 6, 7, 8]])"
      ]
     },
     "execution_count": 17,
     "metadata": {},
     "output_type": "execute_result"
    }
   ],
   "source": [
    "w[0:2, :]"
   ]
  },
  {
   "cell_type": "code",
   "execution_count": 18,
   "id": "e86d22cc",
   "metadata": {},
   "outputs": [
    {
     "data": {
      "text/plain": [
       "array([[ 3,  4],\n",
       "       [ 7,  8],\n",
       "       [11, 12]])"
      ]
     },
     "execution_count": 18,
     "metadata": {},
     "output_type": "execute_result"
    }
   ],
   "source": [
    "w[0:3, 2:4]"
   ]
  },
  {
   "cell_type": "code",
   "execution_count": 19,
   "id": "3ad917fc",
   "metadata": {},
   "outputs": [
    {
     "data": {
      "text/plain": [
       "array([[ 3,  4],\n",
       "       [ 7,  8],\n",
       "       [11, 12]])"
      ]
     },
     "execution_count": 19,
     "metadata": {},
     "output_type": "execute_result"
    }
   ],
   "source": [
    "w[:, 2:4]"
   ]
  },
  {
   "cell_type": "markdown",
   "id": "eadfa5c0",
   "metadata": {},
   "source": [
    "### Array의 Broadcasting\n",
    "\n",
    "기본적으로 같은 Type의 data에 대해서만 연산이 적용 가능  \n",
    "하지만 만약에 피연산자가 연산 가능하도록 변환이 가능하다면 연산이 가능합니다. \n",
    "이를 **Broadcasting**이라고 합니다."
   ]
  },
  {
   "cell_type": "markdown",
   "id": "86ec74fd",
   "metadata": {},
   "source": [
    "### 1. M by N, M by 1"
   ]
  },
  {
   "cell_type": "code",
   "execution_count": 20,
   "id": "6b1dd0e4",
   "metadata": {},
   "outputs": [
    {
     "name": "stdout",
     "output_type": "stream",
     "text": [
      "[[1 2 3]\n",
      " [5 6 7]\n",
      " [7 8 9]]\n"
     ]
    }
   ],
   "source": [
    "a = np.array([[1, 2, 3], [4, 5, 6], [7, 8, 9]])\n",
    "x = np.array([0, 1, 0])\n",
    "\n",
    "x = x[:, None] # x를 전치\n",
    "print(a+x)"
   ]
  },
  {
   "cell_type": "markdown",
   "id": "81eeaa61",
   "metadata": {},
   "source": [
    "### 2. M by N, 1 by N"
   ]
  },
  {
   "cell_type": "code",
   "execution_count": 21,
   "id": "9bf9febf",
   "metadata": {},
   "outputs": [
    {
     "name": "stdout",
     "output_type": "stream",
     "text": [
      "[[ 0  2 -3]\n",
      " [ 0  5 -6]\n",
      " [ 0  8 -9]]\n"
     ]
    }
   ],
   "source": [
    "y = np.array([0, 1, -1])\n",
    "\n",
    "print(a * y)"
   ]
  },
  {
   "cell_type": "markdown",
   "id": "f0847649",
   "metadata": {},
   "source": [
    "### 3. M by 1, 1 by N"
   ]
  },
  {
   "cell_type": "code",
   "execution_count": 22,
   "id": "d1014883",
   "metadata": {},
   "outputs": [
    {
     "name": "stdout",
     "output_type": "stream",
     "text": [
      "[[ 3  1 -1]\n",
      " [ 4  2  0]\n",
      " [ 5  3  1]]\n"
     ]
    }
   ],
   "source": [
    "t = np.array([1, 2, 3])\n",
    "t = t[:, None]\n",
    "\n",
    "u = np.array([2, 0, -2])\n",
    "\n",
    "print(t + u)"
   ]
  },
  {
   "cell_type": "markdown",
   "id": "2c3ae0d8",
   "metadata": {},
   "source": [
    "## Ⅲ. Numpy로 선형대수 지식 끼얹기\n",
    "\n",
    "### A. basics"
   ]
  },
  {
   "cell_type": "markdown",
   "id": "c57a6b8d",
   "metadata": {},
   "source": [
    "### 영벡터(행렬)\n",
    "- 원소가 모두 0인 벡터(행렬)\n",
    "- `np.zeros(dim)`을 통해 생성, dim은 값, 혹은 튜플(, )"
   ]
  },
  {
   "cell_type": "code",
   "execution_count": 23,
   "id": "4030b5cb",
   "metadata": {},
   "outputs": [
    {
     "data": {
      "text/plain": [
       "array([0., 0., 0.])"
      ]
     },
     "execution_count": 23,
     "metadata": {},
     "output_type": "execute_result"
    }
   ],
   "source": [
    "np.zeros(3)"
   ]
  },
  {
   "cell_type": "code",
   "execution_count": 24,
   "id": "1969c18e",
   "metadata": {},
   "outputs": [
    {
     "data": {
      "text/plain": [
       "array([[[0., 0., 0.],\n",
       "        [0., 0., 0.],\n",
       "        [0., 0., 0.]],\n",
       "\n",
       "       [[0., 0., 0.],\n",
       "        [0., 0., 0.],\n",
       "        [0., 0., 0.]],\n",
       "\n",
       "       [[0., 0., 0.],\n",
       "        [0., 0., 0.],\n",
       "        [0., 0., 0.]]])"
      ]
     },
     "execution_count": 24,
     "metadata": {},
     "output_type": "execute_result"
    }
   ],
   "source": [
    "np.zeros((3, 3, 3))"
   ]
  },
  {
   "cell_type": "markdown",
   "id": "be8535a5",
   "metadata": {},
   "source": [
    "### 일행렬\n",
    "\n",
    "- 원소가 모두 1인 벡터(행렬)\n",
    "- `np.ones(dim)`을 통해 생성, dim은 값, 혹은 튜플(, )"
   ]
  },
  {
   "cell_type": "code",
   "execution_count": 25,
   "id": "5a8ad5f3",
   "metadata": {},
   "outputs": [
    {
     "data": {
      "text/plain": [
       "array([1., 1.])"
      ]
     },
     "execution_count": 25,
     "metadata": {},
     "output_type": "execute_result"
    }
   ],
   "source": [
    "np.ones(2)"
   ]
  },
  {
   "cell_type": "code",
   "execution_count": 26,
   "id": "6d061bf7",
   "metadata": {},
   "outputs": [
    {
     "data": {
      "text/plain": [
       "array([[1., 1., 1.],\n",
       "       [1., 1., 1.],\n",
       "       [1., 1., 1.]])"
      ]
     },
     "execution_count": 26,
     "metadata": {},
     "output_type": "execute_result"
    }
   ],
   "source": [
    "np.ones((3, 3))"
   ]
  },
  {
   "cell_type": "markdown",
   "id": "2cb25e76",
   "metadata": {},
   "source": [
    "### 대각행렬\n",
    "- Main Diagonal을 제외한 성분이 0인 행렬\n",
    "- `np.diag((main_diagonals))`을 통해 생성할 수 있음."
   ]
  },
  {
   "cell_type": "code",
   "execution_count": 27,
   "id": "16aa9d72",
   "metadata": {},
   "outputs": [
    {
     "data": {
      "text/plain": [
       "array([[2, 0],\n",
       "       [0, 4]])"
      ]
     },
     "execution_count": 27,
     "metadata": {},
     "output_type": "execute_result"
    }
   ],
   "source": [
    "np.diag((2, 4))"
   ]
  },
  {
   "cell_type": "code",
   "execution_count": 28,
   "id": "6ea3e90e",
   "metadata": {},
   "outputs": [
    {
     "data": {
      "text/plain": [
       "array([[1, 0, 0],\n",
       "       [0, 3, 0],\n",
       "       [0, 0, 5]])"
      ]
     },
     "execution_count": 28,
     "metadata": {},
     "output_type": "execute_result"
    }
   ],
   "source": [
    "np.diag((1, 3, 5))"
   ]
  },
  {
   "cell_type": "markdown",
   "id": "81b3549a",
   "metadata": {},
   "source": [
    "### 항등행렬\n",
    "- Main diagonal이 1이 대각행렬\n",
    "- `np.eye(n, (dtype=int, uint, float, complex, ...))`를 사용"
   ]
  },
  {
   "cell_type": "code",
   "execution_count": 29,
   "id": "d0b86eca",
   "metadata": {},
   "outputs": [
    {
     "data": {
      "text/plain": [
       "array([[1, 0],\n",
       "       [0, 1]])"
      ]
     },
     "execution_count": 29,
     "metadata": {},
     "output_type": "execute_result"
    }
   ],
   "source": [
    "np.eye(2, dtype=int)"
   ]
  },
  {
   "cell_type": "code",
   "execution_count": 30,
   "id": "c42bef7d",
   "metadata": {},
   "outputs": [
    {
     "data": {
      "text/plain": [
       "array([[1., 0., 0.],\n",
       "       [0., 1., 0.],\n",
       "       [0., 0., 1.]])"
      ]
     },
     "execution_count": 30,
     "metadata": {},
     "output_type": "execute_result"
    }
   ],
   "source": [
    "np.eye(3)"
   ]
  },
  {
   "cell_type": "markdown",
   "id": "1a03649a",
   "metadata": {},
   "source": [
    "### 행렬곱\n",
    "- 행렬간에 정의되는 곱 연산(dot product)\n",
    "- `np.dot()`, @를 사용"
   ]
  },
  {
   "cell_type": "code",
   "execution_count": 31,
   "id": "85b4e8eb",
   "metadata": {},
   "outputs": [
    {
     "data": {
      "text/plain": [
       "array([[ 7, 33],\n",
       "       [14, 36]])"
      ]
     },
     "execution_count": 31,
     "metadata": {},
     "output_type": "execute_result"
    }
   ],
   "source": [
    "mat_1 = np.array([[1, 4], [2, 3]])\n",
    "mat_2 = np.array([[7, 9], [0, 6]])\n",
    "\n",
    "mat_1.dot(mat_2)"
   ]
  },
  {
   "cell_type": "code",
   "execution_count": 32,
   "id": "d528d08e",
   "metadata": {},
   "outputs": [
    {
     "data": {
      "text/plain": [
       "array([[ 7, 33],\n",
       "       [14, 36]])"
      ]
     },
     "execution_count": 32,
     "metadata": {},
     "output_type": "execute_result"
    }
   ],
   "source": [
    "mat_1 @ mat_2"
   ]
  },
  {
   "cell_type": "markdown",
   "id": "37883372",
   "metadata": {},
   "source": [
    "### B. Furthermore"
   ]
  },
  {
   "cell_type": "markdown",
   "id": "760c847a",
   "metadata": {},
   "source": [
    "### 트레이스\n",
    "- Main Diagonal의 합\n",
    "- `np.trace()`를 사용"
   ]
  },
  {
   "cell_type": "code",
   "execution_count": 33,
   "id": "bdd14fc0",
   "metadata": {},
   "outputs": [
    {
     "data": {
      "text/plain": [
       "array([[1, 2, 3],\n",
       "       [4, 5, 6],\n",
       "       [7, 8, 9]])"
      ]
     },
     "execution_count": 33,
     "metadata": {},
     "output_type": "execute_result"
    }
   ],
   "source": [
    "arr = np.array([[1, 2, 3], [4, 5, 6], [7, 8, 9]])\n",
    "\n",
    "arr"
   ]
  },
  {
   "cell_type": "code",
   "execution_count": 34,
   "id": "ddf33e29",
   "metadata": {},
   "outputs": [
    {
     "data": {
      "text/plain": [
       "15"
      ]
     },
     "execution_count": 34,
     "metadata": {},
     "output_type": "execute_result"
    }
   ],
   "source": [
    "arr.trace()"
   ]
  },
  {
   "cell_type": "code",
   "execution_count": 35,
   "id": "31b64ea9",
   "metadata": {},
   "outputs": [
    {
     "data": {
      "text/plain": [
       "2"
      ]
     },
     "execution_count": 35,
     "metadata": {},
     "output_type": "execute_result"
    }
   ],
   "source": [
    "np.eye(2, dtype=int).trace()"
   ]
  },
  {
   "cell_type": "markdown",
   "id": "e6f45d3e",
   "metadata": {},
   "source": [
    "### 행렬식\n",
    "- 행렬을 대표하는 값들 중 하나\n",
    "- 선형변환 과정에서 Vector의 Scaling 척도\n",
    "- `np.linalg.det()`으로 계산"
   ]
  },
  {
   "cell_type": "code",
   "execution_count": 36,
   "id": "d9622c62",
   "metadata": {},
   "outputs": [
    {
     "data": {
      "text/plain": [
       "array([[2, 3],\n",
       "       [1, 6]])"
      ]
     },
     "execution_count": 36,
     "metadata": {},
     "output_type": "execute_result"
    }
   ],
   "source": [
    "arr_2 = np.array([[2, 3], [1, 6]])\n",
    "\n",
    "arr_2"
   ]
  },
  {
   "cell_type": "code",
   "execution_count": 37,
   "id": "1e13a700",
   "metadata": {},
   "outputs": [
    {
     "data": {
      "text/plain": [
       "9.000000000000002"
      ]
     },
     "execution_count": 37,
     "metadata": {},
     "output_type": "execute_result"
    }
   ],
   "source": [
    "np.linalg.det(arr_2)"
   ]
  },
  {
   "cell_type": "code",
   "execution_count": 38,
   "id": "7354e4ee",
   "metadata": {},
   "outputs": [
    {
     "data": {
      "text/plain": [
       "array([[1, 4, 7],\n",
       "       [2, 5, 8],\n",
       "       [3, 6, 9]])"
      ]
     },
     "execution_count": 38,
     "metadata": {},
     "output_type": "execute_result"
    }
   ],
   "source": [
    "arr_3 = np.array([[1, 4, 7], [2, 5, 8], [3, 6, 9]])\n",
    "\n",
    "arr_3"
   ]
  },
  {
   "cell_type": "code",
   "execution_count": 39,
   "id": "adcf66bd",
   "metadata": {},
   "outputs": [
    {
     "data": {
      "text/plain": [
       "0.0"
      ]
     },
     "execution_count": 39,
     "metadata": {},
     "output_type": "execute_result"
    }
   ],
   "source": [
    "np.linalg.det(arr_3)"
   ]
  },
  {
   "cell_type": "markdown",
   "id": "d95d1f30",
   "metadata": {},
   "source": [
    "### 역행렬\n",
    "- 행렬 A에 대해 AB = BA = I를 만족하는 행렬 B = A^-1\n",
    "- `np.linalg.inv()`로 계산"
   ]
  },
  {
   "cell_type": "code",
   "execution_count": 40,
   "id": "cb305cbe",
   "metadata": {},
   "outputs": [
    {
     "data": {
      "text/plain": [
       "array([[1, 4],\n",
       "       [2, 3]])"
      ]
     },
     "execution_count": 40,
     "metadata": {},
     "output_type": "execute_result"
    }
   ],
   "source": [
    "mat = np.array([[1, 4], [2, 3]])\n",
    "\n",
    "mat"
   ]
  },
  {
   "cell_type": "code",
   "execution_count": 41,
   "id": "fc2b6613",
   "metadata": {},
   "outputs": [
    {
     "data": {
      "text/plain": [
       "array([[-0.6,  0.8],\n",
       "       [ 0.4, -0.2]])"
      ]
     },
     "execution_count": 41,
     "metadata": {},
     "output_type": "execute_result"
    }
   ],
   "source": [
    "mat_inv = np.linalg.inv(mat)\n",
    "\n",
    "mat_inv"
   ]
  },
  {
   "cell_type": "code",
   "execution_count": 42,
   "id": "60860def",
   "metadata": {},
   "outputs": [
    {
     "data": {
      "text/plain": [
       "array([[ 1.00000000e+00,  0.00000000e+00],\n",
       "       [-1.11022302e-16,  1.00000000e+00]])"
      ]
     },
     "execution_count": 42,
     "metadata": {},
     "output_type": "execute_result"
    }
   ],
   "source": [
    "mat @ mat_inv"
   ]
  },
  {
   "cell_type": "markdown",
   "id": "ff6dc2bc",
   "metadata": {},
   "source": [
    "### 고유값과 고유벡터\n",
    "- 정방행렬(nxn) A에 대해서 $Ax = \\lambda x$을 만족하는 $\\lambda$와 x를 각각 고유값과 고유벡터라고 한다.\n",
    "- np.linalg.eig()로 계산"
   ]
  },
  {
   "cell_type": "code",
   "execution_count": 43,
   "id": "c32dddff",
   "metadata": {},
   "outputs": [
    {
     "data": {
      "text/plain": [
       "array([[ 2,  0, -2],\n",
       "       [ 1,  1, -2],\n",
       "       [ 0,  0,  1]])"
      ]
     },
     "execution_count": 43,
     "metadata": {},
     "output_type": "execute_result"
    }
   ],
   "source": [
    "mat = np.array([[2, 0, -2], [1, 1, -2], [0, 0, 1]])\n",
    "\n",
    "mat"
   ]
  },
  {
   "cell_type": "code",
   "execution_count": 44,
   "id": "a9b04fa5",
   "metadata": {},
   "outputs": [
    {
     "data": {
      "text/plain": [
       "(array([1., 2., 1.]),\n",
       " array([[0.        , 0.70710678, 0.89442719],\n",
       "        [1.        , 0.70710678, 0.        ],\n",
       "        [0.        , 0.        , 0.4472136 ]]))"
      ]
     },
     "execution_count": 44,
     "metadata": {},
     "output_type": "execute_result"
    }
   ],
   "source": [
    "np.linalg.eig(mat)"
   ]
  },
  {
   "cell_type": "markdown",
   "id": "93c5d827",
   "metadata": {},
   "source": [
    "#### Validation"
   ]
  },
  {
   "cell_type": "code",
   "execution_count": 45,
   "id": "5474fb31",
   "metadata": {},
   "outputs": [
    {
     "data": {
      "text/plain": [
       "array([1., 2., 1.])"
      ]
     },
     "execution_count": 45,
     "metadata": {},
     "output_type": "execute_result"
    }
   ],
   "source": [
    "eig_val, eig_vec = np.linalg.eig(mat)\n",
    "\n",
    "eig_val"
   ]
  },
  {
   "cell_type": "code",
   "execution_count": 46,
   "id": "a7652219",
   "metadata": {},
   "outputs": [
    {
     "data": {
      "text/plain": [
       "array([[0.        , 0.70710678, 0.89442719],\n",
       "       [1.        , 0.70710678, 0.        ],\n",
       "       [0.        , 0.        , 0.4472136 ]])"
      ]
     },
     "execution_count": 46,
     "metadata": {},
     "output_type": "execute_result"
    }
   ],
   "source": [
    "eig_vec"
   ]
  },
  {
   "cell_type": "code",
   "execution_count": 47,
   "id": "c6b0ac73",
   "metadata": {},
   "outputs": [
    {
     "data": {
      "text/plain": [
       "array([0., 1., 0.])"
      ]
     },
     "execution_count": 47,
     "metadata": {},
     "output_type": "execute_result"
    }
   ],
   "source": [
    "mat @ eig_vec[:, 0] # Ax"
   ]
  },
  {
   "cell_type": "code",
   "execution_count": 48,
   "id": "53f35b8f",
   "metadata": {},
   "outputs": [
    {
     "data": {
      "text/plain": [
       "array([0., 1., 0.])"
      ]
     },
     "execution_count": 48,
     "metadata": {},
     "output_type": "execute_result"
    }
   ],
   "source": [
    "eig_val[0] * eig_vec[:, 0] # (lambda)x"
   ]
  },
  {
   "cell_type": "markdown",
   "id": "3dd8618c",
   "metadata": {},
   "source": [
    "## IV. Exercises"
   ]
  },
  {
   "cell_type": "markdown",
   "id": "4d9a3373",
   "metadata": {},
   "source": [
    "#### 1. 어떤 벡터가 주어졌을 때 L2 norm을 구하는 함수 `get_L2_norm()`을 작성하세요\n",
    "- 매개변수 : 1차원 벡터(`np.array`)\n",
    "- 반환값 : 인자로 주어진 벡터의 L2 Norm값 (`number`)"
   ]
  },
  {
   "cell_type": "code",
   "execution_count": 1,
   "id": "991761a1",
   "metadata": {},
   "outputs": [],
   "source": [
    "def get_L2_norm(array):\n",
    "    return np.linalg.norm(array)"
   ]
  },
  {
   "cell_type": "markdown",
   "id": "ccae1eca",
   "metadata": {},
   "source": [
    "#### 2. 어떤 행렬이 singular matrix인지 확인하는 함수 `is_singular()`를 작성하세요\n",
    "- 매개변수 : 2차원 벡터(`np.array`)\n",
    "- 반환값 : 인자로 주어진 벡터가 singular하면 True, non-singular하면 False를 반환"
   ]
  },
  {
   "cell_type": "code",
   "execution_count": 2,
   "id": "627783b8",
   "metadata": {},
   "outputs": [],
   "source": [
    "def is_singular(array):\n",
    "    return np.linalg.det(array) == 0"
   ]
  }
 ],
 "metadata": {
  "kernelspec": {
   "display_name": "Python 3 (ipykernel)",
   "language": "python",
   "name": "python3"
  },
  "language_info": {
   "codemirror_mode": {
    "name": "ipython",
    "version": 3
   },
   "file_extension": ".py",
   "mimetype": "text/x-python",
   "name": "python",
   "nbconvert_exporter": "python",
   "pygments_lexer": "ipython3",
   "version": "3.8.13"
  }
 },
 "nbformat": 4,
 "nbformat_minor": 5
}
